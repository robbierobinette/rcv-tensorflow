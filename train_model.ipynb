{
 "cells": [
  {
   "cell_type": "code",
   "execution_count": 9,
   "metadata": {
    "collapsed": true
   },
   "outputs": [],
   "source": [
    "\n",
    "import os.path\n",
    "import pickle\n",
    "\n",
    "from Ballot import Ballot\n",
    "from CandidateModel import CandidateModel\n",
    "from DefaultConfigOptions import *\n",
    "from ElectionConstructor import ElectionConstructor, construct_irv, construct_h2h\n",
    "from ModelStats import ModelStats\n",
    "from NDPopulation import NDPopulation\n",
    "from ProcessResult import ProcessResult\n",
    "from Timings import Timings\n",
    "from PluralityElection import PluralityElection\n"
   ]
  },
  {
   "cell_type": "code",
   "execution_count": 10,
   "outputs": [],
   "source": [
    "def create_model_and_population(ideology_bins: int, ideology_dim: int) -> (CandidateModel, NDPopulation):\n",
    "    ideology_bins = 64\n",
    "    hidden_ratio = 4\n",
    "    n_hidden = hidden_ratio * ideology_bins * ideology_dim\n",
    "    n_latent = ideology_bins * ideology_dim\n",
    "    batch_size = 128\n",
    "    learn_rate = .001\n",
    "\n",
    "    model = CandidateModel(ideology_bins=ideology_bins,\n",
    "                                     ideology_dim=ideology_dim,\n",
    "                                     n_hidden=n_hidden,\n",
    "                                     n_latent = n_latent,\n",
    "                                     learn_rate= learn_rate)\n",
    "\n",
    "    population_means = np.zeros(shape=(ideology_dim,))\n",
    "    population_stddev = np.ones(shape=(ideology_dim,))\n",
    "    pop = NDPopulation(population_means, population_stddev)\n",
    "    return model, pop"
   ],
   "metadata": {
    "collapsed": false,
    "pycharm": {
     "name": "#%%\n"
    }
   }
  },
  {
   "cell_type": "code",
   "execution_count": 11,
   "outputs": [],
   "source": [
    "def measure_representation(candidate: Candidate, voters: List[Voter]) -> float:\n",
    "    n_voters = len(voters)\n",
    "    balance = []\n",
    "    for d in range(candidate.ideology.dim):\n",
    "        lc = len([v for v in voters if v.ideology.vec[d] < candidate.ideology.vec[d]])\n",
    "        balance.append(min(lc / n_voters, 1 - lc / n_voters))\n",
    "    return float(np.mean(balance))"
   ],
   "metadata": {
    "collapsed": false,
    "pycharm": {
     "name": "#%%\n"
    }
   }
  },
  {
   "cell_type": "code",
   "execution_count": 12,
   "outputs": [],
   "source": [
    "def gen_non_model_candidates(model: CandidateModel, population: NDPopulation) -> List[Candidate]:\n",
    "    candidates: List[Candidate] = []\n",
    "    if model.ready():\n",
    "        if np.random.choice([True, False]):\n",
    "            candidates += gen_pilot_candidates(population, .8)\n",
    "        else:\n",
    "            candidates += gen_random_candidates(population, 3)\n",
    "    else:\n",
    "        candidates += gen_pilot_candidates(population, .6)\n",
    "        candidates += gen_random_candidates(population, 3)\n",
    "\n",
    "    np.random.shuffle(candidates)\n",
    "    return candidates\n",
    "\n",
    "def gen_pilot_candidates(population: NDPopulation, spacing: float) -> List[Candidate]:\n",
    "    candidates = []\n",
    "    dim = population.dim\n",
    "    d = spacing\n",
    "    fuzz = .05\n",
    "    c1_vec = np.random.normal(0, .01, dim)\n",
    "    c1_vec[0] += np.random.normal(d, fuzz)\n",
    "    candidates.append( Candidate(\"P-R\", Independents, ideology=Ideology(c1_vec), quality=0))\n",
    "\n",
    "    c2_vec = np.random.normal(0, .01, dim)\n",
    "    c2_vec[0] -= np.random.normal(d, fuzz)\n",
    "    candidates.append(Candidate(\"P-L\", Independents, ideology=Ideology(c2_vec), quality=0))\n",
    "\n",
    "    c3_vec = np.random.normal(0, .02, dim)\n",
    "    candidates.append(Candidate(\"P-C\", Independents, ideology=Ideology(c3_vec), quality=0))\n",
    "\n",
    "    return candidates\n",
    "\n",
    "def gen_random_candidates(population: NDPopulation, n: int)-> List[Candidate]:\n",
    "    candidates = []\n",
    "    for i in range(3):\n",
    "        ivec = population.unit_sample_voter().ideology.vec * .5\n",
    "        candidates.append(Candidate(\"r-\" + str(i), Independents, Ideology(ivec), 0))\n",
    "\n",
    "    return candidates\n",
    "\n",
    "\n",
    "\n",
    "def run_sample_election(model: CandidateModel, process: ElectionConstructor, population: NDPopulation, train: bool):\n",
    "    candidates = []\n",
    "    model_entries = set(np.random.choice(range(6), 3, replace=False))\n",
    "    r_candidates = gen_non_model_candidates(model, population)\n",
    "    for i in range(6):\n",
    "        if i in model_entries and model.ready():\n",
    "            ideology = Ideology(model.choose_ideology(candidates))\n",
    "            c = Candidate(\"m-\" + str(i), Independents, ideology, 0)\n",
    "        else:\n",
    "            if train:\n",
    "                c = r_candidates.pop()\n",
    "            else:\n",
    "                ideology = population.unit_sample_voter().ideology\n",
    "                c = Candidate(\"r-\" + str(i), Independents, ideology, 0)\n",
    "\n",
    "        candidates += [c]\n",
    "\n",
    "    voters = population.generate_unit_voters(1000)\n",
    "    ballots = [Ballot(v, candidates, unit_election_config) for v in voters]\n",
    "    result = process.run(ballots, set(candidates))\n",
    "    winner = result.winner()\n",
    "    balance = measure_representation(winner, voters)\n",
    "\n",
    "    return winner, candidates, balance\n"
   ],
   "metadata": {
    "collapsed": false,
    "pycharm": {
     "name": "#%%\n"
    }
   }
  },
  {
   "cell_type": "code",
   "execution_count": 13,
   "outputs": [],
   "source": [
    "\n",
    "\n",
    "def train_candidate_model(model: CandidateModel, process: ElectionConstructor, population: NDPopulation):\n",
    "    timings = Timings()\n",
    "    stats = ModelStats()\n",
    "    first = True\n",
    "    while model.global_step < 5000:\n",
    "        winner, candidates, balance = run_sample_election(model, process, population, True)\n",
    "        for i in range(len(candidates)):\n",
    "            model.add_sample_from_candidates(candidates[i], candidates[0:i], winner)\n",
    "\n",
    "        if model.ready():\n",
    "            if first:\n",
    "                print(\"starting to train\")\n",
    "                first = False\n",
    "\n",
    "            stats.update(winner, candidates, balance)\n",
    "            with timings.time_block(\"model.train\"):\n",
    "                model.train(128)\n",
    "            s = model.global_step\n",
    "            if (s < 100 and s % 10 == 0) or (s < 1000 and s % 100 == 0) or s % 1000 == 0:\n",
    "                stats.print(process.name, model.global_step)\n",
    "                if model.global_step < 10000:\n",
    "                    stats.reset()\n",
    "\n",
    "    timings.print()"
   ],
   "metadata": {
    "collapsed": false,
    "pycharm": {
     "name": "#%%\n"
    }
   }
  },
  {
   "cell_type": "code",
   "execution_count": 14,
   "outputs": [],
   "source": [
    "def check_stats(stats: ModelStats, model: CandidateModel, process: ElectionConstructor, population: NDPopulation):\n",
    "    results=[]\n",
    "    timings = Timings()\n",
    "    for i in range(1000):\n",
    "        winner, candidates, balance = run_sample_election(model, process, population, train=False)\n",
    "        stats.update(winner, candidates, balance)"
   ],
   "metadata": {
    "collapsed": false,
    "pycharm": {
     "name": "#%%\n"
    }
   }
  },
  {
   "cell_type": "code",
   "execution_count": 15,
   "outputs": [],
   "source": [
    "def run_parameter_set(process: ElectionConstructor, ibins: int, dim: int):\n",
    "    save_path = \"models/cm-%s-%03d-%dD.p\" % (process.name, ibins, dim)\n",
    "    model, population = create_model_and_population(ibins, dim)\n",
    "    if os.path.exists(save_path):\n",
    "        with open(save_path, \"rb\") as f:\n",
    "            model: CandidateModel = pickle.load(f)\n",
    "    else:\n",
    "        train_candidate_model(model, process, population)\n",
    "        # Saving the model file is not working at this time.\n",
    "        # model.save_to_file(save_path)\n",
    "\n",
    "    stats = ModelStats()\n",
    "    check_stats(stats, model, process, population)\n",
    "    return stats, model\n"
   ],
   "metadata": {
    "collapsed": false,
    "pycharm": {
     "name": "#%%\n"
    }
   }
  },
  {
   "cell_type": "code",
   "execution_count": 16,
   "outputs": [
    {
     "name": "stdout",
     "output_type": "stream",
     "text": [
      "dim-1 pilot spacing  0.20 P-C => 0 P-L => 47 P-R => 53\n",
      "dim-2 pilot spacing  0.20 P-C => 5 P-L => 42 P-R => 53\n",
      "dim-3 pilot spacing  0.20 P-C => 10 P-L => 40 P-R => 50\n",
      "dim-4 pilot spacing  0.20 P-C => 22 P-L => 38 P-R => 40\n",
      "dim-1 pilot spacing  0.30 P-C => 0 P-L => 53 P-R => 47\n",
      "dim-2 pilot spacing  0.30 P-C => 0 P-L => 46 P-R => 54\n",
      "dim-3 pilot spacing  0.30 P-C => 2 P-L => 53 P-R => 45\n",
      "dim-4 pilot spacing  0.30 P-C => 6 P-L => 53 P-R => 41\n",
      "dim-1 pilot spacing  0.40 P-C => 0 P-L => 45 P-R => 55\n",
      "dim-2 pilot spacing  0.40 P-C => 0 P-L => 45 P-R => 55\n",
      "dim-3 pilot spacing  0.40 P-C => 0 P-L => 49 P-R => 51\n",
      "dim-4 pilot spacing  0.40 P-C => 1 P-L => 50 P-R => 49\n",
      "dim-1 pilot spacing  0.50 P-C => 0 P-L => 41 P-R => 59\n",
      "dim-2 pilot spacing  0.50 P-C => 0 P-L => 47 P-R => 53\n",
      "dim-3 pilot spacing  0.50 P-C => 0 P-L => 45 P-R => 55\n",
      "dim-4 pilot spacing  0.50 P-C => 0 P-L => 52 P-R => 48\n",
      "dim-1 pilot spacing  0.60 P-C => 0 P-L => 45 P-R => 55\n",
      "dim-2 pilot spacing  0.60 P-C => 0 P-L => 50 P-R => 50\n",
      "dim-3 pilot spacing  0.60 P-C => 0 P-L => 47 P-R => 53\n",
      "dim-4 pilot spacing  0.60 P-C => 2 P-L => 51 P-R => 47\n",
      "dim-1 pilot spacing  0.70 P-C => 2 P-L => 59 P-R => 39\n",
      "dim-2 pilot spacing  0.70 P-C => 0 P-L => 51 P-R => 49\n",
      "dim-3 pilot spacing  0.70 P-C => 4 P-L => 44 P-R => 52\n",
      "dim-4 pilot spacing  0.70 P-C => 4 P-L => 53 P-R => 43\n",
      "dim-1 pilot spacing  0.80 P-C => 20 P-L => 44 P-R => 36\n",
      "dim-2 pilot spacing  0.80 P-C => 22 P-L => 37 P-R => 41\n",
      "dim-3 pilot spacing  0.80 P-C => 20 P-L => 48 P-R => 32\n",
      "dim-4 pilot spacing  0.80 P-C => 40 P-L => 30 P-R => 30\n",
      "dim-1 pilot spacing  0.90 P-C => 86 P-L => 5 P-R => 9\n",
      "dim-2 pilot spacing  0.90 P-C => 85 P-L => 11 P-R => 4\n",
      "dim-3 pilot spacing  0.90 P-C => 81 P-L => 10 P-R => 9\n",
      "dim-4 pilot spacing  0.90 P-C => 93 P-L => 3 P-R => 4\n",
      "dim-1 pilot spacing  1.00 P-C => 99 P-L => 1\n",
      "dim-2 pilot spacing  1.00 P-C => 100\n",
      "dim-3 pilot spacing  1.00 P-C => 99 P-R => 1\n",
      "dim-4 pilot spacing  1.00 P-C => 100\n"
     ]
    }
   ],
   "source": [
    "def review_model_candidates():\n",
    "    ibins = 64\n",
    "    for spacing in [.2, .3, .4, .5, .6, .7, .8, .9, 1.0]:\n",
    "        for dim in [1,2,3,4]:\n",
    "            names = {}\n",
    "            model, population = create_model_and_population(ibins, dim)\n",
    "            process = ElectionConstructor(constructor=construct_irv, name=\"Instant Runoff\")\n",
    "            stats = ModelStats()\n",
    "            for i in range(100):\n",
    "\n",
    "                candidates = gen_pilot_candidates(population, spacing)\n",
    "\n",
    "                voters = population.generate_unit_voters(1000)\n",
    "                ballots = [Ballot(v, candidates, unit_election_config) for v in voters]\n",
    "                result = process.run(ballots, set(candidates))\n",
    "                winner = result.winner()\n",
    "                balance = measure_representation(winner, voters)\n",
    "                stats.update(winner, candidates, balance)\n",
    "\n",
    "                if not winner.name in names:\n",
    "                    names[winner.name] = 0\n",
    "                names[winner.name] += 1\n",
    "\n",
    "                plurality = PluralityElection(ballots, set(candidates))\n",
    "                r = plurality.result()\n",
    "\n",
    "                # for c in candidates:\n",
    "                #     print(\"[%s % 6.2f  %4d]\" % (c.name, c.ideology.vec[0], r.vote_totals[c]), end= '')\n",
    "                # print(\"d:% 6.2f %s \" % (candidates[0].ideology.vec[0] - candidates[1].ideology.vec[0], winner.name))\n",
    "\n",
    "            # stats.print(\"dim-%d\" % dim, 0)\n",
    "            print(\"dim-%d pilot spacing %5.2f\" % (dim, spacing), end=\"\")\n",
    "            if \"P-C\" not in names:\n",
    "                names[\"P-C\"] = 0\n",
    "            kk = list(names.keys())\n",
    "            kk.sort(key=lambda k: k)\n",
    "            for k in kk:\n",
    "                print(\" %s => %d\" % (k, names[k]), end = \"\")\n",
    "            print(\"\")\n",
    "\n",
    "review_model_candidates()"
   ],
   "metadata": {
    "collapsed": false,
    "pycharm": {
     "name": "#%%\n"
    }
   }
  },
  {
   "cell_type": "code",
   "execution_count": 19,
   "outputs": [
    {
     "name": "stdout",
     "output_type": "stream",
     "text": [
      "starting to train\n",
      " Instant Runoff     10,    10 random     12/     1  8.33% O:  0.57 model     48/     9 18.75% O:  0.53 chance of model_winner = 90.00%\n",
      " Instant Runoff     20,    10 random      6/     1 16.67% O:  0.40 model     54/     9 16.67% O:  0.54 chance of model_winner = 90.00%\n",
      " Instant Runoff     30,    10 random     21/     2  9.52% O:  0.42 model     39/     8 20.51% O:  0.44 chance of model_winner = 80.00%\n",
      " Instant Runoff     40,    10 random     12/     2 16.67% O:  0.65 model     48/     8 16.67% O:  0.59 chance of model_winner = 80.00%\n",
      " Instant Runoff     50,    10 random     18/     3 16.67% O:  0.59 model     42/     7 16.67% O:  0.58 chance of model_winner = 70.00%\n",
      " Instant Runoff     60,    10 random     12/     2 16.67% O:  0.48 model     48/     8 16.67% O:  0.58 chance of model_winner = 80.00%\n",
      " Instant Runoff     70,    10 random     18/     1  5.56% O:  0.47 model     42/     9 21.43% O:  0.56 chance of model_winner = 90.00%\n",
      " Instant Runoff     80,    10 random     21/     1  4.76% O:  0.57 model     39/     9 23.08% O:  0.58 chance of model_winner = 90.00%\n",
      " Instant Runoff     90,    10 random      6/     1 16.67% O:  0.51 model     54/     9 16.67% O:  0.61 chance of model_winner = 90.00%\n",
      " Instant Runoff    100,    10 random     15/     1  6.67% O:  0.46 model     45/     9 20.00% O:  0.61 chance of model_winner = 90.00%\n",
      " Instant Runoff    200,   100 random    174/    14  8.05% O:  0.58 model    426/    86 20.19% O:  0.55 chance of model_winner = 86.00%\n",
      " Instant Runoff    300,   100 random    162/     8  4.94% O:  0.48 model    438/    92 21.00% O:  0.55 chance of model_winner = 92.00%\n",
      " Instant Runoff    400,   100 random    168/    12  7.14% O:  0.53 model    432/    88 20.37% O:  0.55 chance of model_winner = 88.00%\n",
      " Instant Runoff    500,   100 random    153/     8  5.23% O:  0.47 model    447/    92 20.58% O:  0.53 chance of model_winner = 92.00%\n",
      " Instant Runoff    600,   100 random    159/    11  6.92% O:  0.41 model    441/    89 20.18% O:  0.53 chance of model_winner = 89.00%\n",
      " Instant Runoff    700,   100 random    135/    11  8.15% O:  0.55 model    465/    89 19.14% O:  0.55 chance of model_winner = 89.00%\n",
      " Instant Runoff    800,   100 random    150/     7  4.67% O:  0.50 model    450/    93 20.67% O:  0.51 chance of model_winner = 93.00%\n",
      " Instant Runoff    900,   100 random    153/     7  4.58% O:  0.43 model    447/    93 20.81% O:  0.52 chance of model_winner = 93.00%\n",
      " Instant Runoff   1000,   100 random    141/     9  6.38% O:  0.42 model    459/    91 19.83% O:  0.53 chance of model_winner = 91.00%\n",
      " Instant Runoff   2000,  1000 random   1503/    73  4.86% O:  0.49 model   4497/   927 20.61% O:  0.52 chance of model_winner = 92.70%\n",
      " Instant Runoff   3000,  1000 random   1422/    72  5.06% O:  0.53 model   4578/   928 20.27% O:  0.53 chance of model_winner = 92.80%\n",
      " Instant Runoff   4000,  1000 random   1497/    74  4.94% O:  0.52 model   4503/   926 20.56% O:  0.52 chance of model_winner = 92.60%\n",
      " Instant Runoff   5000,  1000 random   1551/    74  4.77% O:  0.50 model   4449/   926 20.81% O:  0.52 chance of model_winner = 92.60%\n",
      "         model.train 5000 1813.747  0.36275\n",
      " Instant Runoff ib 64 4D      0,  1000 random   3000/    18  0.60% O:  0.47 model   3000/   982 32.73% O:  0.50 chance of model_winner = 98.20%\n",
      "starting to train\n",
      "   Head-to-Head     10,    10 random     18/     0  0.00% O:  0.00 model     42/    10 23.81% O:  0.10 chance of model_winner = 100.00%\n",
      "   Head-to-Head     20,    10 random     15/     0  0.00% O:  0.00 model     45/    10 22.22% O:  0.10 chance of model_winner = 100.00%\n",
      "   Head-to-Head     30,    10 random     15/     0  0.00% O:  0.00 model     45/    10 22.22% O:  0.10 chance of model_winner = 100.00%\n",
      "   Head-to-Head     40,    10 random     24/     0  0.00% O:  0.00 model     36/    10 27.78% O:  0.11 chance of model_winner = 100.00%\n",
      "   Head-to-Head     50,    10 random     15/     0  0.00% O:  0.00 model     45/    10 22.22% O:  0.11 chance of model_winner = 100.00%\n",
      "   Head-to-Head     60,    10 random     18/     0  0.00% O:  0.00 model     42/    10 23.81% O:  0.09 chance of model_winner = 100.00%\n",
      "   Head-to-Head     70,    10 random     21/     0  0.00% O:  0.00 model     39/    10 25.64% O:  0.09 chance of model_winner = 100.00%\n",
      "   Head-to-Head     80,    10 random     18/     0  0.00% O:  0.00 model     42/    10 23.81% O:  0.10 chance of model_winner = 100.00%\n",
      "   Head-to-Head     90,    10 random     12/     0  0.00% O:  0.00 model     48/    10 20.83% O:  0.09 chance of model_winner = 100.00%\n",
      "   Head-to-Head    100,    10 random     15/     1  6.67% O:  0.07 model     45/     9 20.00% O:  0.09 chance of model_winner = 90.00%\n",
      "   Head-to-Head    200,   100 random    126/     2  1.59% O:  0.65 model    474/    98 20.68% O:  0.08 chance of model_winner = 98.00%\n",
      "   Head-to-Head    300,   100 random    174/     1  0.57% O:  0.22 model    426/    99 23.24% O:  0.11 chance of model_winner = 99.00%\n",
      "   Head-to-Head    400,   100 random    132/     1  0.76% O:  0.31 model    468/    99 21.15% O:  0.09 chance of model_winner = 99.00%\n",
      "   Head-to-Head    500,   100 random    123/     0  0.00% O:  0.00 model    477/   100 20.96% O:  0.09 chance of model_winner = 100.00%\n",
      "   Head-to-Head    600,   100 random    171/     0  0.00% O:  0.00 model    429/   100 23.31% O:  0.09 chance of model_winner = 100.00%\n",
      "   Head-to-Head    700,   100 random    174/     0  0.00% O:  0.00 model    426/   100 23.47% O:  0.09 chance of model_winner = 100.00%\n",
      "   Head-to-Head    800,   100 random    132/     0  0.00% O:  0.00 model    468/   100 21.37% O:  0.08 chance of model_winner = 100.00%\n",
      "   Head-to-Head    900,   100 random    114/     1  0.88% O:  0.78 model    486/    99 20.37% O:  0.08 chance of model_winner = 99.00%\n",
      "   Head-to-Head   1000,   100 random    147/     2  1.36% O:  0.23 model    453/    98 21.63% O:  0.09 chance of model_winner = 98.00%\n",
      "   Head-to-Head   2000,  1000 random   1512/     1  0.07% O:  0.18 model   4488/   999 22.26% O:  0.08 chance of model_winner = 99.90%\n",
      "   Head-to-Head   3000,  1000 random   1578/     6  0.38% O:  0.46 model   4422/   994 22.48% O:  0.09 chance of model_winner = 99.40%\n",
      "   Head-to-Head   4000,  1000 random   1410/     1  0.07% O:  0.12 model   4590/   999 21.76% O:  0.08 chance of model_winner = 99.90%\n",
      "   Head-to-Head   5000,  1000 random   1488/     6  0.40% O:  0.29 model   4512/   994 22.03% O:  0.09 chance of model_winner = 99.40%\n",
      "         model.train 5000 1800.046  0.36001\n",
      "   Head-to-Head ib 64 4D      0,  1000 random   3000/     7  0.23% O:  1.36 model   3000/   993 33.10% O:  0.10 chance of model_winner = 99.30%\n",
      "starting to train\n",
      " Instant Runoff     10,    10 random     21/     2  9.52% O:  0.53 model     39/     8 20.51% O:  0.55 chance of model_winner = 80.00%\n",
      " Instant Runoff     20,    10 random     12/     1  8.33% O:  0.22 model     48/     9 18.75% O:  0.52 chance of model_winner = 90.00%\n",
      " Instant Runoff     30,    10 random     12/     1  8.33% O:  0.37 model     48/     9 18.75% O:  0.52 chance of model_winner = 90.00%\n",
      " Instant Runoff     40,    10 random     18/     1  5.56% O:  0.61 model     42/     9 21.43% O:  0.51 chance of model_winner = 90.00%\n",
      " Instant Runoff     50,    10 random     21/     0  0.00% O:  0.00 model     39/    10 25.64% O:  0.53 chance of model_winner = 100.00%\n",
      " Instant Runoff     60,    10 random     15/     0  0.00% O:  0.00 model     45/    10 22.22% O:  0.56 chance of model_winner = 100.00%\n",
      " Instant Runoff     70,    10 random     24/     2  8.33% O:  0.53 model     36/     8 22.22% O:  0.52 chance of model_winner = 80.00%\n",
      " Instant Runoff     80,    10 random     12/     0  0.00% O:  0.00 model     48/    10 20.83% O:  0.50 chance of model_winner = 100.00%\n",
      " Instant Runoff     90,    10 random     15/     1  6.67% O:  0.74 model     45/     9 20.00% O:  0.53 chance of model_winner = 90.00%\n",
      " Instant Runoff    100,    10 random     21/     0  0.00% O:  0.00 model     39/    10 25.64% O:  0.53 chance of model_winner = 100.00%\n",
      " Instant Runoff    200,   100 random    138/    12  8.70% O:  0.50 model    462/    88 19.05% O:  0.51 chance of model_winner = 88.00%\n",
      " Instant Runoff    300,   100 random    177/    13  7.34% O:  0.50 model    423/    87 20.57% O:  0.51 chance of model_winner = 87.00%\n",
      " Instant Runoff    400,   100 random    156/     8  5.13% O:  0.60 model    444/    92 20.72% O:  0.50 chance of model_winner = 92.00%\n",
      " Instant Runoff    500,   100 random    150/    12  8.00% O:  0.53 model    450/    88 19.56% O:  0.52 chance of model_winner = 88.00%\n",
      " Instant Runoff    600,   100 random    135/     8  5.93% O:  0.61 model    465/    92 19.78% O:  0.51 chance of model_winner = 92.00%\n",
      " Instant Runoff    700,   100 random    132/     4  3.03% O:  0.54 model    468/    96 20.51% O:  0.53 chance of model_winner = 96.00%\n",
      " Instant Runoff    800,   100 random    150/     6  4.00% O:  0.46 model    450/    94 20.89% O:  0.50 chance of model_winner = 94.00%\n",
      " Instant Runoff    900,   100 random    141/     7  4.96% O:  0.42 model    459/    93 20.26% O:  0.52 chance of model_winner = 93.00%\n",
      " Instant Runoff   1000,   100 random    174/     8  4.60% O:  0.53 model    426/    92 21.60% O:  0.51 chance of model_winner = 92.00%\n",
      " Instant Runoff   2000,  1000 random   1446/    61  4.22% O:  0.52 model   4554/   939 20.62% O:  0.51 chance of model_winner = 93.90%\n",
      " Instant Runoff   3000,  1000 random   1488/    51  3.43% O:  0.49 model   4512/   949 21.03% O:  0.52 chance of model_winner = 94.90%\n",
      " Instant Runoff   4000,  1000 random   1461/    51  3.49% O:  0.47 model   4539/   949 20.91% O:  0.52 chance of model_winner = 94.90%\n",
      " Instant Runoff   5000,  1000 random   1434/    54  3.77% O:  0.52 model   4566/   946 20.72% O:  0.51 chance of model_winner = 94.60%\n",
      "         model.train 5000 1844.954  0.36899\n",
      " Instant Runoff ib128 4D      0,  1000 random   3000/    13  0.43% O:  0.46 model   3000/   987 32.90% O:  0.50 chance of model_winner = 98.70%\n",
      "starting to train\n",
      "   Head-to-Head     10,    10 random     12/     0  0.00% O:  0.00 model     48/    10 20.83% O:  0.07 chance of model_winner = 100.00%\n",
      "   Head-to-Head     20,    10 random     12/     0  0.00% O:  0.00 model     48/    10 20.83% O:  0.06 chance of model_winner = 100.00%\n",
      "   Head-to-Head     30,    10 random     18/     0  0.00% O:  0.00 model     42/    10 23.81% O:  0.06 chance of model_winner = 100.00%\n",
      "   Head-to-Head     40,    10 random     18/     0  0.00% O:  0.00 model     42/    10 23.81% O:  0.04 chance of model_winner = 100.00%\n",
      "   Head-to-Head     50,    10 random     15/     0  0.00% O:  0.00 model     45/    10 22.22% O:  0.01 chance of model_winner = 100.00%\n",
      "   Head-to-Head     60,    10 random     24/     0  0.00% O:  0.00 model     36/    10 27.78% O:  0.03 chance of model_winner = 100.00%\n",
      "   Head-to-Head     70,    10 random     15/     0  0.00% O:  0.00 model     45/    10 22.22% O:  0.08 chance of model_winner = 100.00%\n",
      "   Head-to-Head     80,    10 random     15/     0  0.00% O:  0.00 model     45/    10 22.22% O:  0.01 chance of model_winner = 100.00%\n",
      "   Head-to-Head     90,    10 random     12/     0  0.00% O:  0.00 model     48/    10 20.83% O:  0.06 chance of model_winner = 100.00%\n",
      "   Head-to-Head    100,    10 random     18/     0  0.00% O:  0.00 model     42/    10 23.81% O:  0.03 chance of model_winner = 100.00%\n",
      "   Head-to-Head    200,   100 random    150/     0  0.00% O:  0.00 model    450/   100 22.22% O:  0.04 chance of model_winner = 100.00%\n",
      "   Head-to-Head    300,   100 random    135/     1  0.74% O:  0.19 model    465/    99 21.29% O:  0.02 chance of model_winner = 99.00%\n",
      "   Head-to-Head    400,   100 random    135/     0  0.00% O:  0.00 model    465/   100 21.51% O:  0.03 chance of model_winner = 100.00%\n",
      "   Head-to-Head    500,   100 random    177/     0  0.00% O:  0.00 model    423/   100 23.64% O:  0.03 chance of model_winner = 100.00%\n",
      "   Head-to-Head    600,   100 random    183/     0  0.00% O:  0.00 model    417/   100 23.98% O:  0.02 chance of model_winner = 100.00%\n",
      "   Head-to-Head    700,   100 random    144/     0  0.00% O:  0.00 model    456/   100 21.93% O:  0.02 chance of model_winner = 100.00%\n",
      "   Head-to-Head    800,   100 random    159/     2  1.26% O:  0.76 model    441/    98 22.22% O:  0.03 chance of model_winner = 98.00%\n",
      "   Head-to-Head    900,   100 random    162/     1  0.62% O:  0.25 model    438/    99 22.60% O:  0.03 chance of model_winner = 99.00%\n",
      "   Head-to-Head   1000,   100 random    114/     0  0.00% O:  0.00 model    486/   100 20.58% O:  0.02 chance of model_winner = 100.00%\n",
      "   Head-to-Head   2000,  1000 random   1494/     3  0.20% O:  0.51 model   4506/   997 22.13% O:  0.02 chance of model_winner = 99.70%\n",
      "   Head-to-Head   3000,  1000 random   1470/     3  0.20% O:  0.63 model   4530/   997 22.01% O:  0.02 chance of model_winner = 99.70%\n",
      "   Head-to-Head   4000,  1000 random   1530/     1  0.07% O:  0.14 model   4470/   999 22.35% O:  0.01 chance of model_winner = 99.90%\n",
      "   Head-to-Head   5000,  1000 random   1500/     4  0.27% O:  0.57 model   4500/   996 22.13% O:  0.01 chance of model_winner = 99.60%\n",
      "         model.train 5000 1808.030  0.36161\n",
      "   Head-to-Head ib128 4D      0,  1000 random   3000/     1  0.03% O:  1.09 model   3000/   999 33.30% O:  0.01 chance of model_winner = 99.90%\n",
      " Instant Runoff ib 64 4D      0,  1000 random   3000/    18  0.60% O:  0.47 model   3000/   982 32.73% O:  0.50 chance of model_winner = 98.20%\n",
      "   Head-to-Head ib 64 4D      0,  1000 random   3000/     7  0.23% O:  1.36 model   3000/   993 33.10% O:  0.10 chance of model_winner = 99.30%\n",
      " Instant Runoff ib128 4D      0,  1000 random   3000/    13  0.43% O:  0.46 model   3000/   987 32.90% O:  0.50 chance of model_winner = 98.70%\n",
      "   Head-to-Head ib128 4D      0,  1000 random   3000/     1  0.03% O:  1.09 model   3000/   999 33.30% O:  0.01 chance of model_winner = 99.90%\n"
     ]
    }
   ],
   "source": [
    "def train_models():\n",
    "    dims = [4]\n",
    "    processes = [\n",
    "        ElectionConstructor(constructor=construct_irv, name=\"Instant Runoff\"),\n",
    "        ElectionConstructor(constructor=construct_h2h, name=\"Head-to-Head\"),\n",
    "    ]\n",
    "\n",
    "    results = []\n",
    "    for bins in [64, 128]:\n",
    "        for process in processes:\n",
    "            for dim in dims:\n",
    "                stats, model = run_parameter_set(process, bins, dim)\n",
    "                results.append(ProcessResult(process, bins, dim, stats))\n",
    "                results[-1].print()\n",
    "\n",
    "    for r in results:\n",
    "        r.print()\n",
    "\n",
    "train_models()"
   ],
   "metadata": {
    "collapsed": false,
    "pycharm": {
     "name": "#%%\n"
    }
   }
  },
  {
   "cell_type": "code",
   "execution_count": 21,
   "outputs": [
    {
     "name": "stdout",
     "output_type": "stream",
     "text": [
      "bar\n",
      "foo\n",
      "bar\n",
      "foo\n",
      "bar\n",
      "bar\n",
      "bar\n",
      "foo\n",
      "bar\n",
      "foo\n"
     ]
    }
   ],
   "source": [
    "for i in range(10):\n",
    "    if np.random.choice([True, False]):\n",
    "        print(\"foo\")\n",
    "    else:\n",
    "        print(\"bar\")\n"
   ],
   "metadata": {
    "collapsed": false,
    "pycharm": {
     "name": "#%%\n"
    }
   }
  }
 ],
 "metadata": {
  "kernelspec": {
   "display_name": "Python 3",
   "language": "python",
   "name": "python3"
  },
  "language_info": {
   "codemirror_mode": {
    "name": "ipython",
    "version": 2
   },
   "file_extension": ".py",
   "mimetype": "text/x-python",
   "name": "python",
   "nbconvert_exporter": "python",
   "pygments_lexer": "ipython2",
   "version": "2.7.6"
  }
 },
 "nbformat": 4,
 "nbformat_minor": 0
}