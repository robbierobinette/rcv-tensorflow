{
 "cells": [
  {
   "cell_type": "code",
   "execution_count": 14,
   "metadata": {
    "collapsed": true
   },
   "outputs": [],
   "source": [
    "\n",
    "import os.path\n",
    "import pickle\n",
    "\n",
    "from Ballot import Ballot\n",
    "from CandidateModel import CandidateModel\n",
    "from DefaultConfigOptions import *\n",
    "from ElectionConstructor import ElectionConstructor, construct_irv, construct_h2h\n",
    "from ModelStats import ModelStats\n",
    "from NDPopulation import NDPopulation\n",
    "from ProcessResult import ProcessResult\n",
    "from Timings import Timings\n"
   ]
  },
  {
   "cell_type": "code",
   "execution_count": 15,
   "outputs": [],
   "source": [
    "def create_model_and_population(ideology_bins: int, ideology_dim: int) -> (CandidateModel, NDPopulation):\n",
    "    ideology_bins = 64\n",
    "    hidden_ratio = 4\n",
    "    n_hidden = hidden_ratio * ideology_bins * ideology_dim\n",
    "    n_latent = ideology_bins * ideology_dim\n",
    "    batch_size = 128\n",
    "    learn_rate = .001\n",
    "\n",
    "    model = CandidateModel(ideology_bins=ideology_bins,\n",
    "                                     ideology_dim=ideology_dim,\n",
    "                                     n_hidden=n_hidden,\n",
    "                                     n_latent = n_latent,\n",
    "                                     learn_rate= learn_rate)\n",
    "\n",
    "    population_means = np.zeros(shape=(ideology_dim,))\n",
    "    population_stddev = np.ones(shape=(ideology_dim,))\n",
    "    pop = NDPopulation(population_means, population_stddev)\n",
    "    return model, pop"
   ],
   "metadata": {
    "collapsed": false,
    "pycharm": {
     "name": "#%%\n"
    }
   }
  },
  {
   "cell_type": "code",
   "execution_count": null,
   "outputs": [],
   "source": [
    "def measure_representation(candidate: Candidate, voters: List[Voter]) -> float:\n",
    "    n_voters = len(voters)\n",
    "    balance = []\n",
    "    for d in candidate.ideology.dim:\n",
    "        lc = len([v for v in voters if v.ideology.vec[d] < candidate.ideology.vec[d]])\n",
    "        balance.append(min(lc / n_voters, 1 - lc / n_voters))\n",
    "    return float(np.mean(balance))"
   ],
   "metadata": {
    "collapsed": false,
    "pycharm": {
     "name": "#%%\n"
    }
   }
  },
  {
   "cell_type": "code",
   "execution_count": 16,
   "outputs": [],
   "source": [
    "def run_sample_election(model: CandidateModel, process: ElectionConstructor, population: NDPopulation, timings: Timings):\n",
    "    candidates = []\n",
    "    model_entries = set(np.random.choice(range(6), 3, replace=False))\n",
    "    for i in range(6):\n",
    "        if i in model_entries and model.ready():\n",
    "            ideology = Ideology(model.choose_ideology(candidates))\n",
    "            c = Candidate(\"m-\" + str(i), Independents, ideology, 0)\n",
    "        else:\n",
    "            ideology = population.unit_sample_voter().ideology\n",
    "            c = Candidate(\"r-\" + str(i), Independents, ideology, 0)\n",
    "\n",
    "        candidates += [c]\n",
    "\n",
    "    voters = population.generate_unit_voters(1000)\n",
    "    ballots = [Ballot(v, candidates, unit_election_config) for v in voters]\n",
    "    result = process.run(ballots, set(candidates))\n",
    "    winner = result.winner()\n",
    "    balance = measure_representation(winner, voters)\n",
    "\n",
    "    return winner, candidates, balance\n"
   ],
   "metadata": {
    "collapsed": false,
    "pycharm": {
     "name": "#%%\n"
    }
   }
  },
  {
   "cell_type": "code",
   "execution_count": 18,
   "outputs": [],
   "source": [
    "\n",
    "\n",
    "def train_candidate_model(model: CandidateModel, process: ElectionConstructor, population: NDPopulation):\n",
    "    timings = Timings()\n",
    "    stats = ModelStats()\n",
    "    first = True\n",
    "    while model.global_step < 5000:\n",
    "        with timings.time_block(\"run_election\"):\n",
    "            winner, candidates = run_sample_election(model, process, population, timings)\n",
    "        with timings.time_block(\"add_sample\"):\n",
    "            for i in range(len(candidates)):\n",
    "                model.add_sample_from_candidates(candidates[i], candidates[0:i], winner)\n",
    "\n",
    "        if model.ready():\n",
    "            if first:\n",
    "                print(\"starting to train\")\n",
    "                first = False\n",
    "\n",
    "            stats.update(winner, candidates)\n",
    "            with timings.time_block(\"model.train\"):\n",
    "                model.train(128)\n",
    "            s = model.global_step\n",
    "            if (s < 100 and s % 10 == 0) or (s < 1000 and s % 100 == 0) or s % 1000 == 0:\n",
    "                stats.print(process.name, model.global_step)\n",
    "                if model.global_step < 10000:\n",
    "                    stats.reset()\n",
    "\n",
    "    timings.print()"
   ],
   "metadata": {
    "collapsed": false,
    "pycharm": {
     "name": "#%%\n"
    }
   }
  },
  {
   "cell_type": "code",
   "execution_count": 19,
   "outputs": [],
   "source": [
    "def check_stats(stats: ModelStats, model: CandidateModel, process: ElectionConstructor, population: NDPopulation):\n",
    "    results=[]\n",
    "    timings = Timings()\n",
    "    for i in range(1000):\n",
    "        winner, candidates, balance = run_sample_election(model, process, population, timings)\n",
    "        stats.update(winner, candidates, balance)"
   ],
   "metadata": {
    "collapsed": false,
    "pycharm": {
     "name": "#%%\n"
    }
   }
  },
  {
   "cell_type": "code",
   "execution_count": 20,
   "outputs": [],
   "source": [
    "def run_parameter_set(process: ElectionConstructor, ibins: int, dim: int):\n",
    "    save_path = \"models/cm-%s-%03d-%dD.p\" % (process.name, ibins, dim)\n",
    "    model, population = create_model_and_population(ibins, dim)\n",
    "    if os.path.exists(save_path):\n",
    "        with open(save_path, \"rb\") as f:\n",
    "            model: CandidateModel = pickle.load(f)\n",
    "    else:\n",
    "        train_candidate_model(model, process, population)\n",
    "        # Saving the model file is not working at this time.\n",
    "        # model.save_to_file(save_path)\n",
    "\n",
    "    stats = ModelStats()\n",
    "    check_stats(stats, model, process, population)\n",
    "    return stats, model"
   ],
   "metadata": {
    "collapsed": false,
    "pycharm": {
     "name": "#%%\n"
    }
   }
  },
  {
   "cell_type": "code",
   "execution_count": 21,
   "outputs": [
    {
     "name": "stdout",
     "output_type": "stream",
     "text": [
      "starting to train\n",
      " Instant Runoff     10,    10 random     33/     3  9.09% O:  0.76 model     27/     7 25.93% O:  0.76 chance of model_winner = 70.00%\n",
      " Instant Runoff     20,    10 random     30/     1  3.33% O:  0.89 model     30/     9 30.00% O:  0.48 chance of model_winner = 90.00%\n",
      " Instant Runoff     30,    10 random     30/     0  0.00% O:  0.00 model     30/    10 33.33% O:  0.47 chance of model_winner = 100.00%\n",
      " Instant Runoff     40,    10 random     30/     0  0.00% O:  0.00 model     30/    10 33.33% O:  0.34 chance of model_winner = 100.00%\n",
      " Instant Runoff     50,    10 random     30/     0  0.00% O:  0.00 model     30/    10 33.33% O:  0.16 chance of model_winner = 100.00%\n",
      " Instant Runoff     60,    10 random     30/     0  0.00% O:  0.00 model     30/    10 33.33% O:  0.16 chance of model_winner = 100.00%\n",
      " Instant Runoff     70,    10 random     30/     0  0.00% O:  0.00 model     30/    10 33.33% O:  0.20 chance of model_winner = 100.00%\n",
      " Instant Runoff     80,    10 random     30/     0  0.00% O:  0.00 model     30/    10 33.33% O:  0.16 chance of model_winner = 100.00%\n",
      " Instant Runoff     90,    10 random     30/     0  0.00% O:  0.00 model     30/    10 33.33% O:  0.16 chance of model_winner = 100.00%\n",
      " Instant Runoff    100,    10 random     30/     0  0.00% O:  0.00 model     30/    10 33.33% O:  0.23 chance of model_winner = 100.00%\n",
      " Instant Runoff    200,   100 random    300/     9  3.00% O:  0.79 model    300/    91 30.33% O:  0.29 chance of model_winner = 91.00%\n",
      " Instant Runoff    300,   100 random    300/     3  1.00% O:  0.50 model    300/    97 32.33% O:  0.22 chance of model_winner = 97.00%\n",
      " Instant Runoff    400,   100 random    300/     0  0.00% O:  0.00 model    300/   100 33.33% O:  0.23 chance of model_winner = 100.00%\n",
      " Instant Runoff    500,   100 random    300/     2  0.67% O:  0.31 model    300/    98 32.67% O:  0.21 chance of model_winner = 98.00%\n",
      " Instant Runoff    600,   100 random    300/     2  0.67% O:  0.70 model    300/    98 32.67% O:  0.19 chance of model_winner = 98.00%\n",
      " Instant Runoff    700,   100 random    300/     0  0.00% O:  0.00 model    300/   100 33.33% O:  0.19 chance of model_winner = 100.00%\n",
      " Instant Runoff    800,   100 random    300/     0  0.00% O:  0.00 model    300/   100 33.33% O:  0.17 chance of model_winner = 100.00%\n",
      " Instant Runoff    900,   100 random    300/     1  0.33% O:  1.10 model    300/    99 33.00% O:  0.17 chance of model_winner = 99.00%\n",
      "looping action memory depth 0\n",
      "looping action memory depth 1\n",
      "looping action memory depth 2\n",
      "looping action memory depth 3\n",
      "looping action memory depth 4\n",
      "looping action memory depth 5\n",
      " Instant Runoff   1000,   100 random    300/     1  0.33% O:  0.38 model    300/    99 33.00% O:  0.16 chance of model_winner = 99.00%\n",
      "looping action memory depth 0\n",
      "looping action memory depth 1\n",
      "looping action memory depth 2\n",
      "looping action memory depth 3\n",
      "looping action memory depth 4\n",
      "looping action memory depth 5\n",
      " Instant Runoff   2000,  1000 random   3000/     7  0.23% O:  0.81 model   3000/   993 33.10% O:  0.17 chance of model_winner = 99.30%\n",
      "looping action memory depth 0\n",
      "looping action memory depth 1\n",
      "looping action memory depth 2\n",
      "looping action memory depth 3\n",
      "looping action memory depth 4\n",
      "looping action memory depth 5\n",
      " Instant Runoff   3000,  1000 random   3000/     1  0.03% O:  0.56 model   3000/   999 33.30% O:  0.15 chance of model_winner = 99.90%\n",
      " Instant Runoff   4000,  1000 random   3000/     5  0.17% O:  1.22 model   3000/   995 33.17% O:  0.15 chance of model_winner = 99.50%\n",
      "looping action memory depth 0\n",
      "looping action memory depth 1\n",
      "looping action memory depth 2\n",
      "looping action memory depth 3\n",
      "looping action memory depth 4\n",
      "looping action memory depth 5\n",
      " Instant Runoff   5000,  1000 random   3000/     3  0.10% O:  0.32 model   3000/   997 33.23% O:  0.15 chance of model_winner = 99.70%\n",
      "        run_election 5083  809.735  0.15930\n",
      "          add_sample 5083   19.020  0.00374\n",
      "         model.train 5000 2542.526  0.50851\n",
      " Instant Runoff ib 64 4D      0,  1000 random   3000/     0  0.00% O:  0.00 model   3000/  1000 33.33% O:  0.14 chance of model_winner = 100.00%\n",
      "starting to train\n",
      "   Head-to-Head     10,    10 random     33/     1  3.03% O:  1.34 model     27/     9 33.33% O:  0.45 chance of model_winner = 90.00%\n",
      "   Head-to-Head     20,    10 random     30/     0  0.00% O:  0.00 model     30/    10 33.33% O:  0.44 chance of model_winner = 100.00%\n",
      "   Head-to-Head     30,    10 random     30/     0  0.00% O:  0.00 model     30/    10 33.33% O:  0.44 chance of model_winner = 100.00%\n",
      "   Head-to-Head     40,    10 random     30/     1  3.33% O:  0.37 model     30/     9 30.00% O:  0.44 chance of model_winner = 90.00%\n",
      "   Head-to-Head     50,    10 random     30/     0  0.00% O:  0.00 model     30/    10 33.33% O:  0.43 chance of model_winner = 100.00%\n",
      "   Head-to-Head     60,    10 random     30/     1  3.33% O:  0.24 model     30/     9 30.00% O:  0.43 chance of model_winner = 90.00%\n",
      "   Head-to-Head     70,    10 random     30/     0  0.00% O:  0.00 model     30/    10 33.33% O:  0.43 chance of model_winner = 100.00%\n",
      "   Head-to-Head     80,    10 random     30/     0  0.00% O:  0.00 model     30/    10 33.33% O:  0.41 chance of model_winner = 100.00%\n",
      "   Head-to-Head     90,    10 random     30/     0  0.00% O:  0.00 model     30/    10 33.33% O:  0.39 chance of model_winner = 100.00%\n",
      "   Head-to-Head    100,    10 random     30/     0  0.00% O:  0.00 model     30/    10 33.33% O:  0.42 chance of model_winner = 100.00%\n",
      "   Head-to-Head    200,   100 random    300/     0  0.00% O:  0.00 model    300/   100 33.33% O:  0.32 chance of model_winner = 100.00%\n",
      "   Head-to-Head    300,   100 random    300/     0  0.00% O:  0.00 model    300/   100 33.33% O:  0.30 chance of model_winner = 100.00%\n",
      "   Head-to-Head    400,   100 random    300/     0  0.00% O:  0.00 model    300/   100 33.33% O:  0.31 chance of model_winner = 100.00%\n",
      "   Head-to-Head    500,   100 random    300/     0  0.00% O:  0.00 model    300/   100 33.33% O:  0.32 chance of model_winner = 100.00%\n",
      "   Head-to-Head    600,   100 random    300/     2  0.67% O:  0.73 model    300/    98 32.67% O:  0.33 chance of model_winner = 98.00%\n",
      "   Head-to-Head    700,   100 random    300/     1  0.33% O:  0.41 model    300/    99 33.00% O:  0.31 chance of model_winner = 99.00%\n",
      "   Head-to-Head    800,   100 random    300/     3  1.00% O:  0.99 model    300/    97 32.33% O:  0.31 chance of model_winner = 97.00%\n",
      "   Head-to-Head    900,   100 random    300/     2  0.67% O:  0.89 model    300/    98 32.67% O:  0.32 chance of model_winner = 98.00%\n",
      "looping action memory depth 0\n",
      "looping action memory depth 1\n",
      "looping action memory depth 2\n",
      "looping action memory depth 3\n",
      "looping action memory depth 4\n",
      "looping action memory depth 5\n",
      "   Head-to-Head   1000,   100 random    300/     2  0.67% O:  1.26 model    300/    98 32.67% O:  0.34 chance of model_winner = 98.00%\n",
      "looping action memory depth 0\n",
      "looping action memory depth 1\n",
      "looping action memory depth 2\n",
      "looping action memory depth 3\n",
      "looping action memory depth 4\n",
      "looping action memory depth 5\n",
      "   Head-to-Head   2000,  1000 random   3000/     8  0.27% O:  0.62 model   3000/   992 33.07% O:  0.29 chance of model_winner = 99.20%\n",
      "looping action memory depth 0\n",
      "looping action memory depth 1\n",
      "looping action memory depth 2\n",
      "looping action memory depth 3\n",
      "looping action memory depth 4\n",
      "looping action memory depth 5\n",
      "   Head-to-Head   3000,  1000 random   3000/     1  0.03% O:  0.50 model   3000/   999 33.30% O:  0.24 chance of model_winner = 99.90%\n",
      "   Head-to-Head   4000,  1000 random   3000/     2  0.07% O:  0.31 model   3000/   998 33.27% O:  0.24 chance of model_winner = 99.80%\n",
      "looping action memory depth 0\n",
      "looping action memory depth 1\n",
      "looping action memory depth 2\n",
      "looping action memory depth 3\n",
      "looping action memory depth 4\n",
      "looping action memory depth 5\n",
      "   Head-to-Head   5000,  1000 random   3000/     0  0.00% O:  0.00 model   3000/  1000 33.33% O:  0.23 chance of model_winner = 100.00%\n",
      "        run_election 5083  884.811  0.17407\n",
      "          add_sample 5083   19.650  0.00387\n",
      "         model.train 5000 2451.235  0.49025\n",
      "   Head-to-Head ib 64 4D      0,  1000 random   3000/     1  0.03% O:  0.40 model   3000/   999 33.30% O:  0.23 chance of model_winner = 99.90%\n",
      "starting to train\n",
      " Instant Runoff     10,    10 random     33/     1  3.03% O:  1.20 model     27/     9 33.33% O:  0.48 chance of model_winner = 90.00%\n",
      " Instant Runoff     20,    10 random     30/     0  0.00% O:  0.00 model     30/    10 33.33% O:  0.45 chance of model_winner = 100.00%\n",
      " Instant Runoff     30,    10 random     30/     0  0.00% O:  0.00 model     30/    10 33.33% O:  0.42 chance of model_winner = 100.00%\n",
      " Instant Runoff     40,    10 random     30/     0  0.00% O:  0.00 model     30/    10 33.33% O:  0.38 chance of model_winner = 100.00%\n",
      " Instant Runoff     50,    10 random     30/     0  0.00% O:  0.00 model     30/    10 33.33% O:  0.38 chance of model_winner = 100.00%\n",
      " Instant Runoff     60,    10 random     30/     0  0.00% O:  0.00 model     30/    10 33.33% O:  0.38 chance of model_winner = 100.00%\n",
      " Instant Runoff     70,    10 random     30/     0  0.00% O:  0.00 model     30/    10 33.33% O:  0.39 chance of model_winner = 100.00%\n",
      " Instant Runoff     80,    10 random     30/     0  0.00% O:  0.00 model     30/    10 33.33% O:  0.38 chance of model_winner = 100.00%\n",
      " Instant Runoff     90,    10 random     30/     0  0.00% O:  0.00 model     30/    10 33.33% O:  0.37 chance of model_winner = 100.00%\n",
      " Instant Runoff    100,    10 random     30/     0  0.00% O:  0.00 model     30/    10 33.33% O:  0.38 chance of model_winner = 100.00%\n",
      " Instant Runoff    200,   100 random    300/     2  0.67% O:  0.34 model    300/    98 32.67% O:  0.37 chance of model_winner = 98.00%\n",
      " Instant Runoff    300,   100 random    300/     0  0.00% O:  0.00 model    300/   100 33.33% O:  0.37 chance of model_winner = 100.00%\n",
      " Instant Runoff    400,   100 random    300/     2  0.67% O:  0.58 model    300/    98 32.67% O:  0.37 chance of model_winner = 98.00%\n",
      " Instant Runoff    500,   100 random    300/     2  0.67% O:  1.55 model    300/    98 32.67% O:  0.38 chance of model_winner = 98.00%\n",
      " Instant Runoff    600,   100 random    300/     1  0.33% O:  1.32 model    300/    99 33.00% O:  0.44 chance of model_winner = 99.00%\n",
      " Instant Runoff    700,   100 random    300/     1  0.33% O:  0.23 model    300/    99 33.00% O:  0.36 chance of model_winner = 99.00%\n",
      " Instant Runoff    800,   100 random    300/     0  0.00% O:  0.00 model    300/   100 33.33% O:  0.37 chance of model_winner = 100.00%\n",
      " Instant Runoff    900,   100 random    300/     0  0.00% O:  0.00 model    300/   100 33.33% O:  0.37 chance of model_winner = 100.00%\n",
      "looping action memory depth 0\n",
      "looping action memory depth 1\n",
      "looping action memory depth 2\n",
      "looping action memory depth 3\n",
      "looping action memory depth 4\n",
      "looping action memory depth 5\n",
      " Instant Runoff   1000,   100 random    300/     0  0.00% O:  0.00 model    300/   100 33.33% O:  0.37 chance of model_winner = 100.00%\n",
      "looping action memory depth 0\n",
      "looping action memory depth 1\n",
      "looping action memory depth 2\n",
      "looping action memory depth 3\n",
      "looping action memory depth 4\n",
      "looping action memory depth 5\n",
      " Instant Runoff   2000,  1000 random   3000/     2  0.07% O:  0.43 model   3000/   998 33.27% O:  0.28 chance of model_winner = 99.80%\n",
      "looping action memory depth 0\n",
      "looping action memory depth 1\n",
      "looping action memory depth 2\n",
      "looping action memory depth 3\n",
      "looping action memory depth 4\n",
      "looping action memory depth 5\n",
      " Instant Runoff   3000,  1000 random   3000/    14  0.47% O:  1.20 model   3000/   986 32.87% O:  0.21 chance of model_winner = 98.60%\n",
      " Instant Runoff   4000,  1000 random   3000/     3  0.10% O:  0.52 model   3000/   997 33.23% O:  0.16 chance of model_winner = 99.70%\n",
      "looping action memory depth 0\n",
      "looping action memory depth 1\n",
      "looping action memory depth 2\n",
      "looping action memory depth 3\n",
      "looping action memory depth 4\n",
      "looping action memory depth 5\n"
     ]
    },
    {
     "ename": "KeyboardInterrupt",
     "evalue": "",
     "output_type": "error",
     "traceback": [
      "\u001B[0;31m---------------------------------------------------------------------------\u001B[0m",
      "\u001B[0;31mKeyboardInterrupt\u001B[0m                         Traceback (most recent call last)",
      "\u001B[0;32m<ipython-input-21-36f439268a3b>\u001B[0m in \u001B[0;36m<module>\u001B[0;34m\u001B[0m\n\u001B[1;32m      9\u001B[0m     \u001B[0;32mfor\u001B[0m \u001B[0mprocess\u001B[0m \u001B[0;32min\u001B[0m \u001B[0mprocesses\u001B[0m\u001B[0;34m:\u001B[0m\u001B[0;34m\u001B[0m\u001B[0;34m\u001B[0m\u001B[0m\n\u001B[1;32m     10\u001B[0m         \u001B[0;32mfor\u001B[0m \u001B[0mdim\u001B[0m \u001B[0;32min\u001B[0m \u001B[0mdims\u001B[0m\u001B[0;34m:\u001B[0m\u001B[0;34m\u001B[0m\u001B[0;34m\u001B[0m\u001B[0m\n\u001B[0;32m---> 11\u001B[0;31m             \u001B[0mstats\u001B[0m\u001B[0;34m,\u001B[0m \u001B[0mmodel\u001B[0m \u001B[0;34m=\u001B[0m \u001B[0mrun_parameter_set\u001B[0m\u001B[0;34m(\u001B[0m\u001B[0mprocess\u001B[0m\u001B[0;34m,\u001B[0m \u001B[0mbins\u001B[0m\u001B[0;34m,\u001B[0m \u001B[0mdim\u001B[0m\u001B[0;34m)\u001B[0m\u001B[0;34m\u001B[0m\u001B[0;34m\u001B[0m\u001B[0m\n\u001B[0m\u001B[1;32m     12\u001B[0m             \u001B[0mresults\u001B[0m\u001B[0;34m.\u001B[0m\u001B[0mappend\u001B[0m\u001B[0;34m(\u001B[0m\u001B[0mProcessResult\u001B[0m\u001B[0;34m(\u001B[0m\u001B[0mprocess\u001B[0m\u001B[0;34m,\u001B[0m \u001B[0mbins\u001B[0m\u001B[0;34m,\u001B[0m \u001B[0mdim\u001B[0m\u001B[0;34m,\u001B[0m \u001B[0mstats\u001B[0m\u001B[0;34m)\u001B[0m\u001B[0;34m)\u001B[0m\u001B[0;34m\u001B[0m\u001B[0;34m\u001B[0m\u001B[0m\n\u001B[1;32m     13\u001B[0m             \u001B[0mresults\u001B[0m\u001B[0;34m[\u001B[0m\u001B[0;34m-\u001B[0m\u001B[0;36m1\u001B[0m\u001B[0;34m]\u001B[0m\u001B[0;34m.\u001B[0m\u001B[0mprint\u001B[0m\u001B[0;34m(\u001B[0m\u001B[0;34m)\u001B[0m\u001B[0;34m\u001B[0m\u001B[0;34m\u001B[0m\u001B[0m\n",
      "\u001B[0;32m<ipython-input-20-d54e600ce1ba>\u001B[0m in \u001B[0;36mrun_parameter_set\u001B[0;34m(process, ibins, dim)\u001B[0m\n\u001B[1;32m      6\u001B[0m             \u001B[0mmodel\u001B[0m\u001B[0;34m:\u001B[0m \u001B[0mCandidateModel\u001B[0m \u001B[0;34m=\u001B[0m \u001B[0mpickle\u001B[0m\u001B[0;34m.\u001B[0m\u001B[0mload\u001B[0m\u001B[0;34m(\u001B[0m\u001B[0mf\u001B[0m\u001B[0;34m)\u001B[0m\u001B[0;34m\u001B[0m\u001B[0;34m\u001B[0m\u001B[0m\n\u001B[1;32m      7\u001B[0m     \u001B[0;32melse\u001B[0m\u001B[0;34m:\u001B[0m\u001B[0;34m\u001B[0m\u001B[0;34m\u001B[0m\u001B[0m\n\u001B[0;32m----> 8\u001B[0;31m         \u001B[0mtrain_candidate_model\u001B[0m\u001B[0;34m(\u001B[0m\u001B[0mmodel\u001B[0m\u001B[0;34m,\u001B[0m \u001B[0mprocess\u001B[0m\u001B[0;34m,\u001B[0m \u001B[0mpopulation\u001B[0m\u001B[0;34m)\u001B[0m\u001B[0;34m\u001B[0m\u001B[0;34m\u001B[0m\u001B[0m\n\u001B[0m\u001B[1;32m      9\u001B[0m         \u001B[0;31m# Saving the model file is not working at this time.\u001B[0m\u001B[0;34m\u001B[0m\u001B[0;34m\u001B[0m\u001B[0;34m\u001B[0m\u001B[0m\n\u001B[1;32m     10\u001B[0m         \u001B[0;31m# model.save_to_file(save_path)\u001B[0m\u001B[0;34m\u001B[0m\u001B[0;34m\u001B[0m\u001B[0;34m\u001B[0m\u001B[0m\n",
      "\u001B[0;32m<ipython-input-18-495875957b84>\u001B[0m in \u001B[0;36mtrain_candidate_model\u001B[0;34m(model, process, population)\u001B[0m\n\u001B[1;32m      5\u001B[0m     \u001B[0;32mwhile\u001B[0m \u001B[0mmodel\u001B[0m\u001B[0;34m.\u001B[0m\u001B[0mglobal_step\u001B[0m \u001B[0;34m<\u001B[0m \u001B[0;36m5000\u001B[0m\u001B[0;34m:\u001B[0m\u001B[0;34m\u001B[0m\u001B[0;34m\u001B[0m\u001B[0m\n\u001B[1;32m      6\u001B[0m         \u001B[0;32mwith\u001B[0m \u001B[0mtimings\u001B[0m\u001B[0;34m.\u001B[0m\u001B[0mtime_block\u001B[0m\u001B[0;34m(\u001B[0m\u001B[0;34m\"run_election\"\u001B[0m\u001B[0;34m)\u001B[0m\u001B[0;34m:\u001B[0m\u001B[0;34m\u001B[0m\u001B[0;34m\u001B[0m\u001B[0m\n\u001B[0;32m----> 7\u001B[0;31m             \u001B[0mwinner\u001B[0m\u001B[0;34m,\u001B[0m \u001B[0mcandidates\u001B[0m \u001B[0;34m=\u001B[0m \u001B[0mrun_sample_election\u001B[0m\u001B[0;34m(\u001B[0m\u001B[0mmodel\u001B[0m\u001B[0;34m,\u001B[0m \u001B[0mprocess\u001B[0m\u001B[0;34m,\u001B[0m \u001B[0mpopulation\u001B[0m\u001B[0;34m,\u001B[0m \u001B[0mtimings\u001B[0m\u001B[0;34m)\u001B[0m\u001B[0;34m\u001B[0m\u001B[0;34m\u001B[0m\u001B[0m\n\u001B[0m\u001B[1;32m      8\u001B[0m         \u001B[0;32mwith\u001B[0m \u001B[0mtimings\u001B[0m\u001B[0;34m.\u001B[0m\u001B[0mtime_block\u001B[0m\u001B[0;34m(\u001B[0m\u001B[0;34m\"add_sample\"\u001B[0m\u001B[0;34m)\u001B[0m\u001B[0;34m:\u001B[0m\u001B[0;34m\u001B[0m\u001B[0;34m\u001B[0m\u001B[0m\n\u001B[1;32m      9\u001B[0m             \u001B[0;32mfor\u001B[0m \u001B[0mi\u001B[0m \u001B[0;32min\u001B[0m \u001B[0mrange\u001B[0m\u001B[0;34m(\u001B[0m\u001B[0mlen\u001B[0m\u001B[0;34m(\u001B[0m\u001B[0mcandidates\u001B[0m\u001B[0;34m)\u001B[0m\u001B[0;34m)\u001B[0m\u001B[0;34m:\u001B[0m\u001B[0;34m\u001B[0m\u001B[0;34m\u001B[0m\u001B[0m\n",
      "\u001B[0;32m<ipython-input-16-d68ef37aacf4>\u001B[0m in \u001B[0;36mrun_sample_election\u001B[0;34m(model, process, population, timings)\u001B[0m\n\u001B[1;32m     13\u001B[0m \u001B[0;34m\u001B[0m\u001B[0m\n\u001B[1;32m     14\u001B[0m     \u001B[0mvoters\u001B[0m \u001B[0;34m=\u001B[0m \u001B[0mpopulation\u001B[0m\u001B[0;34m.\u001B[0m\u001B[0mgenerate_unit_voters\u001B[0m\u001B[0;34m(\u001B[0m\u001B[0;36m1000\u001B[0m\u001B[0;34m)\u001B[0m\u001B[0;34m\u001B[0m\u001B[0;34m\u001B[0m\u001B[0m\n\u001B[0;32m---> 15\u001B[0;31m     \u001B[0mballots\u001B[0m \u001B[0;34m=\u001B[0m \u001B[0;34m[\u001B[0m\u001B[0mBallot\u001B[0m\u001B[0;34m(\u001B[0m\u001B[0mv\u001B[0m\u001B[0;34m,\u001B[0m \u001B[0mcandidates\u001B[0m\u001B[0;34m,\u001B[0m \u001B[0munit_election_config\u001B[0m\u001B[0;34m)\u001B[0m \u001B[0;32mfor\u001B[0m \u001B[0mv\u001B[0m \u001B[0;32min\u001B[0m \u001B[0mvoters\u001B[0m\u001B[0;34m]\u001B[0m\u001B[0;34m\u001B[0m\u001B[0;34m\u001B[0m\u001B[0m\n\u001B[0m\u001B[1;32m     16\u001B[0m     \u001B[0mresult\u001B[0m \u001B[0;34m=\u001B[0m \u001B[0mprocess\u001B[0m\u001B[0;34m.\u001B[0m\u001B[0mrun\u001B[0m\u001B[0;34m(\u001B[0m\u001B[0mballots\u001B[0m\u001B[0;34m,\u001B[0m \u001B[0mset\u001B[0m\u001B[0;34m(\u001B[0m\u001B[0mcandidates\u001B[0m\u001B[0;34m)\u001B[0m\u001B[0;34m)\u001B[0m\u001B[0;34m\u001B[0m\u001B[0;34m\u001B[0m\u001B[0m\n\u001B[1;32m     17\u001B[0m \u001B[0;34m\u001B[0m\u001B[0m\n",
      "\u001B[0;32m<ipython-input-16-d68ef37aacf4>\u001B[0m in \u001B[0;36m<listcomp>\u001B[0;34m(.0)\u001B[0m\n\u001B[1;32m     13\u001B[0m \u001B[0;34m\u001B[0m\u001B[0m\n\u001B[1;32m     14\u001B[0m     \u001B[0mvoters\u001B[0m \u001B[0;34m=\u001B[0m \u001B[0mpopulation\u001B[0m\u001B[0;34m.\u001B[0m\u001B[0mgenerate_unit_voters\u001B[0m\u001B[0;34m(\u001B[0m\u001B[0;36m1000\u001B[0m\u001B[0;34m)\u001B[0m\u001B[0;34m\u001B[0m\u001B[0;34m\u001B[0m\u001B[0m\n\u001B[0;32m---> 15\u001B[0;31m     \u001B[0mballots\u001B[0m \u001B[0;34m=\u001B[0m \u001B[0;34m[\u001B[0m\u001B[0mBallot\u001B[0m\u001B[0;34m(\u001B[0m\u001B[0mv\u001B[0m\u001B[0;34m,\u001B[0m \u001B[0mcandidates\u001B[0m\u001B[0;34m,\u001B[0m \u001B[0munit_election_config\u001B[0m\u001B[0;34m)\u001B[0m \u001B[0;32mfor\u001B[0m \u001B[0mv\u001B[0m \u001B[0;32min\u001B[0m \u001B[0mvoters\u001B[0m\u001B[0;34m]\u001B[0m\u001B[0;34m\u001B[0m\u001B[0;34m\u001B[0m\u001B[0m\n\u001B[0m\u001B[1;32m     16\u001B[0m     \u001B[0mresult\u001B[0m \u001B[0;34m=\u001B[0m \u001B[0mprocess\u001B[0m\u001B[0;34m.\u001B[0m\u001B[0mrun\u001B[0m\u001B[0;34m(\u001B[0m\u001B[0mballots\u001B[0m\u001B[0;34m,\u001B[0m \u001B[0mset\u001B[0m\u001B[0;34m(\u001B[0m\u001B[0mcandidates\u001B[0m\u001B[0;34m)\u001B[0m\u001B[0;34m)\u001B[0m\u001B[0;34m\u001B[0m\u001B[0;34m\u001B[0m\u001B[0m\n\u001B[1;32m     17\u001B[0m \u001B[0;34m\u001B[0m\u001B[0m\n",
      "\u001B[0;32m~/work/rcv-tensorflow/Ballot.py\u001B[0m in \u001B[0;36m__init__\u001B[0;34m(self, voter, candidates, config)\u001B[0m\n\u001B[1;32m     10\u001B[0m         \u001B[0mself\u001B[0m\u001B[0;34m.\u001B[0m\u001B[0mvoter\u001B[0m \u001B[0;34m=\u001B[0m \u001B[0mvoter\u001B[0m\u001B[0;34m\u001B[0m\u001B[0;34m\u001B[0m\u001B[0m\n\u001B[1;32m     11\u001B[0m \u001B[0;34m\u001B[0m\u001B[0m\n\u001B[0;32m---> 12\u001B[0;31m         \u001B[0mscores\u001B[0m \u001B[0;34m=\u001B[0m \u001B[0mlist\u001B[0m\u001B[0;34m(\u001B[0m\u001B[0mmap\u001B[0m\u001B[0;34m(\u001B[0m\u001B[0;32mlambda\u001B[0m \u001B[0mc\u001B[0m\u001B[0;34m:\u001B[0m \u001B[0mvoter\u001B[0m\u001B[0;34m.\u001B[0m\u001B[0mscore\u001B[0m\u001B[0;34m(\u001B[0m\u001B[0mc\u001B[0m\u001B[0;34m,\u001B[0m \u001B[0mconfig\u001B[0m\u001B[0;34m)\u001B[0m\u001B[0;34m,\u001B[0m \u001B[0mcandidates\u001B[0m\u001B[0;34m)\u001B[0m\u001B[0;34m)\u001B[0m\u001B[0;34m\u001B[0m\u001B[0;34m\u001B[0m\u001B[0m\n\u001B[0m\u001B[1;32m     13\u001B[0m         \u001B[0mcs\u001B[0m \u001B[0;34m=\u001B[0m \u001B[0mlist\u001B[0m\u001B[0;34m(\u001B[0m\u001B[0mmap\u001B[0m\u001B[0;34m(\u001B[0m\u001B[0;32mlambda\u001B[0m \u001B[0mc\u001B[0m\u001B[0;34m:\u001B[0m \u001B[0mCandidateScore\u001B[0m\u001B[0;34m(\u001B[0m\u001B[0mc\u001B[0m\u001B[0;34m[\u001B[0m\u001B[0;36m0\u001B[0m\u001B[0;34m]\u001B[0m\u001B[0;34m,\u001B[0m \u001B[0mc\u001B[0m\u001B[0;34m[\u001B[0m\u001B[0;36m1\u001B[0m\u001B[0;34m]\u001B[0m\u001B[0;34m)\u001B[0m\u001B[0;34m,\u001B[0m \u001B[0mzip\u001B[0m\u001B[0;34m(\u001B[0m\u001B[0mcandidates\u001B[0m\u001B[0;34m,\u001B[0m \u001B[0mscores\u001B[0m\u001B[0;34m)\u001B[0m\u001B[0;34m)\u001B[0m\u001B[0;34m)\u001B[0m\u001B[0;34m\u001B[0m\u001B[0;34m\u001B[0m\u001B[0m\n\u001B[1;32m     14\u001B[0m         \u001B[0mcs\u001B[0m\u001B[0;34m.\u001B[0m\u001B[0msort\u001B[0m\u001B[0;34m(\u001B[0m\u001B[0mkey\u001B[0m\u001B[0;34m=\u001B[0m\u001B[0;32mlambda\u001B[0m \u001B[0mc\u001B[0m\u001B[0;34m:\u001B[0m \u001B[0mc\u001B[0m\u001B[0;34m.\u001B[0m\u001B[0mscore\u001B[0m\u001B[0;34m,\u001B[0m \u001B[0mreverse\u001B[0m\u001B[0;34m=\u001B[0m\u001B[0;32mTrue\u001B[0m\u001B[0;34m)\u001B[0m\u001B[0;34m\u001B[0m\u001B[0;34m\u001B[0m\u001B[0m\n",
      "\u001B[0;32m~/work/rcv-tensorflow/Ballot.py\u001B[0m in \u001B[0;36m<lambda>\u001B[0;34m(c)\u001B[0m\n\u001B[1;32m     10\u001B[0m         \u001B[0mself\u001B[0m\u001B[0;34m.\u001B[0m\u001B[0mvoter\u001B[0m \u001B[0;34m=\u001B[0m \u001B[0mvoter\u001B[0m\u001B[0;34m\u001B[0m\u001B[0;34m\u001B[0m\u001B[0m\n\u001B[1;32m     11\u001B[0m \u001B[0;34m\u001B[0m\u001B[0m\n\u001B[0;32m---> 12\u001B[0;31m         \u001B[0mscores\u001B[0m \u001B[0;34m=\u001B[0m \u001B[0mlist\u001B[0m\u001B[0;34m(\u001B[0m\u001B[0mmap\u001B[0m\u001B[0;34m(\u001B[0m\u001B[0;32mlambda\u001B[0m \u001B[0mc\u001B[0m\u001B[0;34m:\u001B[0m \u001B[0mvoter\u001B[0m\u001B[0;34m.\u001B[0m\u001B[0mscore\u001B[0m\u001B[0;34m(\u001B[0m\u001B[0mc\u001B[0m\u001B[0;34m,\u001B[0m \u001B[0mconfig\u001B[0m\u001B[0;34m)\u001B[0m\u001B[0;34m,\u001B[0m \u001B[0mcandidates\u001B[0m\u001B[0;34m)\u001B[0m\u001B[0;34m)\u001B[0m\u001B[0;34m\u001B[0m\u001B[0;34m\u001B[0m\u001B[0m\n\u001B[0m\u001B[1;32m     13\u001B[0m         \u001B[0mcs\u001B[0m \u001B[0;34m=\u001B[0m \u001B[0mlist\u001B[0m\u001B[0;34m(\u001B[0m\u001B[0mmap\u001B[0m\u001B[0;34m(\u001B[0m\u001B[0;32mlambda\u001B[0m \u001B[0mc\u001B[0m\u001B[0;34m:\u001B[0m \u001B[0mCandidateScore\u001B[0m\u001B[0;34m(\u001B[0m\u001B[0mc\u001B[0m\u001B[0;34m[\u001B[0m\u001B[0;36m0\u001B[0m\u001B[0;34m]\u001B[0m\u001B[0;34m,\u001B[0m \u001B[0mc\u001B[0m\u001B[0;34m[\u001B[0m\u001B[0;36m1\u001B[0m\u001B[0;34m]\u001B[0m\u001B[0;34m)\u001B[0m\u001B[0;34m,\u001B[0m \u001B[0mzip\u001B[0m\u001B[0;34m(\u001B[0m\u001B[0mcandidates\u001B[0m\u001B[0;34m,\u001B[0m \u001B[0mscores\u001B[0m\u001B[0;34m)\u001B[0m\u001B[0;34m)\u001B[0m\u001B[0;34m)\u001B[0m\u001B[0;34m\u001B[0m\u001B[0;34m\u001B[0m\u001B[0m\n\u001B[1;32m     14\u001B[0m         \u001B[0mcs\u001B[0m\u001B[0;34m.\u001B[0m\u001B[0msort\u001B[0m\u001B[0;34m(\u001B[0m\u001B[0mkey\u001B[0m\u001B[0;34m=\u001B[0m\u001B[0;32mlambda\u001B[0m \u001B[0mc\u001B[0m\u001B[0;34m:\u001B[0m \u001B[0mc\u001B[0m\u001B[0;34m.\u001B[0m\u001B[0mscore\u001B[0m\u001B[0;34m,\u001B[0m \u001B[0mreverse\u001B[0m\u001B[0;34m=\u001B[0m\u001B[0;32mTrue\u001B[0m\u001B[0;34m)\u001B[0m\u001B[0;34m\u001B[0m\u001B[0;34m\u001B[0m\u001B[0m\n",
      "\u001B[0;32m~/work/rcv-tensorflow/Voter.py\u001B[0m in \u001B[0;36mscore\u001B[0;34m(self, candidate, config)\u001B[0m\n\u001B[1;32m     42\u001B[0m \u001B[0;34m\u001B[0m\u001B[0m\n\u001B[1;32m     43\u001B[0m     \u001B[0;32mdef\u001B[0m \u001B[0mscore\u001B[0m\u001B[0;34m(\u001B[0m\u001B[0mself\u001B[0m\u001B[0;34m,\u001B[0m \u001B[0mcandidate\u001B[0m\u001B[0;34m:\u001B[0m \u001B[0mCandidate\u001B[0m\u001B[0;34m,\u001B[0m \u001B[0mconfig\u001B[0m\u001B[0;34m:\u001B[0m \u001B[0mElectionConfig\u001B[0m\u001B[0;34m)\u001B[0m \u001B[0;34m->\u001B[0m \u001B[0mfloat\u001B[0m\u001B[0;34m:\u001B[0m\u001B[0;34m\u001B[0m\u001B[0;34m\u001B[0m\u001B[0m\n\u001B[0;32m---> 44\u001B[0;31m         \u001B[0mscore\u001B[0m \u001B[0;34m=\u001B[0m \u001B[0;34m-\u001B[0m\u001B[0mself\u001B[0m\u001B[0;34m.\u001B[0m\u001B[0mideology\u001B[0m\u001B[0;34m.\u001B[0m\u001B[0mdistance\u001B[0m\u001B[0;34m(\u001B[0m\u001B[0mcandidate\u001B[0m\u001B[0;34m.\u001B[0m\u001B[0mideology\u001B[0m\u001B[0;34m)\u001B[0m\u001B[0;34m\u001B[0m\u001B[0;34m\u001B[0m\u001B[0m\n\u001B[0m\u001B[1;32m     45\u001B[0m         \u001B[0mscore\u001B[0m \u001B[0;34m+=\u001B[0m \u001B[0mcandidate\u001B[0m\u001B[0;34m.\u001B[0m\u001B[0mquality\u001B[0m\u001B[0;34m\u001B[0m\u001B[0;34m\u001B[0m\u001B[0m\n\u001B[1;32m     46\u001B[0m         \u001B[0mscore\u001B[0m \u001B[0;34m+=\u001B[0m \u001B[0mrandom\u001B[0m\u001B[0;34m.\u001B[0m\u001B[0mnormalvariate\u001B[0m\u001B[0;34m(\u001B[0m\u001B[0;36m0\u001B[0m\u001B[0;34m,\u001B[0m \u001B[0mconfig\u001B[0m\u001B[0;34m.\u001B[0m\u001B[0muncertainty\u001B[0m\u001B[0;34m)\u001B[0m\u001B[0;34m\u001B[0m\u001B[0;34m\u001B[0m\u001B[0m\n",
      "\u001B[0;32m~/work/rcv-tensorflow/Ideology.py\u001B[0m in \u001B[0;36mdistance\u001B[0;34m(self, rhs)\u001B[0m\n\u001B[1;32m     24\u001B[0m \u001B[0;34m\u001B[0m\u001B[0m\n\u001B[1;32m     25\u001B[0m     \u001B[0;32mdef\u001B[0m \u001B[0mdistance\u001B[0m\u001B[0;34m(\u001B[0m\u001B[0mself\u001B[0m\u001B[0;34m,\u001B[0m \u001B[0mrhs\u001B[0m\u001B[0;34m:\u001B[0m \u001B[0mIdeologyBase\u001B[0m\u001B[0;34m)\u001B[0m \u001B[0;34m->\u001B[0m \u001B[0mfloat\u001B[0m\u001B[0;34m:\u001B[0m\u001B[0;34m\u001B[0m\u001B[0;34m\u001B[0m\u001B[0m\n\u001B[0;32m---> 26\u001B[0;31m         \u001B[0;32mreturn\u001B[0m \u001B[0mself\u001B[0m\u001B[0;34m.\u001B[0m\u001B[0meuclidean_distance\u001B[0m\u001B[0;34m(\u001B[0m\u001B[0mrhs\u001B[0m\u001B[0;34m)\u001B[0m\u001B[0;34m\u001B[0m\u001B[0;34m\u001B[0m\u001B[0m\n\u001B[0m\u001B[1;32m     27\u001B[0m \u001B[0;34m\u001B[0m\u001B[0m\n\u001B[1;32m     28\u001B[0m     \u001B[0;31m# Manhattan distance\u001B[0m\u001B[0;34m\u001B[0m\u001B[0;34m\u001B[0m\u001B[0;34m\u001B[0m\u001B[0m\n",
      "\u001B[0;32m~/work/rcv-tensorflow/Ideology.py\u001B[0m in \u001B[0;36meuclidean_distance\u001B[0;34m(self, rhs)\u001B[0m\n\u001B[1;32m     21\u001B[0m     \u001B[0;32mdef\u001B[0m \u001B[0meuclidean_distance\u001B[0m\u001B[0;34m(\u001B[0m\u001B[0mself\u001B[0m\u001B[0;34m,\u001B[0m \u001B[0mrhs\u001B[0m\u001B[0;34m:\u001B[0m \u001B[0mIdeologyBase\u001B[0m\u001B[0;34m)\u001B[0m \u001B[0;34m->\u001B[0m \u001B[0mfloat\u001B[0m\u001B[0;34m:\u001B[0m\u001B[0;34m\u001B[0m\u001B[0;34m\u001B[0m\u001B[0m\n\u001B[1;32m     22\u001B[0m         \u001B[0mdeltas\u001B[0m \u001B[0;34m=\u001B[0m \u001B[0mrhs\u001B[0m\u001B[0;34m.\u001B[0m\u001B[0mvec\u001B[0m \u001B[0;34m-\u001B[0m \u001B[0mself\u001B[0m\u001B[0;34m.\u001B[0m\u001B[0mvec\u001B[0m\u001B[0;34m\u001B[0m\u001B[0;34m\u001B[0m\u001B[0m\n\u001B[0;32m---> 23\u001B[0;31m         \u001B[0;32mreturn\u001B[0m \u001B[0mnp\u001B[0m\u001B[0;34m.\u001B[0m\u001B[0msqrt\u001B[0m\u001B[0;34m(\u001B[0m\u001B[0mnp\u001B[0m\u001B[0;34m.\u001B[0m\u001B[0msum\u001B[0m\u001B[0;34m(\u001B[0m\u001B[0mdeltas\u001B[0m \u001B[0;34m*\u001B[0m \u001B[0mdeltas\u001B[0m\u001B[0;34m)\u001B[0m\u001B[0;34m)\u001B[0m\u001B[0;34m\u001B[0m\u001B[0;34m\u001B[0m\u001B[0m\n\u001B[0m\u001B[1;32m     24\u001B[0m \u001B[0;34m\u001B[0m\u001B[0m\n\u001B[1;32m     25\u001B[0m     \u001B[0;32mdef\u001B[0m \u001B[0mdistance\u001B[0m\u001B[0;34m(\u001B[0m\u001B[0mself\u001B[0m\u001B[0;34m,\u001B[0m \u001B[0mrhs\u001B[0m\u001B[0;34m:\u001B[0m \u001B[0mIdeologyBase\u001B[0m\u001B[0;34m)\u001B[0m \u001B[0;34m->\u001B[0m \u001B[0mfloat\u001B[0m\u001B[0;34m:\u001B[0m\u001B[0;34m\u001B[0m\u001B[0;34m\u001B[0m\u001B[0m\n",
      "\u001B[0;31mKeyboardInterrupt\u001B[0m: "
     ]
    }
   ],
   "source": [
    "dims = [4]\n",
    "processes = [\n",
    "    ElectionConstructor(constructor=construct_irv, name=\"Instant Runoff\"),\n",
    "    ElectionConstructor(constructor=construct_h2h, name=\"Head-to-Head\")\n",
    "]\n",
    "\n",
    "results = []\n",
    "for bins in [64, 128]:\n",
    "    for process in processes:\n",
    "        for dim in dims:\n",
    "            stats, model = run_parameter_set(process, bins, dim)\n",
    "            results.append(ProcessResult(process, bins, dim, stats))\n",
    "            results[-1].print()\n",
    "\n",
    "for r in results:\n",
    "    r.print()"
   ],
   "metadata": {
    "collapsed": false,
    "pycharm": {
     "name": "#%%\n"
    }
   }
  },
  {
   "cell_type": "code",
   "execution_count": null,
   "outputs": [],
   "source": [
    "import numpy as np\n",
    "import tensorflow as tf\n",
    "x = np.array([x for x in range(100)])\n",
    "tf.gather(x, [10,20,30,40])"
   ],
   "metadata": {
    "collapsed": false,
    "pycharm": {
     "name": "#%%\n"
    }
   }
  }
 ],
 "metadata": {
  "kernelspec": {
   "display_name": "Python 3",
   "language": "python",
   "name": "python3"
  },
  "language_info": {
   "codemirror_mode": {
    "name": "ipython",
    "version": 2
   },
   "file_extension": ".py",
   "mimetype": "text/x-python",
   "name": "python",
   "nbconvert_exporter": "python",
   "pygments_lexer": "ipython2",
   "version": "2.7.6"
  }
 },
 "nbformat": 4,
 "nbformat_minor": 0
}