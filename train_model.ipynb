{
 "cells": [
  {
   "cell_type": "code",
   "execution_count": 1,
   "metadata": {
    "collapsed": true
   },
   "outputs": [],
   "source": [
    "import matplotlib.pyplot as plt\n",
    "\n",
    "from Ballot import Ballot\n",
    "from DefaultConfigOptions import *\n",
    "from PartyPrimaryElection import PartyPrimaryElection\n",
    "from ElectionResult import ElectionResult\n",
    "from DistrictData import DistrictVotingRecord, DistrictData\n",
    "from InstantRunoffElection import InstantRunoffElection\n",
    "from HeadToHeadElection import HeadToHeadElection\n",
    "from Population import Population\n",
    "from NDPopulation import NDPopulation\n",
    "from typing import List, Set, Callable\n",
    "from Election import Election\n",
    "from CandidateModel import CandidateModel\n",
    "import tensorflow as tf\n",
    "import tensorboard as tb\n",
    "from Timings import Timings"
   ]
  },
  {
   "cell_type": "code",
   "execution_count": 2,
   "outputs": [],
   "source": [
    "\n",
    "\n",
    "class ElectionConstructor:\n",
    "    def __init__(self, constructor: Callable[[List[Ballot], Set[Candidate]], Election], name: str):\n",
    "        self.constructor = constructor\n",
    "        self.name = name\n",
    "\n",
    "    def run(self, ballots: List[Ballot], candidates: Set[Candidate]) -> ElectionResult:\n",
    "        e = self.constructor(ballots, candidates)\n",
    "        return e.result()\n",
    "\n",
    "\n",
    "def construct_irv(ballots: List[Ballot], candidates: Set[Candidate]):\n",
    "    return InstantRunoffElection(ballots, candidates)\n",
    "\n",
    "\n",
    "def construct_h2h(ballots: List[Ballot], candidates: Set[Candidate]):\n",
    "    return HeadToHeadElection(ballots, candidates)"
   ],
   "metadata": {
    "collapsed": false,
    "pycharm": {
     "name": "#%%\n"
    }
   }
  },
  {
   "cell_type": "code",
   "execution_count": 3,
   "outputs": [],
   "source": [
    "class Sample:\n",
    "    def __init__(self, opponents: List[Candidate], candidate: Candidate):\n",
    "        self.opponents = opponents.copy()\n",
    "        self.candidate = candidate"
   ],
   "metadata": {
    "collapsed": false,
    "pycharm": {
     "name": "#%%\n"
    }
   }
  },
  {
   "cell_type": "code",
   "execution_count": 4,
   "outputs": [],
   "source": [
    "def create_model_and_population(ideology_bins: int, ideology_dim: int) -> (CandidateModel, NDPopulation):\n",
    "    ideology_bins = 64\n",
    "    hidden_ratio = 4\n",
    "    n_hidden = hidden_ratio * ideology_bins * ideology_dim\n",
    "    n_latent = ideology_bins * ideology_dim\n",
    "    batch_size = 128\n",
    "    learn_rate = .001\n",
    "\n",
    "    model = CandidateModel(ideology_bins=ideology_bins,\n",
    "                                     ideology_dim=ideology_dim,\n",
    "                                     n_hidden=n_hidden,\n",
    "                                     n_latent = n_latent,\n",
    "                                     batch_size=batch_size,\n",
    "                                     learn_rate= learn_rate)\n",
    "\n",
    "    population_means = np.zeros(shape=(ideology_dim,))\n",
    "    population_stddev = np.ones(shape=(ideology_dim,)) * 40\n",
    "    pop = NDPopulation(population_means, population_stddev, Independents)\n",
    "    return model, pop"
   ],
   "metadata": {
    "collapsed": false,
    "pycharm": {
     "name": "#%%\n"
    }
   }
  },
  {
   "cell_type": "code",
   "execution_count": 5,
   "outputs": [],
   "source": [
    "class Stats:\n",
    "    def __init__(self):\n",
    "        self.model_count = 1e-5\n",
    "        self.model_winners = 1e-5\n",
    "        self.random_count = 1e-5\n",
    "        self.random_winners = 1e-5\n",
    "        self.model_winner_distance = 0\n",
    "        self.random_winner_distance = 0\n",
    "        self.results = []\n",
    "\n",
    "\n",
    "    def reset(self):\n",
    "        self.model_count = 1e-5\n",
    "        self.model_winners = 1e-5\n",
    "        self.random_count = 1e-5\n",
    "        self.random_winners = 1e-5\n",
    "        self.model_winner_distance = 0\n",
    "        self.random_winner_distance = 0\n",
    "        self.results = []\n",
    "\n",
    "    def update(self, winner: Candidate, candidates: List[Candidate]):\n",
    "        self.results += (winner, candidates)\n",
    "\n",
    "        for c in candidates:\n",
    "            if c.name[0] == 'r':\n",
    "                self.add_random()\n",
    "            else:\n",
    "                self.add_model()\n",
    "\n",
    "        if winner.name[0] == 'r':\n",
    "            self.add_random_winner(winner)\n",
    "        else:\n",
    "            self.add_model_winner(winner)\n",
    "\n",
    "\n",
    "\n",
    "    def add_random(self):\n",
    "        self.random_count += 1\n",
    "\n",
    "    def add_model(self):\n",
    "        self.model_count += 1\n",
    "\n",
    "    def add_random_winner(self, w: Candidate):\n",
    "        self.random_winners += 1\n",
    "        self.random_winner_distance += w.ideology.distance_from_o()\n",
    "\n",
    "    def add_model_winner(self, w: Candidate):\n",
    "        self.model_winners += 1\n",
    "        self.model_winner_distance += w.ideology.distance_from_o()\n",
    "\n",
    "    def print(self, label: str, global_step: int):\n",
    "        print(\"%15s %6d, %5d \" %\n",
    "               (label,\n",
    "                global_step,\n",
    "               len(self.results)), end=\"\")\n",
    "\n",
    "        print(\"random %6d/%6d %5.2f%% O: %5.2f\" %\n",
    "              (self.random_count,\n",
    "               self.random_winners,\n",
    "               100 * self.random_winners / self.random_count,\n",
    "               self.random_winner_distance / self.random_winners), end='')\n",
    "\n",
    "        print(\" model %6d/%6d %5.2f%% O: %5.2f\" %\n",
    "              (self.model_count,\n",
    "               self.model_winners,\n",
    "               100 * self.model_winners / self.model_count,\n",
    "               self.model_winner_distance/ self.model_winners), end='')\n",
    "\n",
    "        print(\" chance of model_winner = %5.2f%%\" % (\n",
    "                100 * self.model_winners / (self.model_winners + self.random_winners))\n",
    "              )\n"
   ],
   "metadata": {
    "collapsed": false,
    "pycharm": {
     "name": "#%%\n"
    }
   }
  },
  {
   "cell_type": "code",
   "execution_count": 6,
   "outputs": [],
   "source": [
    "def run_sample_election(model: CandidateModel, process: ElectionConstructor, population: NDPopulation, timings: Timings):\n",
    "    candidates = []\n",
    "    model_entries = set(np.random.choice(range(6), 3, replace=False))\n",
    "    for i in range(6):\n",
    "        if i in model_entries and model.ready():\n",
    "            ideology = Ideology(model.choose_ideology(candidates))\n",
    "            c = Candidate(\"m-\" + str(i), Independents, ideology, 0)\n",
    "        else:\n",
    "            ideology = population.sample_voter().ideology\n",
    "            c = Candidate(\"r-\" + str(i), Independents, ideology, 0)\n",
    "\n",
    "        candidates += [c]\n",
    "\n",
    "    with timings.time_block(\"generate_voters\"):\n",
    "        voters = population.generate_voters(1000)\n",
    "\n",
    "    with timings.time_block(\"compute_ballots\"):\n",
    "        ballots = [Ballot(v, candidates, default_election_config) for v in voters]\n",
    "\n",
    "    with timings.time_block(\"run_process\"):\n",
    "        result = process.run(ballots, set(candidates))\n",
    "    winner = result.winner()\n",
    "\n",
    "    return winner, candidates"
   ],
   "metadata": {
    "collapsed": false,
    "pycharm": {
     "name": "#%%\n"
    }
   }
  },
  {
   "cell_type": "code",
   "execution_count": 7,
   "outputs": [],
   "source": [
    "def train_candidate_model(model: CandidateModel, process: ElectionConstructor, population: NDPopulation):\n",
    "    timings = Timings()\n",
    "    stats = Stats()\n",
    "    first = True\n",
    "    while model.global_step < 5000:\n",
    "        with timings.time_block(\"run_election\"):\n",
    "            winner, candidates = run_sample_election(model, process, population, timings)\n",
    "        with timings.time_block(\"add_sample\"):\n",
    "            for i in range(len(candidates)):\n",
    "                model.add_sample_from_candidates(candidates[i], candidates[0:i], winner)\n",
    "\n",
    "        if model.ready():\n",
    "            if first:\n",
    "                print(\"starting to train\")\n",
    "                first = False\n",
    "\n",
    "            stats.update(winner, candidates)\n",
    "            with timings.time_block(\"model.train\"):\n",
    "                model.train(128)\n",
    "            s = model.global_step\n",
    "            if (s < 100 and s % 10 == 0) or (s < 1000 and s % 100 == 0) or s % 1000 == 0:\n",
    "                stats.print(process.name, model.global_step)\n",
    "                if model.global_step < 10000:\n",
    "                    stats.reset()\n",
    "\n",
    "    timings.print()"
   ],
   "metadata": {
    "collapsed": false,
    "pycharm": {
     "name": "#%%\n"
    }
   }
  },
  {
   "cell_type": "code",
   "execution_count": 8,
   "outputs": [],
   "source": [
    "def check_stats(stats: Stats, model: CandidateModel, process: ElectionConstructor, population: NDPopulation):\n",
    "    results=[]\n",
    "    timings = Timings()\n",
    "    for i in range(1000):\n",
    "        winner, candidates = run_sample_election(model, process, population, timings)\n",
    "        stats.update(winner, candidates)\n",
    "        results.append((winner, candidates))"
   ],
   "metadata": {
    "collapsed": false,
    "pycharm": {
     "name": "#%%\n"
    }
   }
  },
  {
   "cell_type": "code",
   "execution_count": 9,
   "outputs": [],
   "source": [
    "class ProcessResult:\n",
    "    def __init__(self, process: ElectionConstructor, bins: int, dim: int, stats: Stats, model: CandidateModel):\n",
    "        self.process = process\n",
    "        self.dim = dim\n",
    "        self.bins = bins\n",
    "        self.stats = stats\n",
    "        self.model = model\n",
    "        self.label = \"%15s ib%3d %dD\" % (process.name, bins, dim)\n",
    "\n",
    "    def print(self):\n",
    "        stats.print(self.label, self.model.global_step)"
   ],
   "metadata": {
    "collapsed": false,
    "pycharm": {
     "name": "#%%\n"
    }
   }
  },
  {
   "cell_type": "code",
   "execution_count": 10,
   "outputs": [],
   "source": [
    "def run_parameter_set(process: ElectionConstructor, ibins: int, dim: int):\n",
    "    model, population = create_model_and_population(ibins, dim)\n",
    "    train_candidate_model(model, process, population)\n",
    "    stats = Stats()\n",
    "    check_stats(stats, model, process, population)\n",
    "    return stats, model"
   ],
   "metadata": {
    "collapsed": false,
    "pycharm": {
     "name": "#%%\n"
    }
   }
  },
  {
   "cell_type": "code",
   "execution_count": 11,
   "outputs": [
    {
     "name": "stdout",
     "output_type": "stream",
     "text": [
      "starting to train\n",
      " Instant Runoff     10,    20 random     33/     6 18.18% O: 32.80 model     27/     4 14.81% O: 30.47 chance of model_winner = 40.00%\n",
      " Instant Runoff     20,    20 random     30/     8 26.67% O: 28.75 model     30/     2  6.67% O: 29.69 chance of model_winner = 20.00%\n",
      " Instant Runoff     30,    20 random     30/     2  6.67% O: 30.20 model     30/     8 26.67% O: 30.86 chance of model_winner = 80.00%\n",
      " Instant Runoff     40,    20 random     30/     1  3.33% O: 39.20 model     30/     9 30.00% O: 29.86 chance of model_winner = 90.00%\n",
      " Instant Runoff     50,    20 random     30/     1  3.33% O: 32.99 model     30/     9 30.00% O: 30.56 chance of model_winner = 90.00%\n",
      " Instant Runoff     60,    20 random     30/     3 10.00% O: 39.00 model     30/     7 23.33% O: 31.70 chance of model_winner = 70.00%\n",
      " Instant Runoff     70,    20 random     30/     1  3.33% O: 28.43 model     30/     9 30.00% O: 28.82 chance of model_winner = 90.00%\n",
      " Instant Runoff     80,    20 random     30/     2  6.67% O: 32.17 model     30/     8 26.67% O: 29.30 chance of model_winner = 80.00%\n",
      " Instant Runoff     90,    20 random     30/     3 10.00% O: 32.57 model     30/     7 23.33% O: 30.36 chance of model_winner = 70.00%\n",
      " Instant Runoff    100,    20 random     30/     1  3.33% O: 29.10 model     30/     9 30.00% O: 31.60 chance of model_winner = 90.00%\n",
      " Instant Runoff    200,   200 random    300/    19  6.33% O: 27.11 model    300/    81 27.00% O: 31.37 chance of model_winner = 81.00%\n",
      " Instant Runoff    300,   200 random    300/    22  7.33% O: 26.41 model    300/    78 26.00% O: 31.85 chance of model_winner = 78.00%\n",
      " Instant Runoff    400,   200 random    300/    19  6.33% O: 29.19 model    300/    81 27.00% O: 30.67 chance of model_winner = 81.00%\n",
      " Instant Runoff    500,   200 random    300/    24  8.00% O: 29.26 model    300/    76 25.33% O: 29.81 chance of model_winner = 76.00%\n",
      " Instant Runoff    600,   200 random    300/    20  6.67% O: 30.44 model    300/    80 26.67% O: 31.41 chance of model_winner = 80.00%\n",
      " Instant Runoff    700,   200 random    300/    20  6.67% O: 29.62 model    300/    80 26.67% O: 30.12 chance of model_winner = 80.00%\n",
      " Instant Runoff    800,   200 random    300/    21  7.00% O: 28.69 model    300/    79 26.33% O: 29.98 chance of model_winner = 79.00%\n",
      " Instant Runoff    900,   200 random    300/    18  6.00% O: 26.20 model    300/    82 27.33% O: 29.69 chance of model_winner = 82.00%\n",
      " Instant Runoff   1000,   200 random    300/    19  6.33% O: 28.60 model    300/    81 27.00% O: 30.98 chance of model_winner = 81.00%\n",
      " Instant Runoff   2000,  2000 random   3000/   188  6.27% O: 27.95 model   3000/   812 27.07% O: 30.48 chance of model_winner = 81.20%\n",
      " Instant Runoff   3000,  2000 random   3000/   187  6.23% O: 29.22 model   3000/   813 27.10% O: 30.68 chance of model_winner = 81.30%\n",
      " Instant Runoff   4000,  2000 random   3000/   169  5.63% O: 29.21 model   3000/   831 27.70% O: 30.74 chance of model_winner = 83.10%\n",
      " Instant Runoff   5000,  2000 random   3000/   172  5.73% O: 28.81 model   3000/   828 27.60% O: 30.51 chance of model_winner = 82.80%\n",
      "     generate_voters 6666   88.983  0.01335\n",
      "     compute_ballots 6666  528.522  0.07929\n",
      "         run_process 6666   28.420  0.00426\n",
      "        run_election 6666  694.367  0.10417\n",
      "          add_sample 6666   33.576  0.00504\n",
      "         model.train 5000  470.007  0.09400\n",
      " Instant Runoff ib 64 1D   5000,  2000 random   3000/   177  5.90% O: 28.64 model   3000/   823 27.43% O: 30.84 chance of model_winner = 82.30%\n",
      "starting to train\n",
      " Instant Runoff     10,    20 random     33/     6 18.18% O: 38.23 model     27/     4 14.81% O: 42.52 chance of model_winner = 40.00%\n",
      " Instant Runoff     20,    20 random     30/     3 10.00% O: 42.92 model     30/     7 23.33% O: 37.20 chance of model_winner = 70.00%\n",
      " Instant Runoff     30,    20 random     30/     4 13.33% O: 41.13 model     30/     6 20.00% O: 43.49 chance of model_winner = 60.00%\n",
      " Instant Runoff     40,    20 random     30/     6 20.00% O: 34.74 model     30/     4 13.33% O: 34.55 chance of model_winner = 40.00%\n",
      " Instant Runoff     50,    20 random     30/     3 10.00% O: 41.39 model     30/     7 23.33% O: 36.30 chance of model_winner = 70.00%\n",
      " Instant Runoff     60,    20 random     30/     4 13.33% O: 30.65 model     30/     6 20.00% O: 37.83 chance of model_winner = 60.00%\n",
      " Instant Runoff     70,    20 random     30/     3 10.00% O: 49.94 model     30/     7 23.33% O: 36.10 chance of model_winner = 70.00%\n",
      " Instant Runoff     80,    20 random     30/     4 13.33% O: 35.20 model     30/     6 20.00% O: 36.41 chance of model_winner = 60.00%\n",
      " Instant Runoff     90,    20 random     30/     4 13.33% O: 36.99 model     30/     6 20.00% O: 36.67 chance of model_winner = 60.00%\n",
      " Instant Runoff    100,    20 random     30/     2  6.67% O: 27.58 model     30/     8 26.67% O: 37.54 chance of model_winner = 80.00%\n",
      " Instant Runoff    200,   200 random    300/    33 11.00% O: 39.04 model    300/    67 22.33% O: 35.13 chance of model_winner = 67.00%\n",
      " Instant Runoff    300,   200 random    300/    34 11.33% O: 30.76 model    300/    66 22.00% O: 32.12 chance of model_winner = 66.00%\n",
      " Instant Runoff    400,   200 random    300/    29  9.67% O: 30.90 model    300/    71 23.67% O: 33.32 chance of model_winner = 71.00%\n",
      " Instant Runoff    500,   200 random    300/    33 11.00% O: 34.98 model    300/    67 22.33% O: 35.16 chance of model_winner = 67.00%\n",
      " Instant Runoff    600,   200 random    300/    33 11.00% O: 33.96 model    300/    67 22.33% O: 37.01 chance of model_winner = 67.00%\n",
      " Instant Runoff    700,   200 random    300/    22  7.33% O: 32.12 model    300/    78 26.00% O: 33.98 chance of model_winner = 78.00%\n",
      " Instant Runoff    800,   200 random    300/    27  9.00% O: 34.61 model    300/    73 24.33% O: 34.81 chance of model_winner = 73.00%\n",
      " Instant Runoff    900,   200 random    300/    27  9.00% O: 37.17 model    300/    73 24.33% O: 34.31 chance of model_winner = 73.00%\n",
      " Instant Runoff   1000,   200 random    300/    32 10.67% O: 35.99 model    300/    68 22.67% O: 33.27 chance of model_winner = 68.00%\n",
      " Instant Runoff   2000,  2000 random   3000/   252  8.40% O: 33.89 model   3000/   748 24.93% O: 35.43 chance of model_winner = 74.80%\n",
      " Instant Runoff   3000,  2000 random   3000/   291  9.70% O: 34.73 model   3000/   709 23.63% O: 36.25 chance of model_winner = 70.90%\n",
      " Instant Runoff   4000,  2000 random   3000/   262  8.73% O: 34.44 model   3000/   738 24.60% O: 36.17 chance of model_winner = 73.80%\n",
      " Instant Runoff   5000,  2000 random   3000/   268  8.93% O: 35.73 model   3000/   732 24.40% O: 36.43 chance of model_winner = 73.20%\n",
      "     generate_voters 6666   91.637  0.01375\n",
      "     compute_ballots 6666  540.368  0.08106\n",
      "         run_process 6666   28.684  0.00430\n",
      "        run_election 6666  721.505  0.10824\n",
      "          add_sample 6666   86.081  0.01291\n",
      "         model.train 5000  779.109  0.15582\n",
      " Instant Runoff ib 64 2D   5000,  2000 random   3000/   266  8.87% O: 34.83 model   3000/   734 24.47% O: 36.31 chance of model_winner = 73.40%\n",
      "starting to train\n",
      " Instant Runoff     10,    20 random     33/     4 12.12% O: 55.94 model     27/     6 22.22% O: 49.87 chance of model_winner = 60.00%\n",
      " Instant Runoff     20,    20 random     30/     5 16.67% O: 40.10 model     30/     5 16.67% O: 46.85 chance of model_winner = 50.00%\n",
      " Instant Runoff     30,    20 random     30/     9 30.00% O: 53.99 model     30/     1  3.33% O: 40.74 chance of model_winner = 10.00%\n",
      " Instant Runoff     40,    20 random     30/     6 20.00% O: 46.94 model     30/     4 13.33% O: 48.17 chance of model_winner = 40.00%\n",
      " Instant Runoff     50,    20 random     30/     5 16.67% O: 46.54 model     30/     5 16.67% O: 37.46 chance of model_winner = 50.00%\n",
      " Instant Runoff     60,    20 random     30/     4 13.33% O: 48.25 model     30/     6 20.00% O: 38.52 chance of model_winner = 60.00%\n",
      " Instant Runoff     70,    20 random     30/     2  6.67% O: 48.92 model     30/     8 26.67% O: 35.93 chance of model_winner = 80.00%\n",
      " Instant Runoff     80,    20 random     30/     1  3.33% O: 50.00 model     30/     9 30.00% O: 36.24 chance of model_winner = 90.00%\n",
      " Instant Runoff     90,    20 random     30/     4 13.33% O: 41.96 model     30/     6 20.00% O: 39.42 chance of model_winner = 60.00%\n",
      " Instant Runoff    100,    20 random     30/     4 13.33% O: 34.48 model     30/     6 20.00% O: 38.72 chance of model_winner = 60.00%\n",
      " Instant Runoff    200,   200 random    300/    36 12.00% O: 45.10 model    300/    64 21.33% O: 38.50 chance of model_winner = 64.00%\n",
      " Instant Runoff    300,   200 random    300/    34 11.33% O: 44.78 model    300/    66 22.00% O: 43.45 chance of model_winner = 66.00%\n",
      " Instant Runoff    400,   200 random    300/    27  9.00% O: 44.31 model    300/    73 24.33% O: 44.95 chance of model_winner = 73.00%\n",
      " Instant Runoff    500,   200 random    300/    41 13.67% O: 42.60 model    300/    59 19.67% O: 44.09 chance of model_winner = 59.00%\n",
      " Instant Runoff    600,   200 random    300/    24  8.00% O: 47.80 model    300/    76 25.33% O: 46.99 chance of model_winner = 76.00%\n",
      " Instant Runoff    700,   200 random    300/    33 11.00% O: 48.22 model    300/    67 22.33% O: 46.85 chance of model_winner = 67.00%\n",
      " Instant Runoff    800,   200 random    300/    25  8.33% O: 46.48 model    300/    75 25.00% O: 48.07 chance of model_winner = 75.00%\n",
      " Instant Runoff    900,   200 random    300/    31 10.33% O: 45.10 model    300/    69 23.00% O: 48.10 chance of model_winner = 69.00%\n",
      " Instant Runoff   1000,   200 random    300/    30 10.00% O: 45.71 model    300/    70 23.33% O: 48.45 chance of model_winner = 70.00%\n",
      " Instant Runoff   2000,  2000 random   3000/   295  9.83% O: 45.48 model   3000/   705 23.50% O: 46.95 chance of model_winner = 70.50%\n",
      " Instant Runoff   3000,  2000 random   3000/   278  9.27% O: 44.03 model   3000/   722 24.07% O: 45.58 chance of model_winner = 72.20%\n",
      " Instant Runoff   4000,  2000 random   3000/   272  9.07% O: 43.95 model   3000/   728 24.27% O: 44.39 chance of model_winner = 72.80%\n",
      " Instant Runoff   5000,  2000 random   3000/   280  9.33% O: 43.98 model   3000/   720 24.00% O: 44.56 chance of model_winner = 72.00%\n",
      "     generate_voters 6666   96.926  0.01454\n",
      "     compute_ballots 6666  543.295  0.08150\n",
      "         run_process 6666   28.631  0.00430\n",
      "        run_election 6666  748.937  0.11235\n",
      "          add_sample 6666   95.790  0.01437\n",
      "         model.train 5000 1213.089  0.24262\n",
      " Instant Runoff ib 64 3D   5000,  2000 random   3000/   391 13.03% O: 49.52 model   3000/   609 20.30% O: 46.33 chance of model_winner = 60.90%\n",
      "starting to train\n",
      "   Head-to-Head     10,    20 random     33/     3  9.09% O:  7.27 model     27/     7 25.93% O:  3.12 chance of model_winner = 70.00%\n",
      "   Head-to-Head     20,    20 random     30/     1  3.33% O:  1.50 model     30/     9 30.00% O:  2.43 chance of model_winner = 90.00%\n",
      "   Head-to-Head     30,    20 random     30/     0  0.00% O:  0.00 model     30/    10 33.33% O:  2.81 chance of model_winner = 100.00%\n",
      "   Head-to-Head     40,    20 random     30/     3 10.00% O:  4.16 model     30/     7 23.33% O:  2.23 chance of model_winner = 70.00%\n",
      "   Head-to-Head     50,    20 random     30/     0  0.00% O:  0.00 model     30/    10 33.33% O:  1.25 chance of model_winner = 100.00%\n",
      "   Head-to-Head     60,    20 random     30/     2  6.67% O:  3.87 model     30/     8 26.67% O:  1.95 chance of model_winner = 80.00%\n",
      "   Head-to-Head     70,    20 random     30/     2  6.67% O:  3.24 model     30/     8 26.67% O:  3.12 chance of model_winner = 80.00%\n",
      "   Head-to-Head     80,    20 random     30/     0  0.00% O:  0.00 model     30/    10 33.33% O:  1.56 chance of model_winner = 100.00%\n",
      "   Head-to-Head     90,    20 random     30/     1  3.33% O:  8.83 model     30/     9 30.00% O:  3.12 chance of model_winner = 90.00%\n",
      "   Head-to-Head    100,    20 random     30/     0  0.00% O:  0.00 model     30/    10 33.33% O:  2.19 chance of model_winner = 100.00%\n",
      "   Head-to-Head    200,   200 random    300/    11  3.67% O:  3.67 model    300/    89 29.67% O:  2.39 chance of model_winner = 89.00%\n",
      "   Head-to-Head    300,   200 random    300/     5  1.67% O:  2.22 model    300/    95 31.67% O:  2.80 chance of model_winner = 95.00%\n",
      "   Head-to-Head    400,   200 random    300/    11  3.67% O:  4.28 model    300/    89 29.67% O:  2.95 chance of model_winner = 89.00%\n",
      "   Head-to-Head    500,   200 random    300/    12  4.00% O:  4.91 model    300/    88 29.33% O:  2.56 chance of model_winner = 88.00%\n",
      "   Head-to-Head    600,   200 random    300/     9  3.00% O:  2.47 model    300/    91 30.33% O:  3.09 chance of model_winner = 91.00%\n",
      "   Head-to-Head    700,   200 random    300/    18  6.00% O:  3.91 model    300/    82 27.33% O:  2.78 chance of model_winner = 82.00%\n",
      "   Head-to-Head    800,   200 random    300/    15  5.00% O:  3.59 model    300/    85 28.33% O:  1.95 chance of model_winner = 85.00%\n",
      "   Head-to-Head    900,   200 random    300/    14  4.67% O:  3.74 model    300/    86 28.67% O:  2.25 chance of model_winner = 86.00%\n",
      "   Head-to-Head   1000,   200 random    300/    10  3.33% O:  5.32 model    300/    90 30.00% O:  2.33 chance of model_winner = 90.00%\n",
      "   Head-to-Head   2000,  2000 random   3000/   114  3.80% O:  4.12 model   3000/   886 29.53% O:  2.48 chance of model_winner = 88.60%\n",
      "   Head-to-Head   3000,  2000 random   3000/    97  3.23% O:  4.11 model   3000/   903 30.10% O:  2.44 chance of model_winner = 90.30%\n",
      "   Head-to-Head   4000,  2000 random   3000/   116  3.87% O:  4.11 model   3000/   884 29.47% O:  2.15 chance of model_winner = 88.40%\n",
      "   Head-to-Head   5000,  2000 random   3000/   103  3.43% O:  3.75 model   3000/   897 29.90% O:  1.89 chance of model_winner = 89.70%\n",
      "     generate_voters 6666   78.529  0.01178\n",
      "     compute_ballots 6666  560.288  0.08405\n",
      "         run_process 6666   70.017  0.01050\n",
      "        run_election 6666  757.504  0.11364\n",
      "          add_sample 6666   32.959  0.00494\n",
      "         model.train 5000  477.722  0.09554\n",
      "   Head-to-Head ib 64 1D   5000,  2000 random   3000/    91  3.03% O:  3.56 model   3000/   909 30.30% O:  1.66 chance of model_winner = 90.90%\n",
      "starting to train\n",
      "   Head-to-Head     10,    20 random     33/     1  3.03% O: 14.95 model     27/     9 33.33% O: 10.76 chance of model_winner = 90.00%\n",
      "   Head-to-Head     20,    20 random     30/     1  3.33% O:  9.53 model     30/     9 30.00% O:  7.21 chance of model_winner = 90.00%\n",
      "   Head-to-Head     30,    20 random     30/     0  0.00% O:  0.00 model     30/    10 33.33% O:  9.47 chance of model_winner = 100.00%\n",
      "   Head-to-Head     40,    20 random     30/     1  3.33% O:  4.41 model     30/     9 30.00% O:  5.85 chance of model_winner = 90.00%\n",
      "   Head-to-Head     50,    20 random     30/     0  0.00% O:  0.00 model     30/    10 33.33% O:  6.07 chance of model_winner = 100.00%\n",
      "   Head-to-Head     60,    20 random     30/     0  0.00% O:  0.00 model     30/    10 33.33% O:  4.60 chance of model_winner = 100.00%\n",
      "   Head-to-Head     70,    20 random     30/     0  0.00% O:  0.00 model     30/    10 33.33% O:  4.68 chance of model_winner = 100.00%\n",
      "   Head-to-Head     80,    20 random     30/     0  0.00% O:  0.00 model     30/    10 33.33% O:  4.42 chance of model_winner = 100.00%\n",
      "   Head-to-Head     90,    20 random     30/     0  0.00% O:  0.00 model     30/    10 33.33% O:  4.68 chance of model_winner = 100.00%\n",
      "   Head-to-Head    100,    20 random     30/     1  3.33% O:  1.25 model     30/     9 30.00% O:  4.99 chance of model_winner = 90.00%\n",
      "   Head-to-Head    200,   200 random    300/     6  2.00% O: 10.62 model    300/    94 31.33% O:  5.23 chance of model_winner = 94.00%\n",
      "   Head-to-Head    300,   200 random    300/     1  0.33% O:  2.83 model    300/    99 33.00% O:  5.05 chance of model_winner = 99.00%\n",
      "   Head-to-Head    400,   200 random    300/     6  2.00% O: 15.05 model    300/    94 31.33% O:  6.08 chance of model_winner = 94.00%\n",
      "   Head-to-Head    500,   200 random    300/     6  2.00% O: 12.77 model    300/    94 31.33% O:  6.11 chance of model_winner = 94.00%\n",
      "   Head-to-Head    600,   200 random    300/     4  1.33% O:  8.24 model    300/    96 32.00% O:  6.38 chance of model_winner = 96.00%\n",
      "   Head-to-Head    700,   200 random    300/     2  0.67% O: 10.04 model    300/    98 32.67% O:  5.86 chance of model_winner = 98.00%\n",
      "   Head-to-Head    800,   200 random    300/     2  0.67% O:  6.10 model    300/    98 32.67% O:  5.96 chance of model_winner = 98.00%\n",
      "   Head-to-Head    900,   200 random    300/     2  0.67% O: 14.53 model    300/    98 32.67% O:  5.38 chance of model_winner = 98.00%\n",
      "   Head-to-Head   1000,   200 random    300/     3  1.00% O:  5.67 model    300/    97 32.33% O:  5.08 chance of model_winner = 97.00%\n",
      "   Head-to-Head   2000,  2000 random   3000/    19  0.63% O:  8.65 model   3000/   981 32.70% O:  4.09 chance of model_winner = 98.10%\n",
      "   Head-to-Head   3000,  2000 random   3000/    30  1.00% O:  8.85 model   3000/   970 32.33% O:  3.62 chance of model_winner = 97.00%\n",
      "   Head-to-Head   4000,  2000 random   3000/    21  0.70% O:  8.47 model   3000/   979 32.63% O:  3.49 chance of model_winner = 97.90%\n",
      "   Head-to-Head   5000,  2000 random   3000/    27  0.90% O:  8.90 model   3000/   973 32.43% O:  3.14 chance of model_winner = 97.30%\n",
      "     generate_voters 6666   80.691  0.01210\n",
      "     compute_ballots 6666  559.157  0.08388\n",
      "         run_process 6666   69.785  0.01047\n",
      "        run_election 6666  768.143  0.11523\n",
      "          add_sample 6666   64.658  0.00970\n",
      "         model.train 5000  769.154  0.15383\n",
      "   Head-to-Head ib 64 2D   5000,  2000 random   3000/    18  0.60% O:  7.38 model   3000/   982 32.73% O:  2.87 chance of model_winner = 98.20%\n",
      "starting to train\n",
      "   Head-to-Head     10,    20 random     33/     2  6.06% O: 20.13 model     27/     8 29.63% O: 14.17 chance of model_winner = 80.00%\n",
      "   Head-to-Head     20,    20 random     30/     2  6.67% O: 16.22 model     30/     8 26.67% O: 15.55 chance of model_winner = 80.00%\n",
      "   Head-to-Head     30,    20 random     30/     0  0.00% O:  0.00 model     30/    10 33.33% O:  7.39 chance of model_winner = 100.00%\n",
      "   Head-to-Head     40,    20 random     30/     0  0.00% O:  0.00 model     30/    10 33.33% O:  5.00 chance of model_winner = 100.00%\n",
      "   Head-to-Head     50,    20 random     30/     0  0.00% O:  0.00 model     30/    10 33.33% O:  6.09 chance of model_winner = 100.00%\n",
      "   Head-to-Head     60,    20 random     30/     0  0.00% O:  0.00 model     30/    10 33.33% O:  2.70 chance of model_winner = 100.00%\n",
      "   Head-to-Head     70,    20 random     30/     0  0.00% O:  0.00 model     30/    10 33.33% O:  4.52 chance of model_winner = 100.00%\n",
      "   Head-to-Head     80,    20 random     30/     0  0.00% O:  0.00 model     30/    10 33.33% O:  5.62 chance of model_winner = 100.00%\n",
      "   Head-to-Head     90,    20 random     30/     0  0.00% O:  0.00 model     30/    10 33.33% O:  6.25 chance of model_winner = 100.00%\n",
      "   Head-to-Head    100,    20 random     30/     0  0.00% O:  0.00 model     30/    10 33.33% O:  6.99 chance of model_winner = 100.00%\n",
      "   Head-to-Head    200,   200 random    300/     0  0.00% O:  0.00 model    300/   100 33.33% O:  5.29 chance of model_winner = 100.00%\n",
      "   Head-to-Head    300,   200 random    300/     1  0.33% O: 24.06 model    300/    99 33.00% O:  6.21 chance of model_winner = 99.00%\n"
     ]
    },
    {
     "ename": "KeyboardInterrupt",
     "evalue": "",
     "output_type": "error",
     "traceback": [
      "\u001B[0;31m---------------------------------------------------------------------------\u001B[0m",
      "\u001B[0;31mKeyboardInterrupt\u001B[0m                         Traceback (most recent call last)",
      "\u001B[0;32m<ipython-input-11-d67a07c95360>\u001B[0m in \u001B[0;36m<module>\u001B[0;34m\u001B[0m\n\u001B[1;32m      9\u001B[0m     \u001B[0;32mfor\u001B[0m \u001B[0mprocess\u001B[0m \u001B[0;32min\u001B[0m \u001B[0mprocesses\u001B[0m\u001B[0;34m:\u001B[0m\u001B[0;34m\u001B[0m\u001B[0;34m\u001B[0m\u001B[0m\n\u001B[1;32m     10\u001B[0m         \u001B[0;32mfor\u001B[0m \u001B[0mdim\u001B[0m \u001B[0;32min\u001B[0m \u001B[0mdims\u001B[0m\u001B[0;34m:\u001B[0m\u001B[0;34m\u001B[0m\u001B[0;34m\u001B[0m\u001B[0m\n\u001B[0;32m---> 11\u001B[0;31m             \u001B[0mstats\u001B[0m\u001B[0;34m,\u001B[0m \u001B[0mmodel\u001B[0m \u001B[0;34m=\u001B[0m \u001B[0mrun_parameter_set\u001B[0m\u001B[0;34m(\u001B[0m\u001B[0mprocess\u001B[0m\u001B[0;34m,\u001B[0m \u001B[0mbins\u001B[0m\u001B[0;34m,\u001B[0m \u001B[0mdim\u001B[0m\u001B[0;34m)\u001B[0m\u001B[0;34m\u001B[0m\u001B[0;34m\u001B[0m\u001B[0m\n\u001B[0m\u001B[1;32m     12\u001B[0m             \u001B[0mresults\u001B[0m\u001B[0;34m.\u001B[0m\u001B[0mappend\u001B[0m\u001B[0;34m(\u001B[0m\u001B[0mProcessResult\u001B[0m\u001B[0;34m(\u001B[0m\u001B[0mprocess\u001B[0m\u001B[0;34m,\u001B[0m \u001B[0mbins\u001B[0m\u001B[0;34m,\u001B[0m \u001B[0mdim\u001B[0m\u001B[0;34m,\u001B[0m \u001B[0mstats\u001B[0m\u001B[0;34m,\u001B[0m \u001B[0mmodel\u001B[0m\u001B[0;34m)\u001B[0m\u001B[0;34m)\u001B[0m\u001B[0;34m\u001B[0m\u001B[0;34m\u001B[0m\u001B[0m\n\u001B[1;32m     13\u001B[0m             \u001B[0mresults\u001B[0m\u001B[0;34m[\u001B[0m\u001B[0;34m-\u001B[0m\u001B[0;36m1\u001B[0m\u001B[0;34m]\u001B[0m\u001B[0;34m.\u001B[0m\u001B[0mprint\u001B[0m\u001B[0;34m(\u001B[0m\u001B[0;34m)\u001B[0m\u001B[0;34m\u001B[0m\u001B[0;34m\u001B[0m\u001B[0m\n",
      "\u001B[0;32m<ipython-input-10-244838dc2263>\u001B[0m in \u001B[0;36mrun_parameter_set\u001B[0;34m(process, ibins, dim)\u001B[0m\n\u001B[1;32m      1\u001B[0m \u001B[0;32mdef\u001B[0m \u001B[0mrun_parameter_set\u001B[0m\u001B[0;34m(\u001B[0m\u001B[0mprocess\u001B[0m\u001B[0;34m:\u001B[0m \u001B[0mElectionConstructor\u001B[0m\u001B[0;34m,\u001B[0m \u001B[0mibins\u001B[0m\u001B[0;34m:\u001B[0m \u001B[0mint\u001B[0m\u001B[0;34m,\u001B[0m \u001B[0mdim\u001B[0m\u001B[0;34m:\u001B[0m \u001B[0mint\u001B[0m\u001B[0;34m)\u001B[0m\u001B[0;34m:\u001B[0m\u001B[0;34m\u001B[0m\u001B[0;34m\u001B[0m\u001B[0m\n\u001B[1;32m      2\u001B[0m     \u001B[0mmodel\u001B[0m\u001B[0;34m,\u001B[0m \u001B[0mpopulation\u001B[0m \u001B[0;34m=\u001B[0m \u001B[0mcreate_model_and_population\u001B[0m\u001B[0;34m(\u001B[0m\u001B[0mibins\u001B[0m\u001B[0;34m,\u001B[0m \u001B[0mdim\u001B[0m\u001B[0;34m)\u001B[0m\u001B[0;34m\u001B[0m\u001B[0;34m\u001B[0m\u001B[0m\n\u001B[0;32m----> 3\u001B[0;31m     \u001B[0mtrain_candidate_model\u001B[0m\u001B[0;34m(\u001B[0m\u001B[0mmodel\u001B[0m\u001B[0;34m,\u001B[0m \u001B[0mprocess\u001B[0m\u001B[0;34m,\u001B[0m \u001B[0mpopulation\u001B[0m\u001B[0;34m)\u001B[0m\u001B[0;34m\u001B[0m\u001B[0;34m\u001B[0m\u001B[0m\n\u001B[0m\u001B[1;32m      4\u001B[0m     \u001B[0mstats\u001B[0m \u001B[0;34m=\u001B[0m \u001B[0mStats\u001B[0m\u001B[0;34m(\u001B[0m\u001B[0;34m)\u001B[0m\u001B[0;34m\u001B[0m\u001B[0;34m\u001B[0m\u001B[0m\n\u001B[1;32m      5\u001B[0m     \u001B[0mcheck_stats\u001B[0m\u001B[0;34m(\u001B[0m\u001B[0mstats\u001B[0m\u001B[0;34m,\u001B[0m \u001B[0mmodel\u001B[0m\u001B[0;34m,\u001B[0m \u001B[0mprocess\u001B[0m\u001B[0;34m,\u001B[0m \u001B[0mpopulation\u001B[0m\u001B[0;34m)\u001B[0m\u001B[0;34m\u001B[0m\u001B[0;34m\u001B[0m\u001B[0m\n",
      "\u001B[0;32m<ipython-input-7-1ae0f9992022>\u001B[0m in \u001B[0;36mtrain_candidate_model\u001B[0;34m(model, process, population)\u001B[0m\n\u001B[1;32m     17\u001B[0m             \u001B[0mstats\u001B[0m\u001B[0;34m.\u001B[0m\u001B[0mupdate\u001B[0m\u001B[0;34m(\u001B[0m\u001B[0mwinner\u001B[0m\u001B[0;34m,\u001B[0m \u001B[0mcandidates\u001B[0m\u001B[0;34m)\u001B[0m\u001B[0;34m\u001B[0m\u001B[0;34m\u001B[0m\u001B[0m\n\u001B[1;32m     18\u001B[0m             \u001B[0;32mwith\u001B[0m \u001B[0mtimings\u001B[0m\u001B[0;34m.\u001B[0m\u001B[0mtime_block\u001B[0m\u001B[0;34m(\u001B[0m\u001B[0;34m\"model.train\"\u001B[0m\u001B[0;34m)\u001B[0m\u001B[0;34m:\u001B[0m\u001B[0;34m\u001B[0m\u001B[0;34m\u001B[0m\u001B[0m\n\u001B[0;32m---> 19\u001B[0;31m                 \u001B[0mmodel\u001B[0m\u001B[0;34m.\u001B[0m\u001B[0mtrain\u001B[0m\u001B[0;34m(\u001B[0m\u001B[0;36m128\u001B[0m\u001B[0;34m)\u001B[0m\u001B[0;34m\u001B[0m\u001B[0;34m\u001B[0m\u001B[0m\n\u001B[0m\u001B[1;32m     20\u001B[0m             \u001B[0ms\u001B[0m \u001B[0;34m=\u001B[0m \u001B[0mmodel\u001B[0m\u001B[0;34m.\u001B[0m\u001B[0mglobal_step\u001B[0m\u001B[0;34m\u001B[0m\u001B[0;34m\u001B[0m\u001B[0m\n\u001B[1;32m     21\u001B[0m             \u001B[0;32mif\u001B[0m \u001B[0;34m(\u001B[0m\u001B[0ms\u001B[0m \u001B[0;34m<\u001B[0m \u001B[0;36m100\u001B[0m \u001B[0;32mand\u001B[0m \u001B[0ms\u001B[0m \u001B[0;34m%\u001B[0m \u001B[0;36m10\u001B[0m \u001B[0;34m==\u001B[0m \u001B[0;36m0\u001B[0m\u001B[0;34m)\u001B[0m \u001B[0;32mor\u001B[0m \u001B[0;34m(\u001B[0m\u001B[0ms\u001B[0m \u001B[0;34m<\u001B[0m \u001B[0;36m1000\u001B[0m \u001B[0;32mand\u001B[0m \u001B[0ms\u001B[0m \u001B[0;34m%\u001B[0m \u001B[0;36m100\u001B[0m \u001B[0;34m==\u001B[0m \u001B[0;36m0\u001B[0m\u001B[0;34m)\u001B[0m \u001B[0;32mor\u001B[0m \u001B[0ms\u001B[0m \u001B[0;34m%\u001B[0m \u001B[0;36m1000\u001B[0m \u001B[0;34m==\u001B[0m \u001B[0;36m0\u001B[0m\u001B[0;34m:\u001B[0m\u001B[0;34m\u001B[0m\u001B[0;34m\u001B[0m\u001B[0m\n",
      "\u001B[0;32m~/work/rcv-tensorflow/CandidateModel.py\u001B[0m in \u001B[0;36mtrain\u001B[0;34m(self, batch_size)\u001B[0m\n\u001B[1;32m     45\u001B[0m         \u001B[0;32mfor\u001B[0m \u001B[0mdepth\u001B[0m \u001B[0;32min\u001B[0m \u001B[0mself\u001B[0m\u001B[0;34m.\u001B[0m\u001B[0mmemory\u001B[0m\u001B[0;34m.\u001B[0m\u001B[0mdepths\u001B[0m\u001B[0;34m(\u001B[0m\u001B[0;34m)\u001B[0m\u001B[0;34m:\u001B[0m\u001B[0;34m\u001B[0m\u001B[0;34m\u001B[0m\u001B[0m\n\u001B[1;32m     46\u001B[0m             \u001B[0mstate\u001B[0m\u001B[0;34m,\u001B[0m \u001B[0maction\u001B[0m\u001B[0;34m,\u001B[0m \u001B[0mreward\u001B[0m \u001B[0;34m=\u001B[0m \u001B[0mself\u001B[0m\u001B[0;34m.\u001B[0m\u001B[0mmemory\u001B[0m\u001B[0;34m.\u001B[0m\u001B[0mget_batch\u001B[0m\u001B[0;34m(\u001B[0m\u001B[0mdepth\u001B[0m\u001B[0;34m,\u001B[0m \u001B[0mbatch_size\u001B[0m\u001B[0;34m)\u001B[0m\u001B[0;34m\u001B[0m\u001B[0;34m\u001B[0m\u001B[0m\n\u001B[0;32m---> 47\u001B[0;31m             \u001B[0mself\u001B[0m\u001B[0;34m.\u001B[0m\u001B[0mupdate\u001B[0m\u001B[0;34m(\u001B[0m\u001B[0mstate\u001B[0m\u001B[0;34m,\u001B[0m \u001B[0maction\u001B[0m\u001B[0;34m,\u001B[0m \u001B[0mreward\u001B[0m\u001B[0;34m)\u001B[0m\u001B[0;34m\u001B[0m\u001B[0;34m\u001B[0m\u001B[0m\n\u001B[0m\u001B[1;32m     48\u001B[0m         \u001B[0mself\u001B[0m\u001B[0;34m.\u001B[0m\u001B[0mglobal_step\u001B[0m \u001B[0;34m+=\u001B[0m \u001B[0;36m1\u001B[0m\u001B[0;34m\u001B[0m\u001B[0;34m\u001B[0m\u001B[0m\n\u001B[1;32m     49\u001B[0m \u001B[0;34m\u001B[0m\u001B[0m\n",
      "\u001B[0;32m~/work/rcv-tensorflow/CandidateModel.py\u001B[0m in \u001B[0;36mupdate\u001B[0;34m(self, input_batch, actions, reward)\u001B[0m\n\u001B[1;32m     65\u001B[0m         \u001B[0mgrads\u001B[0m \u001B[0;34m=\u001B[0m \u001B[0mtape\u001B[0m\u001B[0;34m.\u001B[0m\u001B[0mgradient\u001B[0m\u001B[0;34m(\u001B[0m\u001B[0mloss\u001B[0m\u001B[0;34m,\u001B[0m \u001B[0mself\u001B[0m\u001B[0;34m.\u001B[0m\u001B[0mmodel\u001B[0m\u001B[0;34m.\u001B[0m\u001B[0mvariables\u001B[0m\u001B[0;34m)\u001B[0m\u001B[0;34m\u001B[0m\u001B[0;34m\u001B[0m\u001B[0m\n\u001B[1;32m     66\u001B[0m         \u001B[0mfiltered_grad_vars\u001B[0m \u001B[0;34m=\u001B[0m \u001B[0;34m[\u001B[0m\u001B[0;34m(\u001B[0m\u001B[0mgrad\u001B[0m\u001B[0;34m,\u001B[0m \u001B[0mvar\u001B[0m\u001B[0;34m)\u001B[0m \u001B[0;32mfor\u001B[0m \u001B[0;34m(\u001B[0m\u001B[0mgrad\u001B[0m\u001B[0;34m,\u001B[0m \u001B[0mvar\u001B[0m\u001B[0;34m)\u001B[0m \u001B[0;32min\u001B[0m \u001B[0mzip\u001B[0m\u001B[0;34m(\u001B[0m\u001B[0mgrads\u001B[0m\u001B[0;34m,\u001B[0m \u001B[0mself\u001B[0m\u001B[0;34m.\u001B[0m\u001B[0mmodel\u001B[0m\u001B[0;34m.\u001B[0m\u001B[0mtrainable_variables\u001B[0m\u001B[0;34m)\u001B[0m \u001B[0;32mif\u001B[0m \u001B[0mgrad\u001B[0m \u001B[0;32mis\u001B[0m \u001B[0;32mnot\u001B[0m \u001B[0;32mNone\u001B[0m\u001B[0;34m]\u001B[0m\u001B[0;34m\u001B[0m\u001B[0;34m\u001B[0m\u001B[0m\n\u001B[0;32m---> 67\u001B[0;31m         \u001B[0mself\u001B[0m\u001B[0;34m.\u001B[0m\u001B[0moptimizer\u001B[0m\u001B[0;34m.\u001B[0m\u001B[0mapply_gradients\u001B[0m\u001B[0;34m(\u001B[0m\u001B[0mfiltered_grad_vars\u001B[0m\u001B[0;34m,\u001B[0m \u001B[0mself\u001B[0m\u001B[0;34m.\u001B[0m\u001B[0mglobal_step\u001B[0m\u001B[0;34m)\u001B[0m\u001B[0;34m\u001B[0m\u001B[0;34m\u001B[0m\u001B[0m\n\u001B[0m\u001B[1;32m     68\u001B[0m \u001B[0;34m\u001B[0m\u001B[0m\n\u001B[1;32m     69\u001B[0m     \u001B[0;32mdef\u001B[0m \u001B[0mconvert_ideology_to_input\u001B[0m\u001B[0;34m(\u001B[0m\u001B[0mself\u001B[0m\u001B[0;34m,\u001B[0m \u001B[0mideology\u001B[0m\u001B[0;34m:\u001B[0m \u001B[0mIdeology\u001B[0m\u001B[0;34m)\u001B[0m \u001B[0;34m->\u001B[0m \u001B[0mTensor\u001B[0m\u001B[0;34m:\u001B[0m\u001B[0;34m\u001B[0m\u001B[0;34m\u001B[0m\u001B[0m\n",
      "\u001B[0;32m~/work/rcv-tensorflow/venv/lib/python3.8/site-packages/tensorflow/python/keras/optimizer_v2/optimizer_v2.py\u001B[0m in \u001B[0;36mapply_gradients\u001B[0;34m(self, grads_and_vars, name, experimental_aggregate_gradients)\u001B[0m\n\u001B[1;32m    623\u001B[0m             \"ParameterServerStrategy and CentralStorageStrategy\")\n\u001B[1;32m    624\u001B[0m \u001B[0;34m\u001B[0m\u001B[0m\n\u001B[0;32m--> 625\u001B[0;31m       \u001B[0mapply_state\u001B[0m \u001B[0;34m=\u001B[0m \u001B[0mself\u001B[0m\u001B[0;34m.\u001B[0m\u001B[0m_prepare\u001B[0m\u001B[0;34m(\u001B[0m\u001B[0mvar_list\u001B[0m\u001B[0;34m)\u001B[0m\u001B[0;34m\u001B[0m\u001B[0;34m\u001B[0m\u001B[0m\n\u001B[0m\u001B[1;32m    626\u001B[0m       \u001B[0;32mif\u001B[0m \u001B[0mexperimental_aggregate_gradients\u001B[0m\u001B[0;34m:\u001B[0m\u001B[0;34m\u001B[0m\u001B[0;34m\u001B[0m\u001B[0m\n\u001B[1;32m    627\u001B[0m         \u001B[0mgrads_and_vars\u001B[0m \u001B[0;34m=\u001B[0m \u001B[0mself\u001B[0m\u001B[0;34m.\u001B[0m\u001B[0m_transform_unaggregated_gradients\u001B[0m\u001B[0;34m(\u001B[0m\u001B[0mgrads_and_vars\u001B[0m\u001B[0;34m)\u001B[0m\u001B[0;34m\u001B[0m\u001B[0;34m\u001B[0m\u001B[0m\n",
      "\u001B[0;32m~/work/rcv-tensorflow/venv/lib/python3.8/site-packages/tensorflow/python/keras/optimizer_v2/optimizer_v2.py\u001B[0m in \u001B[0;36m_prepare\u001B[0;34m(self, var_list)\u001B[0m\n\u001B[1;32m    878\u001B[0m       \u001B[0mapply_state\u001B[0m\u001B[0;34m[\u001B[0m\u001B[0;34m(\u001B[0m\u001B[0mvar_device\u001B[0m\u001B[0;34m,\u001B[0m \u001B[0mvar_dtype\u001B[0m\u001B[0;34m)\u001B[0m\u001B[0;34m]\u001B[0m \u001B[0;34m=\u001B[0m \u001B[0;34m{\u001B[0m\u001B[0;34m}\u001B[0m\u001B[0;34m\u001B[0m\u001B[0;34m\u001B[0m\u001B[0m\n\u001B[1;32m    879\u001B[0m       \u001B[0;32mwith\u001B[0m \u001B[0mops\u001B[0m\u001B[0;34m.\u001B[0m\u001B[0mdevice\u001B[0m\u001B[0;34m(\u001B[0m\u001B[0mvar_device\u001B[0m\u001B[0;34m)\u001B[0m\u001B[0;34m:\u001B[0m\u001B[0;34m\u001B[0m\u001B[0;34m\u001B[0m\u001B[0m\n\u001B[0;32m--> 880\u001B[0;31m         \u001B[0mself\u001B[0m\u001B[0;34m.\u001B[0m\u001B[0m_prepare_local\u001B[0m\u001B[0;34m(\u001B[0m\u001B[0mvar_device\u001B[0m\u001B[0;34m,\u001B[0m \u001B[0mvar_dtype\u001B[0m\u001B[0;34m,\u001B[0m \u001B[0mapply_state\u001B[0m\u001B[0;34m)\u001B[0m\u001B[0;34m\u001B[0m\u001B[0;34m\u001B[0m\u001B[0m\n\u001B[0m\u001B[1;32m    881\u001B[0m \u001B[0;34m\u001B[0m\u001B[0m\n\u001B[1;32m    882\u001B[0m     \u001B[0;32mreturn\u001B[0m \u001B[0mapply_state\u001B[0m\u001B[0;34m\u001B[0m\u001B[0;34m\u001B[0m\u001B[0m\n",
      "\u001B[0;32m~/work/rcv-tensorflow/venv/lib/python3.8/site-packages/tensorflow/python/keras/optimizer_v2/adam.py\u001B[0m in \u001B[0;36m_prepare_local\u001B[0;34m(self, var_device, var_dtype, apply_state)\u001B[0m\n\u001B[1;32m    137\u001B[0m     \u001B[0mlocal_step\u001B[0m \u001B[0;34m=\u001B[0m \u001B[0mmath_ops\u001B[0m\u001B[0;34m.\u001B[0m\u001B[0mcast\u001B[0m\u001B[0;34m(\u001B[0m\u001B[0mself\u001B[0m\u001B[0;34m.\u001B[0m\u001B[0miterations\u001B[0m \u001B[0;34m+\u001B[0m \u001B[0;36m1\u001B[0m\u001B[0;34m,\u001B[0m \u001B[0mvar_dtype\u001B[0m\u001B[0;34m)\u001B[0m\u001B[0;34m\u001B[0m\u001B[0;34m\u001B[0m\u001B[0m\n\u001B[1;32m    138\u001B[0m     \u001B[0mbeta_1_t\u001B[0m \u001B[0;34m=\u001B[0m \u001B[0marray_ops\u001B[0m\u001B[0;34m.\u001B[0m\u001B[0midentity\u001B[0m\u001B[0;34m(\u001B[0m\u001B[0mself\u001B[0m\u001B[0;34m.\u001B[0m\u001B[0m_get_hyper\u001B[0m\u001B[0;34m(\u001B[0m\u001B[0;34m'beta_1'\u001B[0m\u001B[0;34m,\u001B[0m \u001B[0mvar_dtype\u001B[0m\u001B[0;34m)\u001B[0m\u001B[0;34m)\u001B[0m\u001B[0;34m\u001B[0m\u001B[0;34m\u001B[0m\u001B[0m\n\u001B[0;32m--> 139\u001B[0;31m     \u001B[0mbeta_2_t\u001B[0m \u001B[0;34m=\u001B[0m \u001B[0marray_ops\u001B[0m\u001B[0;34m.\u001B[0m\u001B[0midentity\u001B[0m\u001B[0;34m(\u001B[0m\u001B[0mself\u001B[0m\u001B[0;34m.\u001B[0m\u001B[0m_get_hyper\u001B[0m\u001B[0;34m(\u001B[0m\u001B[0;34m'beta_2'\u001B[0m\u001B[0;34m,\u001B[0m \u001B[0mvar_dtype\u001B[0m\u001B[0;34m)\u001B[0m\u001B[0;34m)\u001B[0m\u001B[0;34m\u001B[0m\u001B[0;34m\u001B[0m\u001B[0m\n\u001B[0m\u001B[1;32m    140\u001B[0m     \u001B[0mbeta_1_power\u001B[0m \u001B[0;34m=\u001B[0m \u001B[0mmath_ops\u001B[0m\u001B[0;34m.\u001B[0m\u001B[0mpow\u001B[0m\u001B[0;34m(\u001B[0m\u001B[0mbeta_1_t\u001B[0m\u001B[0;34m,\u001B[0m \u001B[0mlocal_step\u001B[0m\u001B[0;34m)\u001B[0m\u001B[0;34m\u001B[0m\u001B[0;34m\u001B[0m\u001B[0m\n\u001B[1;32m    141\u001B[0m     \u001B[0mbeta_2_power\u001B[0m \u001B[0;34m=\u001B[0m \u001B[0mmath_ops\u001B[0m\u001B[0;34m.\u001B[0m\u001B[0mpow\u001B[0m\u001B[0;34m(\u001B[0m\u001B[0mbeta_2_t\u001B[0m\u001B[0;34m,\u001B[0m \u001B[0mlocal_step\u001B[0m\u001B[0;34m)\u001B[0m\u001B[0;34m\u001B[0m\u001B[0;34m\u001B[0m\u001B[0m\n",
      "\u001B[0;32m~/work/rcv-tensorflow/venv/lib/python3.8/site-packages/tensorflow/python/util/dispatch.py\u001B[0m in \u001B[0;36mwrapper\u001B[0;34m(*args, **kwargs)\u001B[0m\n\u001B[1;32m    199\u001B[0m     \u001B[0;34m\"\"\"Call target, and fall back on dispatchers if there is a TypeError.\"\"\"\u001B[0m\u001B[0;34m\u001B[0m\u001B[0;34m\u001B[0m\u001B[0m\n\u001B[1;32m    200\u001B[0m     \u001B[0;32mtry\u001B[0m\u001B[0;34m:\u001B[0m\u001B[0;34m\u001B[0m\u001B[0;34m\u001B[0m\u001B[0m\n\u001B[0;32m--> 201\u001B[0;31m       \u001B[0;32mreturn\u001B[0m \u001B[0mtarget\u001B[0m\u001B[0;34m(\u001B[0m\u001B[0;34m*\u001B[0m\u001B[0margs\u001B[0m\u001B[0;34m,\u001B[0m \u001B[0;34m**\u001B[0m\u001B[0mkwargs\u001B[0m\u001B[0;34m)\u001B[0m\u001B[0;34m\u001B[0m\u001B[0;34m\u001B[0m\u001B[0m\n\u001B[0m\u001B[1;32m    202\u001B[0m     \u001B[0;32mexcept\u001B[0m \u001B[0;34m(\u001B[0m\u001B[0mTypeError\u001B[0m\u001B[0;34m,\u001B[0m \u001B[0mValueError\u001B[0m\u001B[0;34m)\u001B[0m\u001B[0;34m:\u001B[0m\u001B[0;34m\u001B[0m\u001B[0;34m\u001B[0m\u001B[0m\n\u001B[1;32m    203\u001B[0m       \u001B[0;31m# Note: convert_to_eager_tensor currently raises a ValueError, not a\u001B[0m\u001B[0;34m\u001B[0m\u001B[0;34m\u001B[0m\u001B[0;34m\u001B[0m\u001B[0m\n",
      "\u001B[0;32m~/work/rcv-tensorflow/venv/lib/python3.8/site-packages/tensorflow/python/ops/array_ops.py\u001B[0m in \u001B[0;36midentity\u001B[0;34m(input, name)\u001B[0m\n\u001B[1;32m    285\u001B[0m     \u001B[0;31m# variables. Variables have correct handle data when graph building.\u001B[0m\u001B[0;34m\u001B[0m\u001B[0;34m\u001B[0m\u001B[0;34m\u001B[0m\u001B[0m\n\u001B[1;32m    286\u001B[0m     \u001B[0minput\u001B[0m \u001B[0;34m=\u001B[0m \u001B[0mops\u001B[0m\u001B[0;34m.\u001B[0m\u001B[0mconvert_to_tensor\u001B[0m\u001B[0;34m(\u001B[0m\u001B[0minput\u001B[0m\u001B[0;34m)\u001B[0m\u001B[0;34m\u001B[0m\u001B[0;34m\u001B[0m\u001B[0m\n\u001B[0;32m--> 287\u001B[0;31m   \u001B[0mret\u001B[0m \u001B[0;34m=\u001B[0m \u001B[0mgen_array_ops\u001B[0m\u001B[0;34m.\u001B[0m\u001B[0midentity\u001B[0m\u001B[0;34m(\u001B[0m\u001B[0minput\u001B[0m\u001B[0;34m,\u001B[0m \u001B[0mname\u001B[0m\u001B[0;34m=\u001B[0m\u001B[0mname\u001B[0m\u001B[0;34m)\u001B[0m\u001B[0;34m\u001B[0m\u001B[0;34m\u001B[0m\u001B[0m\n\u001B[0m\u001B[1;32m    288\u001B[0m   \u001B[0;31m# Propagate handle data for happier shape inference for resource variables.\u001B[0m\u001B[0;34m\u001B[0m\u001B[0;34m\u001B[0m\u001B[0;34m\u001B[0m\u001B[0m\n\u001B[1;32m    289\u001B[0m   \u001B[0;32mif\u001B[0m \u001B[0mhasattr\u001B[0m\u001B[0;34m(\u001B[0m\u001B[0minput\u001B[0m\u001B[0;34m,\u001B[0m \u001B[0;34m\"_handle_data\"\u001B[0m\u001B[0;34m)\u001B[0m\u001B[0;34m:\u001B[0m\u001B[0;34m\u001B[0m\u001B[0;34m\u001B[0m\u001B[0m\n",
      "\u001B[0;32m~/work/rcv-tensorflow/venv/lib/python3.8/site-packages/tensorflow/python/ops/gen_array_ops.py\u001B[0m in \u001B[0;36midentity\u001B[0;34m(input, name)\u001B[0m\n\u001B[1;32m   3927\u001B[0m   \u001B[0;32mif\u001B[0m \u001B[0mtld\u001B[0m\u001B[0;34m.\u001B[0m\u001B[0mis_eager\u001B[0m\u001B[0;34m:\u001B[0m\u001B[0;34m\u001B[0m\u001B[0;34m\u001B[0m\u001B[0m\n\u001B[1;32m   3928\u001B[0m     \u001B[0;32mtry\u001B[0m\u001B[0;34m:\u001B[0m\u001B[0;34m\u001B[0m\u001B[0;34m\u001B[0m\u001B[0m\n\u001B[0;32m-> 3929\u001B[0;31m       _result = pywrap_tfe.TFE_Py_FastPathExecute(\n\u001B[0m\u001B[1;32m   3930\u001B[0m         _ctx, \"Identity\", name, input)\n\u001B[1;32m   3931\u001B[0m       \u001B[0;32mreturn\u001B[0m \u001B[0m_result\u001B[0m\u001B[0;34m\u001B[0m\u001B[0;34m\u001B[0m\u001B[0m\n",
      "\u001B[0;31mKeyboardInterrupt\u001B[0m: "
     ]
    }
   ],
   "source": [
    "dims = [1, 2, 3]\n",
    "processes = [\n",
    "    ElectionConstructor(constructor=construct_irv, name=\"Instant Runoff\"),\n",
    "    ElectionConstructor(constructor=construct_h2h, name=\"Head-to-Head\")\n",
    "]\n",
    "\n",
    "results = []\n",
    "for bins in [64, 128]:\n",
    "    for process in processes:\n",
    "        for dim in dims:\n",
    "            stats, model = run_parameter_set(process, bins, dim)\n",
    "            results.append(ProcessResult(process, bins, dim, stats, model))\n",
    "            results[-1].print()\n",
    "\n",
    "for r in results:\n",
    "    r.print()"
   ],
   "metadata": {
    "collapsed": false,
    "pycharm": {
     "name": "#%%\n"
    }
   }
  },
  {
   "cell_type": "code",
   "execution_count": 1,
   "outputs": [
    {
     "ename": "NameError",
     "evalue": "name 'results' is not defined",
     "output_type": "error",
     "traceback": [
      "\u001B[0;31m---------------------------------------------------------------------------\u001B[0m",
      "\u001B[0;31mNameError\u001B[0m                                 Traceback (most recent call last)",
      "\u001B[0;32m<ipython-input-1-fe82fba52b60>\u001B[0m in \u001B[0;36m<module>\u001B[0;34m\u001B[0m\n\u001B[0;32m----> 1\u001B[0;31m \u001B[0;32mfor\u001B[0m \u001B[0mr\u001B[0m \u001B[0;32min\u001B[0m \u001B[0mresults\u001B[0m\u001B[0;34m:\u001B[0m\u001B[0;34m\u001B[0m\u001B[0;34m\u001B[0m\u001B[0m\n\u001B[0m\u001B[1;32m      2\u001B[0m     \u001B[0mr\u001B[0m\u001B[0;34m.\u001B[0m\u001B[0mprint\u001B[0m\u001B[0;34m(\u001B[0m\u001B[0;34m)\u001B[0m\u001B[0;34m\u001B[0m\u001B[0;34m\u001B[0m\u001B[0m\n",
      "\u001B[0;31mNameError\u001B[0m: name 'results' is not defined"
     ]
    }
   ],
   "source": [
    "for r in results:\n",
    "    r.print()"
   ],
   "metadata": {
    "collapsed": false,
    "pycharm": {
     "name": "#%%\n"
    }
   }
  }
 ],
 "metadata": {
  "kernelspec": {
   "display_name": "Python 3",
   "language": "python",
   "name": "python3"
  },
  "language_info": {
   "codemirror_mode": {
    "name": "ipython",
    "version": 2
   },
   "file_extension": ".py",
   "mimetype": "text/x-python",
   "name": "python",
   "nbconvert_exporter": "python",
   "pygments_lexer": "ipython2",
   "version": "2.7.6"
  }
 },
 "nbformat": 4,
 "nbformat_minor": 0
}