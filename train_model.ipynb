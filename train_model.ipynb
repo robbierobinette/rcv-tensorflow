{
 "cells": [
  {
   "cell_type": "code",
   "execution_count": null,
   "metadata": {
    "collapsed": true,
    "pycharm": {
     "is_executing": true
    }
   },
   "outputs": [],
   "source": [
    "import matplotlib.pyplot as plt\n",
    "\n",
    "from Ballot import Ballot\n",
    "from DefaultConfigOptions import *\n",
    "from PartyPrimaryElection import PartyPrimaryElection\n",
    "from ElectionResult import ElectionResult\n",
    "from DistrictData import DistrictVotingRecord, DistrictData\n",
    "from InstantRunoffElection import InstantRunoffElection\n",
    "from HeadToHeadElection import HeadToHeadElection\n",
    "from Population import Population\n",
    "from NDPopulation import NDPopulation\n",
    "from typing import List, Set, Callable\n",
    "from Election import Election\n",
    "from CandidateModel import CandidateModel\n",
    "import tensorflow as tf\n",
    "import tensorboard as tb\n",
    "from Timings import Timings\n",
    "import os.path\n",
    "import pickle"
   ]
  },
  {
   "cell_type": "code",
   "execution_count": null,
   "outputs": [],
   "source": [
    "\n",
    "\n",
    "class ElectionConstructor:\n",
    "    def __init__(self, constructor: Callable[[List[Ballot], Set[Candidate]], Election], name: str):\n",
    "        self.constructor = constructor\n",
    "        self.name = name\n",
    "\n",
    "    def run(self, ballots: List[Ballot], candidates: Set[Candidate]) -> ElectionResult:\n",
    "        e = self.constructor(ballots, candidates)\n",
    "        return e.result()\n",
    "\n",
    "\n",
    "def construct_irv(ballots: List[Ballot], candidates: Set[Candidate]):\n",
    "    return InstantRunoffElection(ballots, candidates)\n",
    "\n",
    "\n",
    "def construct_h2h(ballots: List[Ballot], candidates: Set[Candidate]):\n",
    "    return HeadToHeadElection(ballots, candidates)"
   ],
   "metadata": {
    "collapsed": false,
    "pycharm": {
     "name": "#%%\n",
     "is_executing": true
    }
   }
  },
  {
   "cell_type": "code",
   "execution_count": null,
   "outputs": [],
   "source": [
    "class Sample:\n",
    "    def __init__(self, opponents: List[Candidate], candidate: Candidate):\n",
    "        self.opponents = opponents.copy()\n",
    "        self.candidate = candidate"
   ],
   "metadata": {
    "collapsed": false,
    "pycharm": {
     "name": "#%%\n",
     "is_executing": true
    }
   }
  },
  {
   "cell_type": "code",
   "execution_count": null,
   "outputs": [],
   "source": [
    "def create_model_and_population(ideology_bins: int, ideology_dim: int) -> (CandidateModel, NDPopulation):\n",
    "    ideology_bins = 64\n",
    "    hidden_ratio = 4\n",
    "    n_hidden = hidden_ratio * ideology_bins * ideology_dim\n",
    "    n_latent = ideology_bins * ideology_dim\n",
    "    batch_size = 128\n",
    "    learn_rate = .001\n",
    "\n",
    "    model = CandidateModel(ideology_bins=ideology_bins,\n",
    "                                     ideology_dim=ideology_dim,\n",
    "                                     n_hidden=n_hidden,\n",
    "                                     n_latent = n_latent,\n",
    "                                     learn_rate= learn_rate)\n",
    "\n",
    "    population_means = np.zeros(shape=(ideology_dim,))\n",
    "    population_stddev = np.ones(shape=(ideology_dim,))\n",
    "    pop = NDPopulation(population_means, population_stddev)\n",
    "    return model, pop"
   ],
   "metadata": {
    "collapsed": false,
    "pycharm": {
     "name": "#%%\n",
     "is_executing": true
    }
   }
  },
  {
   "cell_type": "code",
   "execution_count": null,
   "outputs": [],
   "source": [
    "class Stats:\n",
    "    def __init__(self):\n",
    "        self.model_count = 1e-5\n",
    "        self.model_winners = 1e-5\n",
    "        self.random_count = 1e-5\n",
    "        self.random_winners = 1e-5\n",
    "        self.model_winner_distance = 0\n",
    "        self.random_winner_distance = 0\n",
    "        self.results = []\n",
    "\n",
    "\n",
    "    def reset(self):\n",
    "        self.model_count = 1e-5\n",
    "        self.model_winners = 1e-5\n",
    "        self.random_count = 1e-5\n",
    "        self.random_winners = 1e-5\n",
    "        self.model_winner_distance = 0\n",
    "        self.random_winner_distance = 0\n",
    "        self.results = []\n",
    "\n",
    "    def update(self, winner: Candidate, candidates: List[Candidate]):\n",
    "        self.results += (winner, candidates)\n",
    "\n",
    "        for c in candidates:\n",
    "            if c.name[0] == 'r':\n",
    "                self.add_random()\n",
    "            else:\n",
    "                self.add_model()\n",
    "\n",
    "        if winner.name[0] == 'r':\n",
    "            self.add_random_winner(winner)\n",
    "        else:\n",
    "            self.add_model_winner(winner)\n",
    "\n",
    "\n",
    "\n",
    "    def add_random(self):\n",
    "        self.random_count += 1\n",
    "\n",
    "    def add_model(self):\n",
    "        self.model_count += 1\n",
    "\n",
    "    def add_random_winner(self, w: Candidate):\n",
    "        self.random_winners += 1\n",
    "        self.random_winner_distance += w.ideology.distance_from_o()\n",
    "\n",
    "    def add_model_winner(self, w: Candidate):\n",
    "        self.model_winners += 1\n",
    "        self.model_winner_distance += w.ideology.distance_from_o()\n",
    "\n",
    "    def print(self, label: str, global_step: int):\n",
    "        print(\"%15s %6d, %5d \" %\n",
    "               (label,\n",
    "                global_step,\n",
    "               len(self.results)), end=\"\")\n",
    "\n",
    "        print(\"random %6d/%6d %5.2f%% O: %5.2f\" %\n",
    "              (self.random_count,\n",
    "               self.random_winners,\n",
    "               100 * self.random_winners / self.random_count,\n",
    "               self.random_winner_distance / self.random_winners), end='')\n",
    "\n",
    "        print(\" model %6d/%6d %5.2f%% O: %5.2f\" %\n",
    "              (self.model_count,\n",
    "               self.model_winners,\n",
    "               100 * self.model_winners / self.model_count,\n",
    "               self.model_winner_distance/ self.model_winners), end='')\n",
    "\n",
    "        print(\" chance of model_winner = %5.2f%%\" % (\n",
    "                100 * self.model_winners / (self.model_winners + self.random_winners))\n",
    "              )\n"
   ],
   "metadata": {
    "collapsed": false,
    "pycharm": {
     "name": "#%%\n",
     "is_executing": true
    }
   }
  },
  {
   "cell_type": "code",
   "execution_count": null,
   "outputs": [],
   "source": [
    "def run_sample_election(model: CandidateModel, process: ElectionConstructor, population: NDPopulation, timings: Timings):\n",
    "    candidates = []\n",
    "    model_entries = set(np.random.choice(range(6), 3, replace=False))\n",
    "    for i in range(6):\n",
    "        if i in model_entries and model.ready():\n",
    "            ideology = Ideology(model.choose_ideology(candidates))\n",
    "            c = Candidate(\"m-\" + str(i), Independents, ideology, 0)\n",
    "        else:\n",
    "            ideology = population.unit_sample_voter().ideology\n",
    "            c = Candidate(\"r-\" + str(i), Independents, ideology, 0)\n",
    "\n",
    "        candidates += [c]\n",
    "\n",
    "    voters = population.generate_unit_voters(1000)\n",
    "    ballots = [Ballot(v, candidates, unit_election_config) for v in voters]\n",
    "    result = process.run(ballots, set(candidates))\n",
    "\n",
    "    winner = result.winner()\n",
    "\n",
    "    return winner, candidates"
   ],
   "metadata": {
    "collapsed": false,
    "pycharm": {
     "name": "#%%\n",
     "is_executing": true
    }
   }
  },
  {
   "cell_type": "code",
   "execution_count": null,
   "outputs": [],
   "source": [
    "def train_candidate_model(model: CandidateModel, process: ElectionConstructor, population: NDPopulation):\n",
    "    timings = Timings()\n",
    "    stats = Stats()\n",
    "    first = True\n",
    "    while model.global_step < 1000:\n",
    "        with timings.time_block(\"run_election\"):\n",
    "            winner, candidates = run_sample_election(model, process, population, timings)\n",
    "        with timings.time_block(\"add_sample\"):\n",
    "            for i in range(len(candidates)):\n",
    "                model.add_sample_from_candidates(candidates[i], candidates[0:i], winner)\n",
    "\n",
    "        if model.ready():\n",
    "            if first:\n",
    "                print(\"starting to train\")\n",
    "                first = False\n",
    "\n",
    "            stats.update(winner, candidates)\n",
    "            with timings.time_block(\"model.train\"):\n",
    "                model.train(128)\n",
    "            s = model.global_step\n",
    "            if (s < 100 and s % 10 == 0) or (s < 1000 and s % 100 == 0) or s % 1000 == 0:\n",
    "                stats.print(process.name, model.global_step)\n",
    "                if model.global_step < 10000:\n",
    "                    stats.reset()\n",
    "\n",
    "    timings.print()"
   ],
   "metadata": {
    "collapsed": false,
    "pycharm": {
     "name": "#%%\n",
     "is_executing": true
    }
   }
  },
  {
   "cell_type": "code",
   "execution_count": null,
   "outputs": [],
   "source": [
    "def check_stats(stats: Stats, model: CandidateModel, process: ElectionConstructor, population: NDPopulation):\n",
    "    results=[]\n",
    "    timings = Timings()\n",
    "    for i in range(1000):\n",
    "        winner, candidates = run_sample_election(model, process, population, timings)\n",
    "        stats.update(winner, candidates)\n",
    "        results.append((winner, candidates))"
   ],
   "metadata": {
    "collapsed": false,
    "pycharm": {
     "name": "#%%\n",
     "is_executing": true
    }
   }
  },
  {
   "cell_type": "code",
   "execution_count": null,
   "outputs": [],
   "source": [
    "class ProcessResult:\n",
    "    def __init__(self, process: ElectionConstructor, bins: int, dim: int, stats: Stats, model: CandidateModel):\n",
    "        self.process = process\n",
    "        self.dim = dim\n",
    "        self.bins = bins\n",
    "        self.stats = stats\n",
    "        self.model = model\n",
    "        self.label = \"%15s ib%3d %dD\" % (process.name, bins, dim)\n",
    "\n",
    "    def print(self):\n",
    "        self.stats.print(self.label, self.model.global_step)"
   ],
   "metadata": {
    "collapsed": false,
    "pycharm": {
     "name": "#%%\n",
     "is_executing": true
    }
   }
  },
  {
   "cell_type": "code",
   "execution_count": null,
   "outputs": [],
   "source": [
    "def run_parameter_set(process: ElectionConstructor, ibins: int, dim: int):\n",
    "    save_path = \"models/cm-%s-%03d-%dD.p\" % (process.name, ibins, dim)\n",
    "    model, population = create_model_and_population(ibins, dim)\n",
    "    if os.path.exists(save_path):\n",
    "        with open(save_path, \"rb\") as f:\n",
    "            model: CandidateModel = pickle.load(f)\n",
    "    else:\n",
    "        train_candidate_model(model, process, population)\n",
    "        model.save_to_file(save_path)\n",
    "\n",
    "    stats = Stats()\n",
    "    check_stats(stats, model, process, population)\n",
    "    return stats, model"
   ],
   "metadata": {
    "collapsed": false,
    "pycharm": {
     "name": "#%%\n",
     "is_executing": true
    }
   }
  },
  {
   "cell_type": "code",
   "execution_count": null,
   "outputs": [],
   "source": [
    "dims = [1, 2, 3]\n",
    "processes = [\n",
    "    ElectionConstructor(constructor=construct_irv, name=\"Instant Runoff\"),\n",
    "    ElectionConstructor(constructor=construct_h2h, name=\"Head-to-Head\")\n",
    "]\n",
    "\n",
    "results = []\n",
    "for bins in [64, 128]:\n",
    "    for process in processes:\n",
    "        for dim in dims:\n",
    "            stats, model = run_parameter_set(process, bins, dim)\n",
    "            results.append(ProcessResult(process, bins, dim, stats, model))\n",
    "            results[-1].print()\n",
    "\n",
    "for r in results:\n",
    "    r.print()"
   ],
   "metadata": {
    "collapsed": false,
    "pycharm": {
     "name": "#%%\n",
     "is_executing": true
    }
   }
  }
 ],
 "metadata": {
  "kernelspec": {
   "display_name": "Python 3",
   "language": "python",
   "name": "python3"
  },
  "language_info": {
   "codemirror_mode": {
    "name": "ipython",
    "version": 2
   },
   "file_extension": ".py",
   "mimetype": "text/x-python",
   "name": "python",
   "nbconvert_exporter": "python",
   "pygments_lexer": "ipython2",
   "version": "2.7.6"
  }
 },
 "nbformat": 4,
 "nbformat_minor": 0
}