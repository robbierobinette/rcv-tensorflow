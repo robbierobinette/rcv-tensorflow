{
 "cells": [
  {
   "cell_type": "code",
   "execution_count": 1,
   "metadata": {
    "collapsed": true
   },
   "outputs": [],
   "source": [
    "\n",
    "from DefaultConfigOptions import *\n",
    "from NDPopulation import NDPopulation\n",
    "from CandidateModel import CandidateModel\n",
    "import pickle"
   ]
  },
  {
   "cell_type": "code",
   "execution_count": 7,
   "outputs": [
    {
     "name": "stdout",
     "output_type": "stream",
     "text": [
      "INFO:tensorflow:Assets written to: cm.sav.model/assets\n",
      "WARNING:tensorflow:No training configuration found in save file, so the model was *not* compiled. Compile it manually.\n",
      "INFO:tensorflow:Assets written to: cm1.sav.model/assets\n",
      "0.0\n",
      "0.0\n",
      "0.0\n",
      "0.0\n",
      "0.0\n",
      "0.0\n",
      "0.0\n",
      "0.0\n",
      "0.0\n",
      "0.0\n"
     ]
    },
    {
     "name": "stderr",
     "output_type": "stream",
     "text": [
      "INFO:tensorflow:Assets written to: cm.sav.model/assets\n",
      "WARNING:tensorflow:No training configuration found in save file, so the model was *not* compiled. Compile it manually.\n",
      "WARNING:absl:Found untraced functions such as dense_43_layer_call_fn, dense_43_layer_call_and_return_conditional_losses, dense_47_layer_call_fn, dense_47_layer_call_and_return_conditional_losses, dense_40_layer_call_fn while saving (showing 5 of 40). These functions will not be directly callable after loading.\n",
      "WARNING:absl:Found untraced functions such as dense_43_layer_call_fn, dense_43_layer_call_and_return_conditional_losses, dense_47_layer_call_fn, dense_47_layer_call_and_return_conditional_losses, dense_40_layer_call_fn while saving (showing 5 of 40). These functions will not be directly callable after loading.\n",
      "INFO:tensorflow:Assets written to: cm1.sav.model/assets\n"
     ]
    }
   ],
   "source": [
    "def test_model_save():\n",
    "    m = CandidateModel(64, 2, 128, 64, .001)\n",
    "    p = NDPopulation([0, 0], [1, 1])\n",
    "    for i in range(1000):\n",
    "        voters = [p.unit_sample_voter() for i in range(6)]\n",
    "        candidates = [Candidate(\"c\", Independents, v.ideology, 0) for v in voters]\n",
    "        candidate = candidates[np.random.randint(0, 6)]\n",
    "        winner = candidates[np.random.randint(0, 6)]\n",
    "        m.add_sample_from_candidates(candidate, candidates, winner)\n",
    "\n",
    "    m.train(16)\n",
    "\n",
    "\n",
    "    m.save_to_file(\"cm.sav\")\n",
    "    with open(\"cm.sav\", \"rb\") as f:\n",
    "        m1: CandidateModel = pickle.load(f)\n",
    "\n",
    "    m1.save_to_file(\"cm1.sav\")\n",
    "\n",
    "\n",
    "    for i in range(10):\n",
    "        voters = [p.unit_sample_voter() for i in range(6)]\n",
    "        candidates = [Candidate(\"c\", Independents, v.ideology, 0) for v in voters]\n",
    "        v0 = m.choose_ideology(candidates)\n",
    "        v1 = m1.choose_ideology(candidates)\n",
    "        print(np.sum(v0 - v1))\n",
    "\n",
    "test_model_save()\n"
   ],
   "metadata": {
    "collapsed": false,
    "pycharm": {
     "name": "#%%\n"
    }
   }
  }
 ],
 "metadata": {
  "kernelspec": {
   "display_name": "Python 3",
   "language": "python",
   "name": "python3"
  },
  "language_info": {
   "codemirror_mode": {
    "name": "ipython",
    "version": 2
   },
   "file_extension": ".py",
   "mimetype": "text/x-python",
   "name": "python",
   "nbconvert_exporter": "python",
   "pygments_lexer": "ipython2",
   "version": "2.7.6"
  }
 },
 "nbformat": 4,
 "nbformat_minor": 0
}