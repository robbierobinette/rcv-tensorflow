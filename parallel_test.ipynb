{
 "cells": [
  {
   "cell_type": "code",
   "execution_count": 6,
   "metadata": {
    "collapsed": true,
    "pycharm": {
     "name": "#%%\n"
    }
   },
   "outputs": [
    {
     "name": "stdout",
     "output_type": "stream",
     "text": [
      "building model dim 1\n",
      "complete:  dim 1\n",
      "building model dim 2\n",
      "complete:  dim 2\n",
      "building model dim 3\n",
      "complete:  dim 3\n",
      "building model dim 4\n",
      "complete:  dim 4\n",
      "building model dim 1building model dim 2\n",
      "\n",
      "building model dim 3\n",
      "building model dim 4\n",
      "complete:  dim 1\n",
      "True\n",
      "complete:  dim 2\n",
      "True\n",
      "complete:  dim 3\n",
      "True\n",
      "complete:  dim 4\n",
      "True\n",
      "       build_model 1 2   62.468 31.23412\n",
      "       build_model 2 2   77.248 38.62398\n",
      "       build_model 3 2   97.523 48.76146\n",
      "       build_model 4 2  104.293 52.14629\n",
      "              serial 1  106.746 106.74592\n",
      "            parallel 1   66.674 66.67356\n"
     ]
    }
   ],
   "source": [
    "\n",
    "from CandidateModel import CandidateModel\n",
    "from DefaultConfigOptions import *\n",
    "from NDPopulation import NDPopulation\n",
    "from PopulationGroup import Independents\n",
    "from Timings import Timings\n",
    "\n",
    "\n",
    "def create_model_and_population(ideology_bins: int, ideology_dim: int) -> (CandidateModel, NDPopulation):\n",
    "    ideology_bins = 64\n",
    "    hidden_ratio = 4\n",
    "    n_hidden = hidden_ratio * ideology_bins * ideology_dim\n",
    "    n_latent = ideology_bins * ideology_dim\n",
    "    batch_size = 128\n",
    "    learn_rate = .001\n",
    "\n",
    "    model = CandidateModel(ideology_bins=ideology_bins,\n",
    "                                     ideology_dim=ideology_dim,\n",
    "                                     n_hidden=n_hidden,\n",
    "                                     n_latent = n_latent,\n",
    "                                     learn_rate= learn_rate)\n",
    "\n",
    "    population_means = np.zeros(shape=(ideology_dim,))\n",
    "    population_stddev = np.ones(shape=(ideology_dim,))\n",
    "    pop = NDPopulation(population_means, population_stddev)\n",
    "    return model, pop\n",
    "\n",
    "\n",
    "timings = Timings()\n",
    "def build_model(dim: int) -> bool:\n",
    "    print(\"building model dim \" + str(dim))\n",
    "    m, p = create_model_and_population(64, dim)\n",
    "    for i in range(100):\n",
    "        voters = [p.unit_sample_voter() for i in range(6)]\n",
    "        candidates = [Candidate(\"c\", Independents, v.ideology, 0) for v in voters]\n",
    "        winner = candidates[np.random.randint(0, 6)]\n",
    "        for i in range(len(candidates)):\n",
    "            m.add_sample_from_candidates(candidates[i], candidates[0:i-1], winner)\n",
    "\n",
    "    with timings.time_block(\"build_model \" + str(dim)):\n",
    "        for i in range(100):\n",
    "            m.train(128)\n",
    "\n",
    "    print(\"complete:  dim \" + str(dim))\n",
    "    return True\n",
    "\n",
    "from concurrent.futures import ThreadPoolExecutor\n",
    "\n",
    "dims=[1,2,3,4]\n",
    "with ThreadPoolExecutor() as executor:\n",
    "    with timings.time_block(\"serial\"):\n",
    "        for dim in dims:\n",
    "            build_model(dim)\n",
    "    with timings.time_block(\"parallel\"):\n",
    "        futures = executor.map(build_model, dims)\n",
    "        [print(f) for f in futures]\n",
    "\n",
    "timings.print()"
   ]
  }
 ],
 "metadata": {
  "kernelspec": {
   "display_name": "Python 3",
   "language": "python",
   "name": "python3"
  },
  "language_info": {
   "codemirror_mode": {
    "name": "ipython",
    "version": 2
   },
   "file_extension": ".py",
   "mimetype": "text/x-python",
   "name": "python",
   "nbconvert_exporter": "python",
   "pygments_lexer": "ipython2",
   "version": "2.7.6"
  }
 },
 "nbformat": 4,
 "nbformat_minor": 0
}