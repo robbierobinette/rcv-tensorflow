{
 "cells": [
  {
   "cell_type": "code",
   "execution_count": 23,
   "outputs": [],
   "source": [
    "from typing import Set, Callable\n",
    "\n",
    "from Ballot import Ballot\n",
    "from CandidateModel import CandidateModel\n",
    "from DefaultConfigOptions import *\n",
    "from Election import Election\n",
    "from ElectionResult import ElectionResult\n",
    "from HeadToHeadElection import HeadToHeadElection\n",
    "from InstantRunoffElection import InstantRunoffElection\n",
    "from NDPopulation import NDPopulation\n",
    "import pickle"
   ],
   "metadata": {
    "collapsed": false,
    "pycharm": {
     "name": "#%%\n"
    }
   }
  },
  {
   "cell_type": "code",
   "execution_count": 24,
   "outputs": [],
   "source": [
    "class ElectionConstructor:\n",
    "    def __init__(self, constructor: Callable[[List[Ballot], Set[Candidate]], Election], name: str):\n",
    "        self.constructor = constructor\n",
    "        self.name = name\n",
    "\n",
    "    def run(self, ballots: List[Ballot], candidates: Set[Candidate]) -> ElectionResult:\n",
    "        e = self.constructor(ballots, candidates)\n",
    "        return e.result()\n",
    "\n",
    "def construct_irv(ballots: List[Ballot], candidates: Set[Candidate]):\n",
    "    return InstantRunoffElection(ballots, candidates)\n",
    "\n",
    "def construct_h2h(ballots: List[Ballot], candidates: Set[Candidate]):\n",
    "    return HeadToHeadElection(ballots, candidates)"
   ],
   "metadata": {
    "collapsed": false,
    "pycharm": {
     "name": "#%%\n"
    }
   }
  },
  {
   "cell_type": "code",
   "execution_count": 25,
   "outputs": [],
   "source": [
    "class Sample:\n",
    "    def __init__(self, opponents: List[Candidate], candidate: Candidate):\n",
    "        self.opponents = opponents.copy()\n",
    "        self.candidate = candidate"
   ],
   "metadata": {
    "collapsed": false,
    "pycharm": {
     "name": "#%%\n"
    }
   }
  },
  {
   "cell_type": "code",
   "execution_count": 26,
   "outputs": [],
   "source": [
    "def create_population(ideology_dim: int) -> (CandidateModel, NDPopulation):\n",
    "    population_means = np.zeros(shape=(ideology_dim,))\n",
    "    population_stddev = np.ones(shape=(ideology_dim,))\n",
    "    pop = NDPopulation(population_means, population_stddev)\n",
    "    return pop"
   ],
   "metadata": {
    "collapsed": false,
    "pycharm": {
     "name": "#%%\n"
    }
   }
  },
  {
   "cell_type": "code",
   "execution_count": 27,
   "outputs": [],
   "source": [
    "class Stats:\n",
    "    def __init__(self):\n",
    "        self.winner_distance = 0\n",
    "        self.results: List[Candidate] = []\n",
    "        self.candidates = []\n",
    "    def reset(self):\n",
    "        self.winner_distance = 0\n",
    "        self.results = []\n",
    "        self.candidates = []\n",
    "    def update(self, winner: Candidate, candidates: List[Candidate]):\n",
    "        self.winner_distance += winner.ideology.distance_from_o()\n",
    "        self.results.append(winner)\n",
    "        self.candidates.append(candidates)\n",
    "    def print(self, label: str):\n",
    "        print(\"%15s %5d \" %\n",
    "               (label,\n",
    "               len(self.results)), end=\"\")\n",
    "\n",
    "        print(\"%5.2f\" % (self.winner_distance / len(self.results)))"
   ],
   "metadata": {
    "collapsed": false,
    "pycharm": {
     "name": "#%%\n"
    }
   }
  },
  {
   "cell_type": "code",
   "execution_count": 28,
   "outputs": [],
   "source": [
    "class ProcessResult:\n",
    "    def __init__(self, process: ElectionConstructor, dim: int, stats: Stats):\n",
    "        self.process = process\n",
    "        self.dim = dim\n",
    "        self.stats = stats\n",
    "\n",
    "    def print(self):\n",
    "        self.stats.print(\"%12s - %dD\" % (self.process.name, self.dim))"
   ],
   "metadata": {
    "collapsed": false,
    "pycharm": {
     "name": "#%%\n"
    }
   }
  },
  {
   "cell_type": "code",
   "execution_count": 29,
   "outputs": [],
   "source": [
    "def generate_candidates(population: NDPopulation, n_candidates: int) -> List[Candidate]:\n",
    "    candidates = []\n",
    "    for i in range(n_candidates):\n",
    "        ideology = population.unit_sample_voter().ideology\n",
    "        c = Candidate(\"r-\" + str(i), Independents, ideology, 0)\n",
    "        candidates += [c]\n",
    "    return candidates\n",
    "\n",
    "def run_process(processes: List[ElectionConstructor], dim: int, samples: int) -> List[ProcessResult]:\n",
    "    results = {}\n",
    "    for p in processes:\n",
    "        results[p] = ProcessResult(p, dim, Stats())\n",
    "\n",
    "    population = create_population(dim)\n",
    "    for i in range(samples):\n",
    "        print(\"running sample %d\" % i)\n",
    "        voters = population.generate_unit_voters(1000)\n",
    "        candidates = generate_candidates(population, 6)\n",
    "        for process in processes:\n",
    "            ballots = [Ballot(v, candidates, unit_election_config) for v in voters]\n",
    "            r = process.run(ballots, set(candidates))\n",
    "            results[process].stats.update(r.winner(), candidates)\n",
    "\n",
    "    return list(results.values())"
   ],
   "metadata": {
    "collapsed": false,
    "pycharm": {
     "name": "#%%\n"
    }
   }
  },
  {
   "cell_type": "code",
   "execution_count": 30,
   "outputs": [],
   "source": [
    "def create_random_results():\n",
    "    results = []\n",
    "    processes = [\n",
    "        ElectionConstructor(constructor=construct_irv, name=\"Hare\"),\n",
    "        ElectionConstructor(constructor=construct_h2h, name=\"Minimax\")\n",
    "    ]\n",
    "\n",
    "    for dim in [1,2,3,4]:\n",
    "        results += run_process(processes, dim, 1000)\n",
    "\n",
    "    for r in results:\n",
    "        r.print()\n",
    "\n",
    "    with open(\"random_results.p\", \"wb\") as f:\n",
    "        pickle.dump(results, f)"
   ],
   "metadata": {
    "collapsed": false,
    "pycharm": {
     "name": "#%%\n"
    }
   }
  },
  {
   "cell_type": "code",
   "execution_count": 41,
   "outputs": [],
   "source": [
    "import matplotlib.pyplot as plt\n",
    "import numpy as np\n",
    "\n",
    "def plot_results():\n",
    "    with open(\"random_results.p\", \"rb\") as f:\n",
    "        results = pickle.load(f)\n",
    "\n",
    "    nrows = 2\n",
    "    ncols = 3\n",
    "\n",
    "    fig, axes = plt.subplots(nrows=nrows, ncols=ncols, figsize=(20,10))\n",
    "    fig.suptitle(\"Distance From Origin for Winner With Random Candidates\", color=\"black\", fontsize=22)\n",
    "    fig.set_facecolor(\"white\")\n",
    "\n",
    "    count = 0\n",
    "    irv_results = [r for r in results if r.process.name == \"Hare\"]\n",
    "    h2h_results = [r for r in results if r.process.name == \"Minimax\"]\n",
    "\n",
    "    for ir, hr in zip(irv_results, h2h_results):\n",
    "        assert(ir.dim == hr.dim)\n",
    "        row = count // ncols\n",
    "        col = count % ncols\n",
    "        count += 1\n",
    "\n",
    "        axis = axes[row][col]\n",
    "        axis.tick_params(axis='x', colors=\"black\")\n",
    "        axis.tick_params(axis='y', colors=\"black\")\n",
    "        axis.set_xlim([0, 2])\n",
    "\n",
    "        iv = [ w.ideology.distance_from_o() for w in ir.stats.results]\n",
    "        hv = [ w.ideology.distance_from_o() for w in hr.stats.results]\n",
    "\n",
    "        axis.hist([iv, hv], bins=30, label=[ir.process.name, hr.process.name])\n",
    "        axis.set_title(\"Dimensionality: %d\" % ir.dim, color=\"black\")\n",
    "\n",
    "        axis.legend()\n",
    "\n",
    "    plt.savefig(\"foo.png\")\n",
    "\n"
   ],
   "metadata": {
    "collapsed": false,
    "pycharm": {
     "name": "#%%\n"
    }
   }
  },
  {
   "cell_type": "code",
   "execution_count": null,
   "outputs": [],
   "source": [
    "def rank_order_of_winner(winner: Candidate, candidates: List[Candidate]) -> int:\n",
    "    candidates.sort(key=lambda x: x.ideology.distance_from_o())\n",
    "    return candidates.index(winner)\n",
    "\n",
    "\n",
    "def pct_match(value: int, data: List[int]) -> float:\n",
    "    return data.count(value) / len(data)\n",
    "\n",
    "def print_stats():\n",
    "    with open(\"random_results.p\", \"rb\") as f:\n",
    "        results = pickle.load(f)\n",
    "\n",
    "    def min_distance(cc: List[Candidate]) -> float:\n",
    "        x: float = np.min([c.ideology.distance_from_o() for c in cc])\n",
    "        return x\n",
    "\n",
    "    irv_results: List[ProcessResult] = [r for r in results if r.process.name == \"Hare\"]\n",
    "    h2h_results: List[ProcessResult] = [r for r in results if r.process.name == \"Minimax\"]\n",
    "\n",
    "    print(\"Results for candidates drawn randomly from the population\")\n",
    "    print(\"Dim  Best     Hare    %1st    %2nd    %3rd    Minimax %1st    %2nd    %3rd\")\n",
    "    for ir, hr in zip(irv_results, h2h_results):\n",
    "        dim = ir.dim\n",
    "        irv_winner_distance = [w.ideology.distance_from_o() for w in ir.stats.results]\n",
    "        h2h_winner_distance = [w.ideology.distance_from_o() for w in hr.stats.results]\n",
    "        best_candidate = [min_distance(cc) for cc in hr.stats.candidates]\n",
    "\n",
    "        irv_indices = [rank_order_of_winner(w, cc) for w, cc in zip(ir.stats.results, ir.stats.candidates)]\n",
    "        h2h_indices = [rank_order_of_winner(w, cc) for w, cc in zip(hr.stats.results, hr.stats.candidates)]\n",
    "\n",
    "        print(\"%d    \" % dim, end = \"\")\n",
    "        print(\"%5.2f   \" % np.mean(best_candidate), end=\"\")\n",
    "\n",
    "        print(\"%5.2f   \" % np.mean(irv_winner_distance), end =\"\")\n",
    "        print(\"%5.2f   \" % pct_match(0, irv_indices), end=\"\")\n",
    "        print(\"%5.2f   \" % pct_match(1, irv_indices), end=\"\")\n",
    "        print(\"%5.2f   \" % pct_match(2, irv_indices), end=\"\")\n",
    "\n",
    "        print(\"%5.2f   \" % np.mean(h2h_winner_distance), end=\"\")\n",
    "        print(\"%5.2f   \" % pct_match(0, h2h_indices), end=\"\")\n",
    "        print(\"%5.2f   \" % pct_match(1, h2h_indices), end=\"\")\n",
    "        print(\"%5.2f   \" % pct_match(2, h2h_indices), end=\"\")\n",
    "        print(\"\")"
   ],
   "metadata": {
    "collapsed": false,
    "pycharm": {
     "name": "#%%\n"
    }
   }
  },
  {
   "cell_type": "code",
   "execution_count": 105,
   "outputs": [],
   "source": [
    "#create_random_results()"
   ],
   "metadata": {
    "collapsed": false,
    "pycharm": {
     "name": "#%%\n"
    }
   }
  },
  {
   "cell_type": "code",
   "execution_count": 106,
   "outputs": [],
   "source": [
    "#plot_results()"
   ],
   "metadata": {
    "collapsed": false,
    "pycharm": {
     "name": "#%%\n"
    }
   }
  },
  {
   "cell_type": "code",
   "execution_count": 107,
   "outputs": [
    {
     "name": "stdout",
     "output_type": "stream",
     "text": [
      "Results for candidates drawn randomly from the population\n",
      "Dim  Best     Hare    %1st    %2nd    %3rd    Minimax %1st    %2nd    %3rd\n",
      "1     0.19    0.33    0.49    0.21    0.16    0.19    0.92    0.08    0.01   \n",
      "2     0.51    0.56    0.74    0.20    0.05    0.51    0.95    0.05    0.00   \n",
      "3     0.82    0.84    0.87    0.11    0.01    0.82    0.95    0.04    0.00   \n",
      "4     1.06    1.07    0.89    0.10    0.01    1.06    0.95    0.05    0.00   \n"
     ]
    }
   ],
   "source": [
    "print_stats()\n"
   ],
   "metadata": {
    "collapsed": false,
    "pycharm": {
     "name": "#%%\n"
    }
   }
  },
  {
   "cell_type": "code",
   "execution_count": null,
   "outputs": [],
   "source": [],
   "metadata": {
    "collapsed": false,
    "pycharm": {
     "name": "#%%\n"
    }
   }
  }
 ],
 "metadata": {
  "kernelspec": {
   "display_name": "Python 3",
   "language": "python",
   "name": "python3"
  },
  "language_info": {
   "codemirror_mode": {
    "name": "ipython",
    "version": 2
   },
   "file_extension": ".py",
   "mimetype": "text/x-python",
   "name": "python",
   "nbconvert_exporter": "python",
   "pygments_lexer": "ipython2",
   "version": "2.7.6"
  }
 },
 "nbformat": 4,
 "nbformat_minor": 0
}