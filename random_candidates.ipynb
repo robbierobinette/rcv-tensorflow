{
 "cells": [
  {
   "cell_type": "code",
   "execution_count": 1,
   "outputs": [],
   "source": [
    "from typing import Set, Callable\n",
    "\n",
    "from Ballot import Ballot\n",
    "from CandidateModel import CandidateModel\n",
    "from DefaultConfigOptions import *\n",
    "from Election import Election\n",
    "from ElectionResult import ElectionResult\n",
    "from HeadToHeadElection import HeadToHeadElection\n",
    "from InstantRunoffElection import InstantRunoffElection\n",
    "from NDPopulation import NDPopulation\n",
    "import pickle"
   ],
   "metadata": {
    "collapsed": false,
    "pycharm": {
     "name": "#%%\n"
    }
   }
  },
  {
   "cell_type": "code",
   "execution_count": 2,
   "outputs": [],
   "source": [
    "class ElectionConstructor:\n",
    "    def __init__(self, constructor: Callable[[List[Ballot], Set[Candidate]], Election], name: str):\n",
    "        self.constructor = constructor\n",
    "        self.name = name\n",
    "\n",
    "    def run(self, ballots: List[Ballot], candidates: Set[Candidate]) -> ElectionResult:\n",
    "        e = self.constructor(ballots, candidates)\n",
    "        return e.result()\n",
    "\n",
    "def construct_irv(ballots: List[Ballot], candidates: Set[Candidate]):\n",
    "    return InstantRunoffElection(ballots, candidates)\n",
    "\n",
    "def construct_h2h(ballots: List[Ballot], candidates: Set[Candidate]):\n",
    "    return HeadToHeadElection(ballots, candidates)"
   ],
   "metadata": {
    "collapsed": false,
    "pycharm": {
     "name": "#%%\n"
    }
   }
  },
  {
   "cell_type": "code",
   "execution_count": 3,
   "outputs": [],
   "source": [
    "class Sample:\n",
    "    def __init__(self, opponents: List[Candidate], candidate: Candidate):\n",
    "        self.opponents = opponents.copy()\n",
    "        self.candidate = candidate"
   ],
   "metadata": {
    "collapsed": false,
    "pycharm": {
     "name": "#%%\n"
    }
   }
  },
  {
   "cell_type": "code",
   "execution_count": 4,
   "outputs": [],
   "source": [
    "def create_population(ideology_dim: int) -> (CandidateModel, NDPopulation):\n",
    "    population_means = np.zeros(shape=(ideology_dim,))\n",
    "    population_stddev = np.ones(shape=(ideology_dim,))\n",
    "    pop = NDPopulation(population_means, population_stddev)\n",
    "    return pop"
   ],
   "metadata": {
    "collapsed": false,
    "pycharm": {
     "name": "#%%\n"
    }
   }
  },
  {
   "cell_type": "code",
   "execution_count": 5,
   "outputs": [],
   "source": [
    "class Stats:\n",
    "    def __init__(self):\n",
    "        self.winner_distance = 0\n",
    "        self.results: List[Candidate] = []\n",
    "        self.candidates = []\n",
    "    def reset(self):\n",
    "        self.winner_distance = 0\n",
    "        self.results = []\n",
    "        self.candidates = []\n",
    "    def update(self, winner: Candidate, candidates: List[Candidate]):\n",
    "        self.winner_distance += winner.ideology.distance_from_o()\n",
    "        self.results.append(winner)\n",
    "        self.candidates.append(candidates)\n",
    "    def print(self, label: str):\n",
    "        print(\"%15s %5d \" %\n",
    "               (label,\n",
    "               len(self.results)), end=\"\")\n",
    "\n",
    "        print(\"%5.2f\" % (self.winner_distance / len(self.results)))"
   ],
   "metadata": {
    "collapsed": false,
    "pycharm": {
     "name": "#%%\n"
    }
   }
  },
  {
   "cell_type": "code",
   "execution_count": 6,
   "outputs": [],
   "source": [
    "class ProcessResult:\n",
    "    def __init__(self, process: ElectionConstructor, dim: int, stats: Stats):\n",
    "        self.process = process\n",
    "        self.dim = dim\n",
    "        self.stats = stats\n",
    "\n",
    "    def print(self):\n",
    "        self.stats.print(\"%12s - %dD\" % (self.process.name, self.dim))"
   ],
   "metadata": {
    "collapsed": false,
    "pycharm": {
     "name": "#%%\n"
    }
   }
  },
  {
   "cell_type": "code",
   "execution_count": 7,
   "outputs": [],
   "source": [
    "def generate_candidates(population: NDPopulation, n_candidates: int) -> List[Candidate]:\n",
    "    candidates = []\n",
    "    for i in range(n_candidates):\n",
    "        ideology = population.unit_sample_voter().ideology\n",
    "        c = Candidate(\"r-\" + str(i), Independents, ideology, 0)\n",
    "        candidates += [c]\n",
    "    return candidates\n",
    "\n",
    "def run_process(processes: List[ElectionConstructor], dim: int, samples: int) -> List[ProcessResult]:\n",
    "    results = {}\n",
    "    for p in processes:\n",
    "        results[p] = ProcessResult(p, dim, Stats())\n",
    "\n",
    "    population = create_population(dim)\n",
    "    for i in range(samples):\n",
    "        voters = population.generate_unit_voters(1000)\n",
    "        candidates = generate_candidates(population, 6)\n",
    "        for process in processes:\n",
    "            ballots = [Ballot(v, candidates, unit_election_config) for v in voters]\n",
    "            r = process.run(ballots, set(candidates))\n",
    "            results[process].stats.update(r.winner(), candidates)\n",
    "\n",
    "    return list(results.values())"
   ],
   "metadata": {
    "collapsed": false,
    "pycharm": {
     "name": "#%%\n"
    }
   }
  },
  {
   "cell_type": "code",
   "execution_count": 8,
   "outputs": [],
   "source": [
    "def create_random_results():\n",
    "    results = []\n",
    "    processes = [\n",
    "        ElectionConstructor(constructor=construct_irv, name=\"Hare\"),\n",
    "        ElectionConstructor(constructor=construct_h2h, name=\"Minimax\")\n",
    "    ]\n",
    "\n",
    "    for dim in [1,2,3,4]:\n",
    "        results += run_process(processes, dim, 1000)\n",
    "\n",
    "    for r in results:\n",
    "        r.print()\n",
    "\n",
    "    with open(\"random_results.p\", \"wb\") as f:\n",
    "        pickle.dump(results, f)"
   ],
   "metadata": {
    "collapsed": false,
    "pycharm": {
     "name": "#%%\n"
    }
   }
  },
  {
   "cell_type": "code",
   "execution_count": 9,
   "outputs": [],
   "source": [
    "import matplotlib.pyplot as plt\n",
    "import numpy as np\n",
    "\n",
    "def plot_results():\n",
    "    with open(\"random_results.p\", \"rb\") as f:\n",
    "        results = pickle.load(f)\n",
    "\n",
    "    n_plots = len(results / 2)\n",
    "\n",
    "    fig, axes = plt.subplots(nrows=2, ncols=2, figsize=(20,20))\n",
    "    fig.suptitle(\"Distance From Origin for Winner With Random Candidates\", color=\"black\", fontsize=22)\n",
    "    fig.set_facecolor(\"white\")\n",
    "\n",
    "    count = 0\n",
    "    irv_results = [r for r in results if r.process.name == \"Hare\"]\n",
    "    h2h_results = [r for r in results if r.process.name == \"Minimax\"]\n",
    "\n",
    "    for ir, hr in zip(irv_results, h2h_results):\n",
    "        assert(ir.dim == hr.dim)\n",
    "        row = count // 2\n",
    "        col = count % 2\n",
    "        count += 1\n",
    "\n",
    "        axis = axes[row][col]\n",
    "        axis.tick_params(axis='x', colors=\"black\")\n",
    "        axis.tick_params(axis='y', colors=\"black\")\n",
    "        axis.set_xlim([0, 2.5])\n",
    "\n",
    "        iv = [ w.ideology.distance_from_o() for w in ir.stats.results]\n",
    "        hv = [ w.ideology.distance_from_o() for w in hr.stats.results]\n",
    "\n",
    "        axis.hist([iv, hv], bins=30, label=[ir.process.name, hr.process.name])\n",
    "        axis.set_title(\"Dimensionality: %d\" % ir.dim, color=\"black\")\n",
    "\n",
    "        axis.legend()\n",
    "\n",
    "    plt.savefig(\"foo.png\")"
   ],
   "metadata": {
    "collapsed": false,
    "pycharm": {
     "name": "#%%\n"
    }
   }
  },
  {
   "cell_type": "code",
   "execution_count": 10,
   "outputs": [],
   "source": [
    "def print_stats():\n",
    "    with open(\"random_results.p\", \"rb\") as f:\n",
    "        results = pickle.load(f)\n",
    "\n",
    "    def min_distance(cc: List[Candidate]) -> float:\n",
    "        x: float = np.min([c.ideology.distance_from_o() for c in cc])\n",
    "        return x\n",
    "\n",
    "    irv_results: List[ProcessResult] = [r for r in results if r.process.name == \"Hare\"]\n",
    "    h2h_results: List[ProcessResult] = [r for r in results if r.process.name == \"Minimax\"]\n",
    "\n",
    "    print(\"Results for candidates drawn randomly from the population\")\n",
    "    print(\"Dimensionality  Best       Hare       Minimax\")\n",
    "    for ir, hr in zip(irv_results, h2h_results):\n",
    "        dim = ir.dim\n",
    "        irv_winner_distance = [w.ideology.distance_from_o() for w in ir.stats.results]\n",
    "        h2h_winner_distance = [w.ideology.distance_from_o() for w in hr.stats.results]\n",
    "        best_candidate = [min_distance(cc) for cc in hr.stats.candidates]\n",
    "\n",
    "        print(\"%d             \" % dim, end = \"\")\n",
    "        print(\"%5.2f       \" % np.mean(best_candidate), end=\"\")\n",
    "        print(\"%5.2f       \" % np.mean(irv_winner_distance), end =\"\")\n",
    "        print(\"%5.2f       \" % np.mean(h2h_winner_distance))\n",
    "\n"
   ],
   "metadata": {
    "collapsed": false,
    "pycharm": {
     "name": "#%%\n"
    }
   }
  },
  {
   "cell_type": "code",
   "execution_count": 11,
   "outputs": [
    {
     "name": "stdout",
     "output_type": "stream",
     "text": [
      "        Hare - 1D  1000  0.33\n",
      "     Minimax - 1D  1000  0.19\n",
      "        Hare - 2D  1000  0.56\n",
      "     Minimax - 2D  1000  0.51\n",
      "        Hare - 3D  1000  0.84\n",
      "     Minimax - 3D  1000  0.82\n",
      "        Hare - 4D  1000  1.07\n",
      "     Minimax - 4D  1000  1.06\n"
     ]
    }
   ],
   "source": [
    "create_random_results()"
   ],
   "metadata": {
    "collapsed": false,
    "pycharm": {
     "name": "#%%\n"
    }
   }
  },
  {
   "cell_type": "code",
   "execution_count": 12,
   "outputs": [
    {
     "ename": "TypeError",
     "evalue": "unsupported operand type(s) for /: 'list' and 'int'",
     "output_type": "error",
     "traceback": [
      "\u001B[0;31m---------------------------------------------------------------------------\u001B[0m",
      "\u001B[0;31mTypeError\u001B[0m                                 Traceback (most recent call last)",
      "\u001B[0;32m<ipython-input-12-888dd2b94c17>\u001B[0m in \u001B[0;36m<module>\u001B[0;34m\u001B[0m\n\u001B[0;32m----> 1\u001B[0;31m \u001B[0mplot_results\u001B[0m\u001B[0;34m(\u001B[0m\u001B[0;34m)\u001B[0m\u001B[0;34m\u001B[0m\u001B[0;34m\u001B[0m\u001B[0m\n\u001B[0m\u001B[1;32m      2\u001B[0m \u001B[0;34m\u001B[0m\u001B[0m\n",
      "\u001B[0;32m<ipython-input-9-7d8f694caeb1>\u001B[0m in \u001B[0;36mplot_results\u001B[0;34m()\u001B[0m\n\u001B[1;32m      6\u001B[0m         \u001B[0mresults\u001B[0m \u001B[0;34m=\u001B[0m \u001B[0mpickle\u001B[0m\u001B[0;34m.\u001B[0m\u001B[0mload\u001B[0m\u001B[0;34m(\u001B[0m\u001B[0mf\u001B[0m\u001B[0;34m)\u001B[0m\u001B[0;34m\u001B[0m\u001B[0;34m\u001B[0m\u001B[0m\n\u001B[1;32m      7\u001B[0m \u001B[0;34m\u001B[0m\u001B[0m\n\u001B[0;32m----> 8\u001B[0;31m     \u001B[0mn_plots\u001B[0m \u001B[0;34m=\u001B[0m \u001B[0mlen\u001B[0m\u001B[0;34m(\u001B[0m\u001B[0mresults\u001B[0m \u001B[0;34m/\u001B[0m \u001B[0;36m2\u001B[0m\u001B[0;34m)\u001B[0m\u001B[0;34m\u001B[0m\u001B[0;34m\u001B[0m\u001B[0m\n\u001B[0m\u001B[1;32m      9\u001B[0m \u001B[0;34m\u001B[0m\u001B[0m\n\u001B[1;32m     10\u001B[0m     \u001B[0mfig\u001B[0m\u001B[0;34m,\u001B[0m \u001B[0maxes\u001B[0m \u001B[0;34m=\u001B[0m \u001B[0mplt\u001B[0m\u001B[0;34m.\u001B[0m\u001B[0msubplots\u001B[0m\u001B[0;34m(\u001B[0m\u001B[0mnrows\u001B[0m\u001B[0;34m=\u001B[0m\u001B[0;36m2\u001B[0m\u001B[0;34m,\u001B[0m \u001B[0mncols\u001B[0m\u001B[0;34m=\u001B[0m\u001B[0;36m2\u001B[0m\u001B[0;34m,\u001B[0m \u001B[0mfigsize\u001B[0m\u001B[0;34m=\u001B[0m\u001B[0;34m(\u001B[0m\u001B[0;36m20\u001B[0m\u001B[0;34m,\u001B[0m\u001B[0;36m20\u001B[0m\u001B[0;34m)\u001B[0m\u001B[0;34m)\u001B[0m\u001B[0;34m\u001B[0m\u001B[0;34m\u001B[0m\u001B[0m\n",
      "\u001B[0;31mTypeError\u001B[0m: unsupported operand type(s) for /: 'list' and 'int'"
     ]
    }
   ],
   "source": [
    "plot_results()"
   ],
   "metadata": {
    "collapsed": false,
    "pycharm": {
     "name": "#%%\n"
    }
   }
  },
  {
   "cell_type": "code",
   "execution_count": null,
   "outputs": [],
   "source": [
    "print_stats()\n",
    "\n"
   ],
   "metadata": {
    "collapsed": false,
    "pycharm": {
     "name": "#%%\n"
    }
   }
  }
 ],
 "metadata": {
  "kernelspec": {
   "display_name": "Python 3",
   "language": "python",
   "name": "python3"
  },
  "language_info": {
   "codemirror_mode": {
    "name": "ipython",
    "version": 2
   },
   "file_extension": ".py",
   "mimetype": "text/x-python",
   "name": "python",
   "nbconvert_exporter": "python",
   "pygments_lexer": "ipython2",
   "version": "2.7.6"
  }
 },
 "nbformat": 4,
 "nbformat_minor": 0
}