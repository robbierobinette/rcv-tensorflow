{
 "cells": [
  {
   "cell_type": "code",
   "execution_count": 1,
   "outputs": [],
   "source": [
    "import matplotlib.pyplot as plt\n",
    "\n",
    "from Ballot import Ballot\n",
    "from DefaultConfigOptions import *\n",
    "from PartyPrimaryElection import PartyPrimaryElection\n",
    "from ElectionResult import ElectionResult\n",
    "from DistrictData import DistrictVotingRecord, DistrictData\n",
    "from InstantRunoffElection import InstantRunoffElection\n",
    "from HeadToHeadElection import HeadToHeadElection\n",
    "from Population import Population\n",
    "from NDPopulation import NDPopulation\n",
    "from typing import List, Set, Callable\n",
    "from Election import Election\n",
    "from CandidateModel import CandidateModel\n",
    "import tensorflow as tf\n",
    "import tensorboard as tb\n",
    "from Timings import Timings"
   ],
   "metadata": {
    "collapsed": false,
    "pycharm": {
     "name": "#%%\n"
    }
   }
  },
  {
   "cell_type": "code",
   "execution_count": 2,
   "outputs": [],
   "source": [
    "\n",
    "\n",
    "class ElectionConstructor:\n",
    "    def __init__(self, constructor: Callable[[List[Ballot], Set[Candidate]], Election], name: str):\n",
    "        self.constructor = constructor\n",
    "        self.name = name\n",
    "\n",
    "    def run(self, ballots: List[Ballot], candidates: Set[Candidate]) -> ElectionResult:\n",
    "        e = self.constructor(ballots, candidates)\n",
    "        return e.result()\n",
    "\n",
    "\n",
    "def construct_irv(ballots: List[Ballot], candidates: Set[Candidate]):\n",
    "    return InstantRunoffElection(ballots, candidates)\n",
    "\n",
    "\n",
    "def construct_h2h(ballots: List[Ballot], candidates: Set[Candidate]):\n",
    "    return HeadToHeadElection(ballots, candidates)"
   ],
   "metadata": {
    "collapsed": false,
    "pycharm": {
     "name": "#%%\n"
    }
   }
  },
  {
   "cell_type": "code",
   "execution_count": 3,
   "outputs": [],
   "source": [
    "class Sample:\n",
    "    def __init__(self, opponents: List[Candidate], candidate: Candidate):\n",
    "        self.opponents = opponents.copy()\n",
    "        self.candidate = candidate"
   ],
   "metadata": {
    "collapsed": false,
    "pycharm": {
     "name": "#%%\n"
    }
   }
  },
  {
   "cell_type": "code",
   "execution_count": 4,
   "outputs": [],
   "source": [
    "def create_population(ideology_dim: int) -> (CandidateModel, NDPopulation):\n",
    "    population_means = np.zeros(shape=(ideology_dim,))\n",
    "    population_stddev = np.ones(shape=(ideology_dim,)) * 40\n",
    "    pop = NDPopulation(population_means, population_stddev, Independents)\n",
    "    return pop"
   ],
   "metadata": {
    "collapsed": false,
    "pycharm": {
     "name": "#%%\n"
    }
   }
  },
  {
   "cell_type": "code",
   "execution_count": 5,
   "outputs": [],
   "source": [
    "class Stats:\n",
    "    def __init__(self):\n",
    "        self.winner_distance = 0\n",
    "        self.results = []\n",
    "\n",
    "\n",
    "    def reset(self):\n",
    "        self.winner_distance = 0\n",
    "        self.results = []\n",
    "\n",
    "    def update(self, winner: Candidate):\n",
    "        self.winner_distance += winner.ideology.distance_from_o()\n",
    "        self.results += [winner]\n",
    "\n",
    "\n",
    "    def print(self, label: str):\n",
    "        print(\"%15s %5d \" %\n",
    "               (label,\n",
    "               len(self.results)), end=\"\")\n",
    "\n",
    "        print(\"%5.2f\" % (self.winner_distance / len(self.results)))"
   ],
   "metadata": {
    "collapsed": false,
    "pycharm": {
     "name": "#%%\n"
    }
   }
  },
  {
   "cell_type": "code",
   "execution_count": 6,
   "outputs": [],
   "source": [
    "def run_sample_election(process: ElectionConstructor, population: NDPopulation, timings: Timings):\n",
    "    candidates = []\n",
    "    for i in range(6):\n",
    "        ideology = population.sample_voter().ideology\n",
    "        c = Candidate(\"r-\" + str(i), Independents, ideology, 0)\n",
    "        candidates += [c]\n",
    "\n",
    "    with timings.time_block(\"generate_voters\"):\n",
    "        voters = population.generate_voters(1000)\n",
    "\n",
    "    with timings.time_block(\"compute_ballots\"):\n",
    "        ballots = [Ballot(v, candidates, default_election_config) for v in voters]\n",
    "\n",
    "    with timings.time_block(\"run_process\"):\n",
    "        result = process.run(ballots, set(candidates))\n",
    "    winner = result.winner()\n",
    "\n",
    "    return winner, candidates"
   ],
   "metadata": {
    "collapsed": false,
    "pycharm": {
     "name": "#%%\n"
    }
   }
  },
  {
   "cell_type": "code",
   "execution_count": 7,
   "outputs": [],
   "source": [
    "def run_process(process: ElectionConstructor, dim: int, samples: int):\n",
    "    population = create_population(dim)\n",
    "    timings = Timings()\n",
    "    stats = Stats()\n",
    "    for i in range(samples):\n",
    "        winner, cc = run_sample_election(process, population, timings)\n",
    "        stats.update(winner)\n",
    "\n",
    "    return stats"
   ],
   "metadata": {
    "collapsed": false,
    "pycharm": {
     "name": "#%%\n"
    }
   }
  },
  {
   "cell_type": "code",
   "execution_count": 15,
   "outputs": [],
   "source": [
    "class ProcessResult:\n",
    "    def __init__(self, process: ElectionConstructor, dim: int, stats: Stats):\n",
    "        self.process = process\n",
    "        self.dim = dim\n",
    "        self.stats = stats\n",
    "\n",
    "    def print(self):\n",
    "        self.stats.print(\"%12s - %dD\" % (self.process.name, self.dim))"
   ],
   "metadata": {
    "collapsed": false,
    "pycharm": {
     "name": "#%%\n"
    }
   }
  },
  {
   "cell_type": "code",
   "execution_count": 16,
   "outputs": [
    {
     "name": "stdout",
     "output_type": "stream",
     "text": [
      "Instant Runoff - 1D  1000 25.28\n",
      "Instant Runoff - 2D  1000 35.25\n",
      "Instant Runoff - 3D  1000 47.85\n",
      "Instant Runoff - 4D  1000 58.31\n",
      "Head-to-Head - 1D  1000  7.85\n",
      "Head-to-Head - 2D  1000 20.66\n",
      "Head-to-Head - 3D  1000 32.12\n",
      "Head-to-Head - 4D  1000 42.90\n"
     ]
    }
   ],
   "source": [
    "results = []\n",
    "processes = [\n",
    "    ElectionConstructor(constructor=construct_irv, name=\"Instant Runoff\"),\n",
    "    ElectionConstructor(constructor=construct_h2h, name=\"Head-to-Head\")\n",
    "]\n",
    "\n",
    "for process in processes:\n",
    "    for dim in [1,2,3,4]:\n",
    "        stats = run_process(process, dim, 1000)\n",
    "\n",
    "        results.append(ProcessResult(process, dim, stats))\n",
    "\n",
    "for r in results:\n",
    "    r.print()"
   ],
   "metadata": {
    "collapsed": false,
    "pycharm": {
     "name": "#%%\n"
    }
   }
  },
  {
   "cell_type": "code",
   "execution_count": 9,
   "outputs": [],
   "source": [],
   "metadata": {
    "collapsed": false,
    "pycharm": {
     "name": "#%%\n"
    }
   }
  }
 ],
 "metadata": {
  "kernelspec": {
   "display_name": "Python 3",
   "language": "python",
   "name": "python3"
  },
  "language_info": {
   "codemirror_mode": {
    "name": "ipython",
    "version": 2
   },
   "file_extension": ".py",
   "mimetype": "text/x-python",
   "name": "python",
   "nbconvert_exporter": "python",
   "pygments_lexer": "ipython2",
   "version": "2.7.6"
  }
 },
 "nbformat": 4,
 "nbformat_minor": 0
}