{
 "cells": [
  {
   "cell_type": "code",
   "execution_count": 1,
   "metadata": {
    "collapsed": true,
    "pycharm": {
     "name": "#%%\n"
    }
   },
   "outputs": [],
   "source": [
    "from CandidateNetwork import CandidateNetwork\n",
    "from Candidate import Candidate\n",
    "import numpy as np\n",
    "import tensorflow as tf\n",
    "from typing import List\n",
    "import random"
   ]
  },
  {
   "cell_type": "code",
   "execution_count": null,
   "outputs": [],
   "source": [
    "x = tf.ones(shape=(8,16,4))\n",
    "x1 = tf.transpose(x, [0, 2, 1])\n",
    "l = tf.keras.layers.Dense(10)\n",
    "\n",
    "ee = l(x1)\n",
    "e = tf.reduce_sum(ee, axis=1, keepdims=False)\n",
    "e"
   ],
   "metadata": {
    "collapsed": false,
    "pycharm": {
     "name": "#%%\n"
    }
   }
  },
  {
   "cell_type": "code",
   "execution_count": 35,
   "outputs": [
    {
     "name": "stdout",
     "output_type": "stream",
     "text": [
      "[[0 3 4]\n",
      " [2 5 0]\n",
      " [2 3 4]\n",
      " [0 1 0]\n",
      " [0 2 2]\n",
      " [1 3 1]\n",
      " [5 5 4]\n",
      " [1 3 5]\n",
      " [1 3 5]\n",
      " [3 0 2]]\n"
     ]
    },
    {
     "data": {
      "text/plain": "<tf.Tensor: shape=(10, 18), dtype=float32, numpy=\narray([[1., 0., 0., 0., 0., 0., 0., 0., 0., 1., 0., 0., 0., 0., 0., 0.,\n        1., 0.],\n       [0., 0., 1., 0., 0., 0., 0., 0., 0., 0., 0., 1., 1., 0., 0., 0.,\n        0., 0.],\n       [0., 0., 1., 0., 0., 0., 0., 0., 0., 1., 0., 0., 0., 0., 0., 0.,\n        1., 0.],\n       [1., 0., 0., 0., 0., 0., 0., 1., 0., 0., 0., 0., 1., 0., 0., 0.,\n        0., 0.],\n       [1., 0., 0., 0., 0., 0., 0., 0., 1., 0., 0., 0., 0., 0., 1., 0.,\n        0., 0.],\n       [0., 1., 0., 0., 0., 0., 0., 0., 0., 1., 0., 0., 0., 1., 0., 0.,\n        0., 0.],\n       [0., 0., 0., 0., 0., 1., 0., 0., 0., 0., 0., 1., 0., 0., 0., 0.,\n        1., 0.],\n       [0., 1., 0., 0., 0., 0., 0., 0., 0., 1., 0., 0., 0., 0., 0., 0.,\n        0., 1.],\n       [0., 1., 0., 0., 0., 0., 0., 0., 0., 1., 0., 0., 0., 0., 0., 0.,\n        0., 1.],\n       [0., 0., 0., 1., 0., 0., 1., 0., 0., 0., 0., 0., 0., 0., 1., 0.,\n        0., 0.]], dtype=float32)>"
     },
     "execution_count": 35,
     "metadata": {},
     "output_type": "execute_result"
    }
   ],
   "source": [
    "depth=6\n",
    "dim=3\n",
    "n=10\n",
    "actions=np.array([random.randrange(0, depth) for i in range(dim * n)])\n",
    "aa = np.reshape(actions, newshape=(n,dim))\n",
    "print(aa)\n",
    "d3 = tf.one_hot(aa, depth=depth)\n",
    "tf.reshape(d3, shape=(n, dim * depth))\n"
   ],
   "metadata": {
    "collapsed": false,
    "pycharm": {
     "name": "#%%\n"
    }
   }
  },
  {
   "cell_type": "code",
   "execution_count": 48,
   "outputs": [
    {
     "name": "stdout",
     "output_type": "stream",
     "text": [
      "[[0 1 2 3 4 5 6 7 8 9]\n",
      " [0 1 2 3 4 5 6 7 8 9]]\n"
     ]
    }
   ],
   "source": [
    "a= np.array([i for i in range(10 )])\n",
    "b= np.array([i for i in range(10 )])\n",
    "print(np.stack([a,b]))"
   ],
   "metadata": {
    "collapsed": false,
    "pycharm": {
     "name": "#%%\n"
    }
   }
  },
  {
   "cell_type": "code",
   "execution_count": 5,
   "outputs": [
    {
     "data": {
      "text/plain": "array([1, 2, 3])"
     },
     "execution_count": 5,
     "metadata": {},
     "output_type": "execute_result"
    }
   ],
   "source": [
    "from Ideology import Ideology\n",
    "from Party import Republicans\n",
    "from CandidateModel import CandidateModel\n",
    "c = Candidate(\"foo\", Republicans, Ideology(np.array([1,2,3])), 0)\n",
    "cm = CandidateModel(10, 3, 10, 32, .001)\n"
   ],
   "metadata": {
    "collapsed": false,
    "pycharm": {
     "name": "#%%\n"
    }
   }
  }
 ],
 "metadata": {
  "kernelspec": {
   "display_name": "Python 3",
   "language": "python",
   "name": "python3"
  },
  "language_info": {
   "codemirror_mode": {
    "name": "ipython",
    "version": 2
   },
   "file_extension": ".py",
   "mimetype": "text/x-python",
   "name": "python",
   "nbconvert_exporter": "python",
   "pygments_lexer": "ipython2",
   "version": "2.7.6"
  }
 },
 "nbformat": 4,
 "nbformat_minor": 0
}