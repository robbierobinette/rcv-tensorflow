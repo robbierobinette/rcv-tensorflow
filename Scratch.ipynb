{
 "cells": [
  {
   "cell_type": "code",
   "execution_count": 2,
   "outputs": [
    {
     "data": {
      "text/plain": "[<ProcessResult.ProcessResult at 0x1171d3f10>,\n <ProcessResult.ProcessResult at 0x117226040>,\n <ProcessResult.ProcessResult at 0x1171d3fa0>,\n <ProcessResult.ProcessResult at 0x117062160>]"
     },
     "execution_count": 2,
     "metadata": {},
     "output_type": "execute_result"
    }
   ],
   "source": [
    "import pickle\n",
    "import glob\n",
    "\n",
    "def load_path(path: str) -> any:\n",
    "    with open(path, \"rb\") as f:\n",
    "        return pickle.load(f)\n",
    "\n",
    "irv_results = [load_path(s) for s in glob.glob(\"process_results-2/Hare*.p\")]\n",
    "irv_results"
   ],
   "metadata": {
    "collapsed": false,
    "pycharm": {
     "name": "#%%\n"
    }
   }
  }
 ],
 "metadata": {
  "kernelspec": {
   "display_name": "Python 3",
   "language": "python",
   "name": "python3"
  },
  "language_info": {
   "codemirror_mode": {
    "name": "ipython",
    "version": 2
   },
   "file_extension": ".py",
   "mimetype": "text/x-python",
   "name": "python",
   "nbconvert_exporter": "python",
   "pygments_lexer": "ipython2",
   "version": "2.7.6"
  }
 },
 "nbformat": 4,
 "nbformat_minor": 0
}