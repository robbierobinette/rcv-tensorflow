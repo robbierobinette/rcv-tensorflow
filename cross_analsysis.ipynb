{
 "cells": [
  {
   "cell_type": "code",
   "execution_count": 3,
   "outputs": [],
   "source": [
    "\n",
    "from NDPopulation import NDPopulation\n",
    "from ProcessResult import ProcessResult"
   ],
   "metadata": {
    "collapsed": false,
    "pycharm": {
     "name": "#%%\n"
    }
   }
  },
  {
   "cell_type": "code",
   "execution_count": 1,
   "outputs": [
    {
     "name": "stdout",
     "output_type": "stream",
     "text": [
      "dimensionality  agree disagree %agree\n",
      "1               573   427      57.30%\n",
      "2               808   192      80.80%\n",
      "3               905    95      90.50%\n",
      "4               932    68      93.20%\n"
     ]
    }
   ],
   "source": [
    "import glob\n",
    "from ElectionConstructor import *\n",
    "import pickle\n",
    "from NDPopulation import NDPopulation\n",
    "\n",
    "def load_path(path: str) -> any:\n",
    "    with open(path, \"rb\") as f:\n",
    "        return pickle.load(f)\n",
    "\n",
    "\n",
    "\n",
    "def generate_results(candidates: List[Candidate], processes: List[ElectionConstructor]) -> List[ElectionResult]:\n",
    "    dim = candidates[0].ideology.dim\n",
    "    population = NDPopulation(np.zeros((dim,)), np.ones((dim,)))\n",
    "    voters = population.generate_unit_voters(1000)\n",
    "    ballots = [Ballot(v, candidates, unit_election_config) for v in voters]\n",
    "    return [p.run(ballots, set(candidates)).winner() for p in processes]\n",
    "\n",
    "def compare_outcomes():\n",
    "    irv_results: List[ProcessResult] = [load_path(s) for s in glob.glob(\"process_results-2/Hare*.p\")]\n",
    "\n",
    "    irv_results.sort(key=lambda r: r.dim)\n",
    "    processes = [\n",
    "        ElectionConstructor(constructor=construct_irv, name=\"Hare\"),\n",
    "        ElectionConstructor(constructor=construct_h2h, name=\"Minimax\")\n",
    "    ]\n",
    "\n",
    "    print(\"dimensionality  agree disagree %agree\")\n",
    "    for ir in irv_results:\n",
    "        dim = ir.dim\n",
    "        agree_count = 0\n",
    "        disagree_count = 0\n",
    "        for w, cc in ir.stats.results[0:1000]:\n",
    "            o = generate_results(cc, processes)\n",
    "            if o[0].name == o[1].name:\n",
    "                agree_count += 1\n",
    "            else:\n",
    "                disagree_count += 1\n",
    "\n",
    "        print(\"%d              %4d  %4d      %5.2f%%\" % (dim, agree_count, disagree_count, 100 * agree_count / (agree_count + disagree_count)))\n",
    "\n",
    "compare_outcomes()"
   ],
   "metadata": {
    "collapsed": false,
    "pycharm": {
     "name": "#%%\n"
    }
   }
  },
  {
   "cell_type": "code",
   "execution_count": 2,
   "outputs": [
    {
     "ename": "NameError",
     "evalue": "name 'ProcessResult' is not defined",
     "output_type": "error",
     "traceback": [
      "\u001B[0;31m---------------------------------------------------------------------------\u001B[0m",
      "\u001B[0;31mNameError\u001B[0m                                 Traceback (most recent call last)",
      "\u001B[0;32m<ipython-input-2-d29cee0e207b>\u001B[0m in \u001B[0;36m<module>\u001B[0;34m\u001B[0m\n\u001B[1;32m     20\u001B[0m         \u001B[0mdim\u001B[0m \u001B[0;34m+=\u001B[0m \u001B[0;36m1\u001B[0m\u001B[0;34m\u001B[0m\u001B[0;34m\u001B[0m\u001B[0m\n\u001B[1;32m     21\u001B[0m \u001B[0;34m\u001B[0m\u001B[0m\n\u001B[0;32m---> 22\u001B[0;31m \u001B[0mprint_winner_stats\u001B[0m\u001B[0;34m(\u001B[0m\u001B[0;34m)\u001B[0m\u001B[0;34m\u001B[0m\u001B[0;34m\u001B[0m\u001B[0m\n\u001B[0m",
      "\u001B[0;32m<ipython-input-2-d29cee0e207b>\u001B[0m in \u001B[0;36mprint_winner_stats\u001B[0;34m()\u001B[0m\n\u001B[1;32m      6\u001B[0m     \u001B[0mh2h_results\u001B[0m\u001B[0;34m.\u001B[0m\u001B[0msort\u001B[0m\u001B[0;34m(\u001B[0m\u001B[0mkey\u001B[0m\u001B[0;34m=\u001B[0m\u001B[0;32mlambda\u001B[0m \u001B[0mr\u001B[0m\u001B[0;34m:\u001B[0m \u001B[0mr\u001B[0m\u001B[0;34m.\u001B[0m\u001B[0mdim\u001B[0m\u001B[0;34m)\u001B[0m\u001B[0;34m\u001B[0m\u001B[0;34m\u001B[0m\u001B[0m\n\u001B[1;32m      7\u001B[0m \u001B[0;34m\u001B[0m\u001B[0m\n\u001B[0;32m----> 8\u001B[0;31m     \u001B[0;32mdef\u001B[0m \u001B[0mget_winner_distance\u001B[0m\u001B[0;34m(\u001B[0m\u001B[0mresult\u001B[0m\u001B[0;34m:\u001B[0m \u001B[0mProcessResult\u001B[0m\u001B[0;34m)\u001B[0m \u001B[0;34m->\u001B[0m \u001B[0mnp\u001B[0m\u001B[0;34m.\u001B[0m\u001B[0marray\u001B[0m\u001B[0;34m:\u001B[0m\u001B[0;34m\u001B[0m\u001B[0;34m\u001B[0m\u001B[0m\n\u001B[0m\u001B[1;32m      9\u001B[0m         \u001B[0mv\u001B[0m \u001B[0;34m=\u001B[0m \u001B[0;34m[\u001B[0m\u001B[0mw\u001B[0m\u001B[0;34m.\u001B[0m\u001B[0mideology\u001B[0m\u001B[0;34m.\u001B[0m\u001B[0mdistance_from_o\u001B[0m\u001B[0;34m(\u001B[0m\u001B[0;34m)\u001B[0m \u001B[0;32mfor\u001B[0m \u001B[0mw\u001B[0m\u001B[0;34m,\u001B[0m \u001B[0mcc\u001B[0m \u001B[0;32min\u001B[0m \u001B[0mresult\u001B[0m\u001B[0;34m.\u001B[0m\u001B[0mstats\u001B[0m\u001B[0;34m.\u001B[0m\u001B[0mresults\u001B[0m\u001B[0;34m]\u001B[0m\u001B[0;34m\u001B[0m\u001B[0;34m\u001B[0m\u001B[0m\n\u001B[1;32m     10\u001B[0m         \u001B[0;32mreturn\u001B[0m \u001B[0mnp\u001B[0m\u001B[0;34m.\u001B[0m\u001B[0marray\u001B[0m\u001B[0;34m(\u001B[0m\u001B[0mv\u001B[0m\u001B[0;34m)\u001B[0m\u001B[0;34m\u001B[0m\u001B[0;34m\u001B[0m\u001B[0m\n",
      "\u001B[0;31mNameError\u001B[0m: name 'ProcessResult' is not defined"
     ]
    }
   ],
   "source": [
    "def print_winner_stats():\n",
    "    irv_results: List[ProcessResult] = [load_path(s) for s in glob.glob(\"process_results-2/Hare*.p\")]\n",
    "    irv_results.sort(key=lambda r: r.dim)\n",
    "\n",
    "    h2h_results: List[ProcessResult] = [load_path(s) for s in glob.glob(\"process_results-2/Minimax*.p\")]\n",
    "    h2h_results.sort(key=lambda r: r.dim)\n",
    "\n",
    "    def get_winner_distance(result: ProcessResult) -> np.array:\n",
    "        v = [w.ideology.distance_from_o() for w, cc in result.stats.results]\n",
    "        return np.array(v)\n",
    "\n",
    "    print(\"Dimensionality  Hare      Minimax\")\n",
    "    dim = 1\n",
    "    for ir, hr in zip(irv_results, h2h_results):\n",
    "        ird = get_winner_distance(ir)\n",
    "        hd = get_winner_distance(hr)\n",
    "        i_mean: float = np.mean(ird)\n",
    "        h_mean: float = np.mean(hd)\n",
    "        print(\"%d              %5.2f     %5.2f\" % (dim, i_mean, h_mean))\n",
    "        dim += 1\n",
    "\n",
    "print_winner_stats()"
   ],
   "metadata": {
    "collapsed": false,
    "pycharm": {
     "name": "#%%\n"
    }
   }
  },
  {
   "cell_type": "code",
   "execution_count": 5,
   "outputs": [],
   "source": [],
   "metadata": {
    "collapsed": false,
    "pycharm": {
     "name": "#%%\n"
    }
   }
  }
 ],
 "metadata": {
  "kernelspec": {
   "display_name": "Python 3",
   "language": "python",
   "name": "python3"
  },
  "language_info": {
   "codemirror_mode": {
    "name": "ipython",
    "version": 2
   },
   "file_extension": ".py",
   "mimetype": "text/x-python",
   "name": "python",
   "nbconvert_exporter": "python",
   "pygments_lexer": "ipython2",
   "version": "2.7.6"
  }
 },
 "nbformat": 4,
 "nbformat_minor": 0
}