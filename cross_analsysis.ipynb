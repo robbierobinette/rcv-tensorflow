{
 "cells": [
  {
   "cell_type": "code",
   "execution_count": 3,
   "outputs": [],
   "source": [
    "\n",
    "from NDPopulation import NDPopulation\n",
    "from ProcessResult import ProcessResult"
   ],
   "metadata": {
    "collapsed": false,
    "pycharm": {
     "name": "#%%\n"
    }
   }
  },
  {
   "cell_type": "code",
   "execution_count": 1,
   "outputs": [
    {
     "name": "stdout",
     "output_type": "stream",
     "text": [
      "dimensionality  agree disagree %agree\n",
      "1               573   427      57.30%\n",
      "2               808   192      80.80%\n",
      "3               905    95      90.50%\n",
      "4               932    68      93.20%\n"
     ]
    }
   ],
   "source": [
    "import glob\n",
    "from ElectionConstructor import *\n",
    "import pickle\n",
    "from NDPopulation import NDPopulation\n",
    "\n",
    "def load_path(path: str) -> any:\n",
    "    with open(path, \"rb\") as f:\n",
    "        return pickle.load(f)\n",
    "\n",
    "\n",
    "\n",
    "def generate_results(candidates: List[Candidate], processes: List[ElectionConstructor]) -> List[ElectionResult]:\n",
    "    dim = candidates[0].ideology.dim\n",
    "    population = NDPopulation(np.zeros((dim,)), np.ones((dim,)))\n",
    "    voters = population.generate_unit_voters(1000)\n",
    "    ballots = [Ballot(v, candidates, unit_election_config) for v in voters]\n",
    "    return [p.run(ballots, set(candidates)).winner() for p in processes]\n",
    "\n",
    "def compare_outcomes():\n",
    "    irv_results: List[ProcessResult] = [load_path(s) for s in glob.glob(\"process_results-2/Hare*.p\")]\n",
    "\n",
    "    irv_results.sort(key=lambda r: r.dim)\n",
    "    processes = [\n",
    "        ElectionConstructor(constructor=construct_irv, name=\"Hare\"),\n",
    "        ElectionConstructor(constructor=construct_h2h, name=\"Minimax\")\n",
    "    ]\n",
    "\n",
    "    print(\"dimensionality  agree disagree %agree\")\n",
    "    for ir in irv_results:\n",
    "        dim = ir.dim\n",
    "        agree_count = 0\n",
    "        disagree_count = 0\n",
    "        for w, cc in ir.stats.results[0:1000]:\n",
    "            o = generate_results(cc, processes)\n",
    "            if o[0].name == o[1].name:\n",
    "                agree_count += 1\n",
    "            else:\n",
    "                disagree_count += 1\n",
    "\n",
    "        print(\"%d              %4d  %4d      %5.2f%%\" % (dim, agree_count, disagree_count, 100 * agree_count / (agree_count + disagree_count)))\n",
    "\n",
    "compare_outcomes()"
   ],
   "metadata": {
    "collapsed": false,
    "pycharm": {
     "name": "#%%\n"
    }
   }
  },
  {
   "cell_type": "code",
   "execution_count": 18,
   "outputs": [
    {
     "name": "stdout",
     "output_type": "stream",
     "text": [
      "Dimensionality  Hare      Minimax\n",
      "1               0.76      0.05\n",
      "2               0.93      0.09\n",
      "3               1.21      0.15\n",
      "4               1.48      0.21\n"
     ]
    }
   ],
   "source": [
    "def print_winner_stats():\n",
    "    irv_results: List[ProcessResult] = [load_path(s) for s in glob.glob(\"process_results-2/Hare*.p\")]\n",
    "    irv_results.sort(key=lambda r: r.dim)\n",
    "\n",
    "    h2h_results: List[ProcessResult] = [load_path(s) for s in glob.glob(\"process_results-2/Minimax*.p\")]\n",
    "    h2h_results.sort(key=lambda r: r.dim)\n",
    "\n",
    "    def get_winner_distance(result: ProcessResult) -> np.array:\n",
    "        v = [w.ideology.distance_from_o() for w, cc in result.stats.results]\n",
    "        return np.array(v)\n",
    "\n",
    "    print(\"Dimensionality  Hare      Minimax\")\n",
    "    dim = 1\n",
    "    for ir, hr in zip(irv_results, h2h_results):\n",
    "        ird = get_winner_distance(ir)\n",
    "        hd = get_winner_distance(hr)\n",
    "        print(\"%d              %5.2f     %5.2f\" % (dim, np.mean(ird), np.mean(hd)))\n",
    "        dim += 1\n",
    "\n",
    "print_winner_stats()"
   ],
   "metadata": {
    "collapsed": false,
    "pycharm": {
     "name": "#%%\n"
    }
   }
  },
  {
   "cell_type": "code",
   "execution_count": 5,
   "outputs": [],
   "source": [],
   "metadata": {
    "collapsed": false,
    "pycharm": {
     "name": "#%%\n"
    }
   }
  }
 ],
 "metadata": {
  "kernelspec": {
   "display_name": "Python 3",
   "language": "python",
   "name": "python3"
  },
  "language_info": {
   "codemirror_mode": {
    "name": "ipython",
    "version": 2
   },
   "file_extension": ".py",
   "mimetype": "text/x-python",
   "name": "python",
   "nbconvert_exporter": "python",
   "pygments_lexer": "ipython2",
   "version": "2.7.6"
  }
 },
 "nbformat": 4,
 "nbformat_minor": 0
}