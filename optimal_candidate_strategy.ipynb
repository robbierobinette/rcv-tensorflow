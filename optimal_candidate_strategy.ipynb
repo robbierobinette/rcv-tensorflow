{
 "cells": [
  {
   "cell_type": "code",
   "execution_count": 0,
   "metadata": {
    "collapsed": true
   },
   "outputs": [],
   "source": []
  },
  {
   "cell_type": "markdown",
   "source": [
    "# Comparing Election Processes Using Optimal Candidate Strategy\n",
    "\n",
    "### Abstract\n",
    "Existing scholarship has focused on two methods for evaluating\n",
    "election processes.  The first method is based on using ballots or\n",
    "survey data of one form or another to infer voter preferences.  All\n",
    "survey data is, by definition, influenced by the election process\n",
    "under which that data was gathered.  The alternative is to assume a\n",
    "normal distribution of voters over some dimensionality and a\n",
    "corresponding selection of candidates drawn from that same\n",
    "population.  This presumes that candidates make no attempt to adjust\n",
    "their position to maximize their chance of winning.  Comparing the\n",
    "outcomes by examining any set of ballots (real or hypothetical) under\n",
    "multiple election processes presumes no alteration in candidate\n",
    "behavior based on the election process.\n",
    "\n",
    "We undertake to compare the outcomes under different voting systems when\n",
    "candidates who chose their ideological positions to optimize their chance\n",
    "of winning.\n",
    "\n",
    "We use a neural network and techniques from reinforcement learning to\n",
    "learn optimal strategy for candidates under each voting system at different\n",
    "assumptions of the dimensionality of the ideological space.\n",
    "\n",
    "\n",
    "\n",
    "### Introduction\n",
    "\n",
    "_This goes into more detail that was referred to in the abstract and cites\n",
    "the various papers that are relevant_\n",
    "\n",
    "_It should also mention the snowball effect, individuals who have a chance to win under\n",
    "a given system will be more likely to declare a candidacy, more likely to attract\n",
    "media attention, donors, endorsements, etc.  This isn't all about assuming that candidates\n",
    "will cynically adjust their policy_\n",
    "\n",
    "### Voting Model\n",
    "\n",
    "Voters use a preference model to choose their preferred candidate as follows:\n",
    "\n",
    "$S = -||I_{C} - I_{V}|| + Q_{C} + U$\n",
    "\n",
    "Where:\n",
    "\n",
    "* $S$ is the score for the candidate\n",
    "* $I$ is the $N$ dimensional ideology vector.  The dimensions are considered\n",
    "to be orthogonal with unit variance.  Manhattan distance is used, but I intend to change that to Eluclidean\n",
    "distance to reduce potential confusion.\n",
    "* $Q$ is the quality of the candidate, it is held at zero for all simulations\n",
    "* $U$ is the uncertainty is a unit gaussian * .375\n",
    "\n",
    "\n",
    "The voter computes a score for each candidate, the ballot is constructed\n",
    "in the order of the scores, highest first.\n",
    "\n",
    "### Voting Systems\n",
    "\n",
    "Two voting systems are considered:  Hare and Minimax.  These systems have been chosen\n",
    "because existing results with random candidates and based on survey data suggest that these\n",
    "methods agree most of the time.\n",
    "\n",
    "_This needs to be expanded upon, list the papers showing this and the metrics used to\n",
    "demonstrate that agreement._\n",
    "\n",
    "The question is whether analysis using existing strategies of either survey data or\n",
    "random candidates is predictive of actual outcomes.\n",
    "\n",
    "### Results with Randomly Chosen Candidates\n",
    "\n",
    "First we examine the outcomes when candidates are randomly drawn from the same\n",
    "distribution as the voters.  This is perhaps the only situation where it is\n",
    "reasonable to compare a set of ballots under two different voting systems.\n",
    "Conversely, it only applies if there is preference to select viable candidates,\n",
    "and the candidates do not alter their behavior to maximize their chance of\n",
    "winning.  Perhaps, not the most reasonable of assumptions.\n",
    "\n",
    "Nonetheless, this information is relevant for two reasons:  First, it provides some\n",
    "reassurance that these results agree with existing scholarship that assumes random\n",
    "candidates.  This validates both the voting model and the implementation of the\n",
    "voting system.\n",
    "\n",
    "Second, it is a useful reference to show how much the outcome is influenced when\n",
    "candidates optimize their positions.  The voting reform effort is based on the idea\n",
    "that election results will change if the voting system is changed.  It seems\n",
    "appropriate to analyze the outcomes under the assumption that candidates will indeed\n",
    "change under a different electoral system."
   ],
   "metadata": {
    "collapsed": false
   }
  },
  {
   "cell_type": "code",
   "execution_count": 1,
   "outputs": [],
   "source": [
    "from typing import Set, Callable\n",
    "\n",
    "from Ballot import Ballot\n",
    "from CandidateModel import CandidateModel\n",
    "from DefaultConfigOptions import *\n",
    "from Election import Election\n",
    "from ElectionResult import ElectionResult\n",
    "from HeadToHeadElection import HeadToHeadElection\n",
    "from InstantRunoffElection import InstantRunoffElection\n",
    "from NDPopulation import NDPopulation"
   ],
   "metadata": {
    "collapsed": false,
    "pycharm": {
     "name": "#%%\n"
    }
   }
  },
  {
   "cell_type": "code",
   "execution_count": 2,
   "outputs": [],
   "source": [
    "class ElectionConstructor:\n",
    "    def __init__(self, constructor: Callable[[List[Ballot], Set[Candidate]], Election], name: str):\n",
    "        self.constructor = constructor\n",
    "        self.name = name\n",
    "\n",
    "    def run(self, ballots: List[Ballot], candidates: Set[Candidate]) -> ElectionResult:\n",
    "        e = self.constructor(ballots, candidates)\n",
    "        return e.result()\n",
    "\n",
    "def construct_irv(ballots: List[Ballot], candidates: Set[Candidate]):\n",
    "    return InstantRunoffElection(ballots, candidates)\n",
    "\n",
    "def construct_h2h(ballots: List[Ballot], candidates: Set[Candidate]):\n",
    "    return HeadToHeadElection(ballots, candidates)"
   ],
   "metadata": {
    "collapsed": false,
    "pycharm": {
     "name": "#%%\n"
    }
   }
  },
  {
   "cell_type": "code",
   "execution_count": 3,
   "outputs": [],
   "source": [
    "class Sample:\n",
    "    def __init__(self, opponents: List[Candidate], candidate: Candidate):\n",
    "        self.opponents = opponents.copy()\n",
    "        self.candidate = candidate"
   ],
   "metadata": {
    "collapsed": false,
    "pycharm": {
     "name": "#%%\n"
    }
   }
  },
  {
   "cell_type": "code",
   "execution_count": 4,
   "outputs": [],
   "source": [
    "def create_population(ideology_dim: int) -> (CandidateModel, NDPopulation):\n",
    "    population_means = np.zeros(shape=(ideology_dim,))\n",
    "    population_stddev = np.ones(shape=(ideology_dim,))\n",
    "    pop = NDPopulation(population_means, population_stddev)\n",
    "    return pop"
   ],
   "metadata": {
    "collapsed": false,
    "pycharm": {
     "name": "#%%\n"
    }
   }
  },
  {
   "cell_type": "code",
   "execution_count": 5,
   "outputs": [],
   "source": [
    "class StatsElement:\n",
    "    def __init__(self, winner, representation, candidates):\n",
    "        self.winner = winner\n",
    "        self.representation = representation\n",
    "        self.candidates = candidates\n",
    "        self.min_candidate_distance = np.min([c.ideology.distance_from_o() for c in candidates])\n",
    "\n",
    "\n",
    "class Stats:\n",
    "    def __init__(self):\n",
    "        self.winner_distance = 0\n",
    "        self.results: List[Candidate] = []\n",
    "    def reset(self):\n",
    "        self.winner_distance = 0\n",
    "        self.results = []\n",
    "    def update(self, winner: Candidate, representation: float, candidates: List[Candidate]):\n",
    "        self.winner_distance += winner.ideology.distance_from_o()\n",
    "        self.results += [winner]\n",
    "    def print(self, label: str):\n",
    "        print(\"%15s %5d \" %\n",
    "               (label,\n",
    "               len(self.results)), end=\"\")\n",
    "\n",
    "        print(\"%5.2f\" % (self.winner_distance / len(self.results)))"
   ],
   "metadata": {
    "collapsed": false,
    "pycharm": {
     "name": "#%%\n"
    }
   }
  },
  {
   "cell_type": "code",
   "execution_count": 6,
   "outputs": [],
   "source": [
    "class ProcessResult:\n",
    "    def __init__(self, process: ElectionConstructor, dim: int, stats: Stats):\n",
    "        self.process = process\n",
    "        self.dim = dim\n",
    "        self.stats = stats\n",
    "\n",
    "    def print(self):\n",
    "        self.stats.print(\"%12s - %dD\" % (self.process.name, self.dim))"
   ],
   "metadata": {
    "collapsed": false,
    "pycharm": {
     "name": "#%%\n"
    }
   }
  },
  {
   "cell_type": "code",
   "execution_count": 7,
   "outputs": [],
   "source": [
    "def generate_candidates(population: NDPopulation, n_candidates: int) -> List[Candidate]:\n",
    "    candidates = []\n",
    "    for i in range(n_candidates):\n",
    "        ideology = population.unit_sample_voter().ideology\n",
    "        c = Candidate(\"r-\" + str(i), Independents, ideology, 0)\n",
    "        candidates += [c]\n",
    "    return candidates\n",
    "\n",
    "def compute_representation(winner: Candidate, voters: List[Voter]):\n",
    "    def compute_dim(d: int) -> float:\n",
    "        l = [v for v in voters if winner.ideology.vec[d] < v.ideology.vec[d]]\n",
    "        percent_l = l / len(voters)\n",
    "        return min(percent_l, 1 - percent_l)\n",
    "    ll = [compute_dim(d) for d in range(winner.ideology.dim)]\n",
    "    return np.mean(ll)\n",
    "\n",
    "def run_process(processes: List[ElectionConstructor], dim: int, samples: int) -> List[ProcessResult]:\n",
    "    results = {}\n",
    "    for p in processes:\n",
    "        results[p] = ProcessResult(p, dim, Stats())\n",
    "\n",
    "    population = create_population(dim)\n",
    "    for i in range(samples):\n",
    "        voters = population.generate_unit_voters(100)\n",
    "        candidates = generate_candidates(population, 6)\n",
    "        ballots = [Ballot(v, candidates, unit_election_config) for v in voters]\n",
    "        for process in processes:\n",
    "            r = process.run(ballots, set(candidates))\n",
    "            representation = compute_representation(r.winner(), voters)\n",
    "            results[process].stats.update(r.winner(), representation, candidates)\n",
    "\n",
    "    return list(results.values())"
   ],
   "metadata": {
    "collapsed": false,
    "pycharm": {
     "name": "#%%\n"
    }
   }
  },
  {
   "cell_type": "code",
   "execution_count": 10,
   "outputs": [
    {
     "name": "stdout",
     "output_type": "stream",
     "text": [
      "        Hare - 1D  1000  0.64\n",
      "     Minimax - 1D  1000  0.24\n",
      "        Hare - 2D  1000  0.95\n",
      "     Minimax - 2D  1000  0.55\n",
      "        Hare - 3D  1000  1.24\n",
      "     Minimax - 3D  1000  0.84\n",
      "        Hare - 4D  1000  1.53\n",
      "     Minimax - 4D  1000  1.10\n"
     ]
    }
   ],
   "source": [
    "results = []\n",
    "processes = [\n",
    "    ElectionConstructor(constructor=construct_irv, name=\"Hare\"),\n",
    "    ElectionConstructor(constructor=construct_h2h, name=\"Minimax\")\n",
    "]\n",
    "\n",
    "for dim in [1,2,3,4]:\n",
    "    results += run_process(processes, dim, 1000)\n",
    "\n",
    "for r in results:\n",
    "    r.print()"
   ],
   "metadata": {
    "collapsed": false,
    "pycharm": {
     "name": "#%%\n"
    }
   }
  },
  {
   "cell_type": "code",
   "execution_count": 13,
   "outputs": [
    {
     "data": {
      "text/plain": "<Figure size 1440x1440 with 4 Axes>",
      "image/png": "[encoded data removed]"
     },
     "metadata": {
      "needs_background": "light"
     },
     "output_type": "display_data"
    }
   ],
   "source": [
    "import matplotlib.pyplot as plt\n",
    "import numpy as np\n",
    "\n",
    "fig, axes = plt.subplots(nrows=2, ncols=2, figsize=(20,20))\n",
    "fig.suptitle(\"Distance From Origin for Winner With Random Candidates\", color=\"black\", fontsize=22)\n",
    "\n",
    "count = 0\n",
    "irv_results = [r for r in results if r.process.name == \"Hare\"]\n",
    "h2h_results = [r for r in results if r.process.name == \"Minimax\"]\n",
    "\n",
    "for ir, hr in zip(irv_results, h2h_results):\n",
    "    assert(ir.dim == hr.dim)\n",
    "    row = count // 2\n",
    "    col = count % 2\n",
    "    count += 1\n",
    "\n",
    "    axis = axes[row][col]\n",
    "    axis.tick_params(axis='x', colors=\"black\")\n",
    "    axis.tick_params(axis='y', colors=\"black\")\n",
    "    axis.set_xlim([0, 2.5])\n",
    "\n",
    "    iv = [ w.ideology.distance_from_o() for w in ir.stats.results]\n",
    "    hv = [ w.ideology.distance_from_o() for w in hr.stats.results]\n",
    "\n",
    "    axis.hist([iv, hv], bins=30, label=[ir.process.name, hr.process.name])\n",
    "    axis.set_title(\"Dimensionality: %d\" % ir.dim, color=\"black\")\n",
    "\n",
    "    axis.legend()"
   ],
   "metadata": {
    "collapsed": false,
    "pycharm": {
     "name": "#%%\n"
    }
   }
  },
  {
   "cell_type": "code",
   "execution_count": null,
   "outputs": [],
   "source": [],
   "metadata": {
    "collapsed": false,
    "pycharm": {
     "name": "#%%\n"
    }
   }
  }
 ],
 "metadata": {
  "kernelspec": {
   "display_name": "Python 3",
   "language": "python",
   "name": "python3"
  },
  "language_info": {
   "codemirror_mode": {
    "name": "ipython",
    "version": 2
   },
   "file_extension": ".py",
   "mimetype": "text/x-python",
   "name": "python",
   "nbconvert_exporter": "python",
   "pygments_lexer": "ipython2",
   "version": "2.7.6"
  }
 },
 "nbformat": 4,
 "nbformat_minor": 0
}